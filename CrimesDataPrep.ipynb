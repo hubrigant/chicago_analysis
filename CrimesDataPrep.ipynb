{
 "cells": [
  {
   "cell_type": "code",
   "execution_count": 1,
   "metadata": {},
   "outputs": [],
   "source": [
    "# Imports first\n",
    "import csv\n",
    "import time\n",
    "from math import sqrt\n",
    "import geopandas as gpd\n",
    "import pandas as pd\n",
    "import shapely\n",
    "from shapely.ops import nearest_points\n",
    "import numpy as np\n",
    "from scipy import ndimage\n",
    "from scipy.spatial import cKDTree  \n",
    "import pyproj\n",
    "\n",
    "import matplotlib\n",
    "from matplotlib.pyplot import figure\n",
    "import matplotlib.pyplot as plt\n",
    "from matplotlib import cm\n",
    "from matplotlib.ticker import LinearLocator, FormatStrFormatter\n",
    "from matplotlib.colors import ListedColormap\n",
    "from matplotlib.ticker import MaxNLocator"
   ]
  },
  {
   "cell_type": "code",
   "execution_count": 2,
   "metadata": {},
   "outputs": [],
   "source": [
    "# Set notebook display options\n",
    "pd.set_option('display.max_rows', 500)"
   ]
  },
  {
   "cell_type": "code",
   "execution_count": 3,
   "metadata": {},
   "outputs": [],
   "source": [
    "def geod2utm(row):\n",
    "    '''   Convert geodetic coordinates to UTM   '''\n",
    "    #if zn == None :\n",
    "    #    zn = lon2zone (lon)\n",
    "    zn = '16T'\n",
    "    datum = 'WGS84'\n",
    "    lat = row['lat']\n",
    "    lon = row['lon']\n",
    "        \n",
    "    p = pyproj.Proj(proj='utm', zone=zn, ellps=datum)\n",
    "    \n",
    "    X, Y = p(lon, lat)\n",
    "    \n",
    "    #   Return Y, X, Z\n",
    "    # return Y, X, elev\n",
    "    return pd.Series({'UTMx': X, 'UTMy': Y})"
   ]
  },
  {
   "cell_type": "code",
   "execution_count": 4,
   "metadata": {},
   "outputs": [],
   "source": [
    "def make_utm_points(row):\n",
    "    UTMx = row['UTMx']\n",
    "    UTMy = row['UTMy']\n",
    "    UTMPoint = shapely.geometry.Point(UTMx, UTMy)\n",
    "    return UTMPoint"
   ]
  },
  {
   "cell_type": "code",
   "execution_count": 5,
   "metadata": {},
   "outputs": [],
   "source": [
    "# Fix column type in neighborhoods dataset\n",
    "neighborhoods = pd.read_pickle(\"data/neighborhoods.pkl\")"
   ]
  },
  {
   "cell_type": "code",
   "execution_count": 6,
   "metadata": {
    "scrolled": true
   },
   "outputs": [],
   "source": [
    "neighborhoods['area_numbe'] = neighborhoods['area_numbe'].astype('float64')"
   ]
  },
  {
   "cell_type": "code",
   "execution_count": 7,
   "metadata": {},
   "outputs": [],
   "source": [
    "neighborhoods.to_pickle('data/neighborhoods-transformed.pkl')"
   ]
  },
  {
   "cell_type": "code",
   "execution_count": 8,
   "metadata": {},
   "outputs": [],
   "source": [
    "schools = pd.read_csv(\"data/school-locations-2010-2011.csv\", index_col=2)\n",
    "schools['UNIT_ID'] = schools.index\n",
    "schools = schools.astype({'UNIT_ID': int})\n",
    "schools['geometry'] = list(zip(schools['X'], schools['Y']))\n",
    "schools['geodesic geometry'] = schools['geometry'].apply(shapely.geometry.Point)\n",
    "schools = gpd.GeoDataFrame(schools)"
   ]
  },
  {
   "cell_type": "raw",
   "metadata": {},
   "source": [
    "# Enhance school data with UTM coordinates and associated shapely Points\n",
    "schools_df = pd.read_pickle(\"data/schools-transformed.pkl\")"
   ]
  },
  {
   "cell_type": "raw",
   "metadata": {},
   "source": [
    "schools_df.set_index(\"UNIT_ID\")\n",
    "schools_df['UNIT_ID'] = schools_df.index"
   ]
  },
  {
   "cell_type": "raw",
   "metadata": {},
   "source": [
    "schools = gpd.GeoDataFrame(schools_df)"
   ]
  },
  {
   "cell_type": "raw",
   "metadata": {},
   "source": [
    "schools_unary_union = schools.unary_union"
   ]
  },
  {
   "cell_type": "code",
   "execution_count": 9,
   "metadata": {},
   "outputs": [],
   "source": [
    "# Enhance crimes data with community name from the neighborhoods dataset and UTM coordinates/Points\n",
    "crimes_header = ['ID', 'case number', 'date', 'block', 'iucr', 'primary type', 'desc', 'locdesc',\n",
    "                 'arrest', 'domestic', 'beat', 'district', 'ward', 'community area', 'fbi code',\n",
    "                 'x coord', 'y coord', 'year', 'updated on', 'lat', 'lon', 'location'\n",
    "                ]"
   ]
  },
  {
   "cell_type": "code",
   "execution_count": 10,
   "metadata": {},
   "outputs": [],
   "source": [
    "ids = []\n",
    "date = []\n",
    "ptype = []\n",
    "category = []\n",
    "location = []\n",
    "arrest = []\n",
    "community_area = []\n",
    "geometry = []"
   ]
  },
  {
   "cell_type": "code",
   "execution_count": 11,
   "metadata": {},
   "outputs": [],
   "source": [
    "categories: dict = {\"THEFT\": \"property\",\n",
    "                    \"BURGLARY\": \"property\",\n",
    "                    \"MOTOR VEHICLE THEFT\": \"property\",\n",
    "                    \"ARSON\": \"property\",\n",
    "                    \"CRIMINAL DAMAGE\": \"property\",\n",
    "                    \"ROBBERY\": \"property\",\n",
    "                    \"ASSAULT\": \"person\",\n",
    "                    \"BATTERY\": \"person\",\n",
    "                    \"CRIM SEXUAL ASSAULT\": \"person\",\n",
    "                    \"HOMICIDE\": \"person\",\n",
    "                    \"INTIMIDATION\": \"person\",\n",
    "                    \"KIDNAPPING\": \"person\",\n",
    "                    \"OFFENSE INVOLVING CHILDREN\": \"person\",\n",
    "                    \"SEX OFFENSE\": \"person\",\n",
    "                    \"STALKING\": \"person\",\n",
    "                    \"GAMBLING\": \"vice\",\n",
    "                    \"NARCOTICS\": \"vice\",\n",
    "                    \"PROSTITUTION\": \"vice\",\n",
    "                    \"LIQUOR LAW VIOLATION\": \"vice\",\n",
    "                    \"OBSCENITY\": \"vice\",\n",
    "                    \"OTHER NARCOTIC VIOLATION\": \"vice\",\n",
    "                    \"PUBLIC INDECENCY\": \"vice\",\n",
    "                    \"OTHER OFFENSE\": \"other\",\n",
    "                    \"DECEPTIVE PRACTICE\": \"other\",\n",
    "                    \"WEAPONS VIOLATION\": \"other\",\n",
    "                    \"PUBLIC PEACE VIOLATION\": \"other\",\n",
    "                    \"CRIMINAL TRESPASS\": \"other\",\n",
    "                    \"INTERFERENCE WITH PUBLIC OFFICER\": \"other\",\n",
    "                    \"NON-CRIMINAL\": \"other\"\n",
    "                   }"
   ]
  },
  {
   "cell_type": "raw",
   "metadata": {},
   "source": [
    "chunkfiles: list = ['crimes-2010-2011-0.csv', 'crimes-2010-2011-1.csv']\n",
    "\n",
    "min_lat = 45.\n",
    "max_lat = 41.\n",
    "min_lon = -91.\n",
    "max_lon = -91.\n",
    "\n",
    "for chunk in chunkfiles:\n",
    "    with open(chunk, \"r\") as crimes_fh:\n",
    "        crimereader = csv.reader(crimes_fh)\n",
    "        for row in crimereader:\n",
    "            try:\n",
    "                lat = float(row[19])\n",
    "                if lat == 36.619446395:\n",
    "                    continue\n",
    "                lon = float(row[20])\n",
    "                if lat < min_lat:\n",
    "                    min_lat = lat\n",
    "                if lat > max_lat:\n",
    "                    max_lat = lat\n",
    "                if lon < min_lon:\n",
    "                    min_lon = lon\n",
    "                if lon > max_lon:\n",
    "                    max_lon = lon\n",
    "            except Exception as e:\n",
    "                continue\n",
    "            ids.append(row[0])\n",
    "            date.append(row[2].split(\" \")[0])\n",
    "            ptype.append(row[5])\n",
    "            category.append(categories[row[5]])\n",
    "            location.append(row[7])\n",
    "            arrest.append(row[8])\n",
    "            community_area.append(row[9])\n",
    "            geometry.append(shapely.geometry.point.Point(lon, lat))"
   ]
  },
  {
   "cell_type": "code",
   "execution_count": 12,
   "metadata": {
    "scrolled": true
   },
   "outputs": [],
   "source": [
    "crimes1 = pd.read_csv('data/crimes-2010-2011-0.csv', names=crimes_header, header=None)\n",
    "crimes2 = pd.read_csv('data/crimes-2010-2011-1.csv', names=crimes_header, header=None)"
   ]
  },
  {
   "cell_type": "code",
   "execution_count": 13,
   "metadata": {
    "scrolled": true
   },
   "outputs": [],
   "source": [
    "crimes = pd.concat([crimes1, crimes2], names=crimes_header, ignore_index=True)\n",
    "crimes.dropna(subset=['lat', 'lon'], inplace=True)"
   ]
  },
  {
   "cell_type": "code",
   "execution_count": 14,
   "metadata": {},
   "outputs": [],
   "source": [
    "crimes_df = (crimes.merge(neighborhoods[['community', 'area_numbe']], left_on='community area', right_on='area_numbe'))\n",
    "del crimes_df['area_numbe']"
   ]
  },
  {
   "cell_type": "code",
   "execution_count": 15,
   "metadata": {},
   "outputs": [],
   "source": [
    "crimes_df['UTMx'] = np.zeros(len(crimes_df))\n",
    "crimes_df['UTMy'] = np.zeros(len(crimes_df))\n",
    "crimes_df.loc[:, ('UTMx', 'UTMy')] = crimes_df.apply(geod2utm, axis=1)"
   ]
  },
  {
   "cell_type": "code",
   "execution_count": 16,
   "metadata": {},
   "outputs": [],
   "source": [
    "crimes_df['UTMPoint'] = crimes_df.apply(make_utm_points, axis=1)"
   ]
  },
  {
   "cell_type": "code",
   "execution_count": 17,
   "metadata": {},
   "outputs": [],
   "source": [
    "crimes = gpd.GeoDataFrame(crimes_df, geometry='UTMPoint')"
   ]
  },
  {
   "cell_type": "code",
   "execution_count": 18,
   "metadata": {},
   "outputs": [],
   "source": [
    "crimes.crs = {'init' :'epsg:2966'}"
   ]
  },
  {
   "cell_type": "code",
   "execution_count": 19,
   "metadata": {
    "scrolled": true
   },
   "outputs": [],
   "source": [
    "# Create a small extract of data to test performance of algorithms\n",
    "crimes_extract = crimes.iloc[0:100]"
   ]
  },
  {
   "cell_type": "raw",
   "metadata": {},
   "source": [
    "start_time = time.time()\n",
    "crimes['nearest_id'] = crimes.apply(distance_to_nearest,\n",
    "                                    geom_union=schools_unary_union,\n",
    "                                    df1=crimes,\n",
    "                                    df2=schools,\n",
    "                                    src_column='UNIT_ID',\n",
    "                                    geom1_col='UTMPoint',\n",
    "                                    geom2_col='geometry',\n",
    "                                    axis=1)\n",
    "end_time = time.time()\n",
    "print(\"That took {0} seconds\".format(end_time - start_time))"
   ]
  },
  {
   "cell_type": "raw",
   "metadata": {},
   "source": [
    "start_time = time.time()\n",
    "#unpackdf = pd.DataFrame(crimes.apply(distance_to_nearest,\n",
    "crimes['nearest_school_id'], crimes['nearest_school_distance'] = pd.DataFrame(crimes.apply(distance_to_nearest,\n",
    "                                     geom_union=schools_unary_union,\n",
    "                                     df1=crimes,\n",
    "                                     df2=schools,\n",
    "                                     geom1_col='UTMPoint',\n",
    "                                     geom2_col='geometry',\n",
    "                                     src_column='UNIT_ID',\n",
    "                                     axis=1\n",
    "                                    ).tolist(), columns = ['nearest_school_id', 'nearest_school_distance'], index=crimes.index)\n",
    "end_time = time.time()\n",
    "print(\"That took {0} seconds\".format(end_time - start_time))"
   ]
  },
  {
   "cell_type": "code",
   "execution_count": 20,
   "metadata": {},
   "outputs": [],
   "source": [
    "crimes.rename(columns={'community_x': 'community name'}, inplace=True)"
   ]
  },
  {
   "cell_type": "code",
   "execution_count": 21,
   "metadata": {},
   "outputs": [],
   "source": [
    "crimes.to_pickle('data/crimes-transformed.pkl')"
   ]
  },
  {
   "cell_type": "code",
   "execution_count": 22,
   "metadata": {},
   "outputs": [],
   "source": [
    "police_stations_df = pd.read_csv('data/Police_Stations_-_Map.csv')\n",
    "police_stations_df['geodesic geometry'] = police_stations_df.apply(lambda z: shapely.geometry.Point(z.LAT, z.LON), axis=1)"
   ]
  },
  {
   "cell_type": "code",
   "execution_count": 23,
   "metadata": {},
   "outputs": [],
   "source": [
    "police_stations_df = police_stations_df.rename(columns={'LAT': 'lat', 'LON': 'lon'})"
   ]
  },
  {
   "cell_type": "code",
   "execution_count": 24,
   "metadata": {
    "scrolled": true
   },
   "outputs": [],
   "source": [
    "police_stations_df['UTMx'] = np.zeros(len(police_stations_df))\n",
    "police_stations_df['UTMy'] = np.zeros(len(police_stations_df))\n",
    "police_stations_df.loc[:, ('UTMx', 'UTMy')] = police_stations_df.apply(geod2utm, axis=1)"
   ]
  },
  {
   "cell_type": "code",
   "execution_count": 25,
   "metadata": {},
   "outputs": [],
   "source": [
    "police_stations_df['UTMPoint'] = police_stations_df.apply(make_utm_points, axis=1)"
   ]
  },
  {
   "cell_type": "code",
   "execution_count": 26,
   "metadata": {},
   "outputs": [],
   "source": [
    "police_stations = gpd.GeoDataFrame(police_stations_df)"
   ]
  },
  {
   "cell_type": "code",
   "execution_count": 27,
   "metadata": {},
   "outputs": [],
   "source": [
    "police_stations.to_pickle('data/police-stations-transformed.pkl')"
   ]
  },
  {
   "cell_type": "code",
   "execution_count": 28,
   "metadata": {
    "scrolled": true
   },
   "outputs": [],
   "source": [
    "libraries_df = pd.read_csv('data/Libraries_-_Locations__Hours_and_Contact_Information.csv')\n",
    "libraries_df['geodesic geometry'] = libraries_df.apply(lambda z: shapely.geometry.Point(z.lat, z.lon), axis=1)"
   ]
  },
  {
   "cell_type": "code",
   "execution_count": 29,
   "metadata": {},
   "outputs": [],
   "source": [
    "libraries_df[['lat', 'lon']] = libraries_df[['lat', 'lon']].apply(pd.to_numeric)"
   ]
  },
  {
   "cell_type": "code",
   "execution_count": 30,
   "metadata": {},
   "outputs": [],
   "source": [
    "libraries_df['UTMx'] = np.zeros(len(libraries_df))\n",
    "libraries_df['UTMy'] = np.zeros(len(libraries_df))\n",
    "libraries_df.loc[:, ('UTMx', 'UTMy')] = libraries_df.apply(geod2utm, axis=1)\n",
    "libraries_df['UTMPoint'] = libraries_df.apply(make_utm_points, axis=1)"
   ]
  },
  {
   "cell_type": "code",
   "execution_count": 31,
   "metadata": {},
   "outputs": [],
   "source": [
    "libraries = gpd.GeoDataFrame(libraries_df)"
   ]
  },
  {
   "cell_type": "code",
   "execution_count": 32,
   "metadata": {},
   "outputs": [],
   "source": [
    "libraries.to_pickle('data/libraries-transformed.pkl')"
   ]
  },
  {
   "cell_type": "markdown",
   "metadata": {},
   "source": [
    "# Census data"
   ]
  },
  {
   "cell_type": "code",
   "execution_count": 33,
   "metadata": {},
   "outputs": [],
   "source": [
    "census2k_df = pd.read_pickle('data/with_incomes.pkl')\n",
    "census2k_df[['tract_ce_3', 'tract_ce_2']] = census2k_df[['tract_ce_3', 'tract_ce_2']].apply(pd.to_numeric)\n",
    "census2k_df.rename(columns={'tract_ce_3': 'lat', 'tract_ce_2': 'lon'}, inplace=True)"
   ]
  },
  {
   "cell_type": "code",
   "execution_count": 34,
   "metadata": {},
   "outputs": [],
   "source": [
    "census2k_df['geodesic geometry'] = census2k_df.apply(lambda z: shapely.geometry.Point(z.lat,\n",
    "                                                                                      z.lon), axis=1)"
   ]
  },
  {
   "cell_type": "code",
   "execution_count": 35,
   "metadata": {
    "scrolled": true
   },
   "outputs": [],
   "source": [
    "census2k_df['UTMx'] = np.zeros(len(census2k_df))\n",
    "census2k_df['UTMy'] = np.zeros(len(census2k_df))\n",
    "census2k_df.loc[:, ('UTMx', 'UTMy')] = census2k_df.apply(geod2utm, axis=1)\n",
    "census2k_df['UTMPoint'] = census2k_df.apply(make_utm_points, axis=1)\n",
    "census2k_df['income_range'] = census2k_df['income_range'].astype('int64')"
   ]
  },
  {
   "cell_type": "code",
   "execution_count": 36,
   "metadata": {},
   "outputs": [],
   "source": [
    "census2k_df.to_pickle('data/census2k-transformed.pkl')"
   ]
  },
  {
   "cell_type": "code",
   "execution_count": null,
   "metadata": {},
   "outputs": [],
   "source": []
  }
 ],
 "metadata": {
  "kernelspec": {
   "display_name": "Python 3",
   "language": "python",
   "name": "python3"
  },
  "language_info": {
   "codemirror_mode": {
    "name": "ipython",
    "version": 3
   },
   "file_extension": ".py",
   "mimetype": "text/x-python",
   "name": "python",
   "nbconvert_exporter": "python",
   "pygments_lexer": "ipython3",
   "version": "3.7.2"
  }
 },
 "nbformat": 4,
 "nbformat_minor": 2
}
