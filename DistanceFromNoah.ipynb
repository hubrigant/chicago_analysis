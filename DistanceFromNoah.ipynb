{
 "cells": [
  {
   "cell_type": "code",
   "execution_count": 8,
   "metadata": {},
   "outputs": [],
   "source": [
    "import csv\n",
    "import time\n",
    "import sys\n",
    "import pandas as pd\n",
    "import geopandas as gpd\n",
    "import shapely\n",
    "from shapely.ops import nearest_points\n",
    "from scipy import spatial\n",
    "from pyproj import Proj"
   ]
  },
  {
   "cell_type": "code",
   "execution_count": 2,
   "metadata": {},
   "outputs": [
    {
     "name": "stdout",
     "output_type": "stream",
     "text": [
      "(1147, 22)\n",
      "record id                                         8265244\n",
      "case no                                          HT498458\n",
      "date                               09/15/2011 08:00:00 AM\n",
      "primary type                                     BURGLARY\n",
      "description                                UNLAWFUL ENTRY\n",
      "location description                            RESIDENCE\n",
      "arrest                                               True\n",
      "ward                                                   38\n",
      "community area                                         15\n",
      "latitude                                           41.954\n",
      "longitude                                        -87.7719\n",
      "geometry                POINT (41.95396528 -87.771918163)\n",
      "Name: 0, dtype: object\n"
     ]
    }
   ],
   "source": [
    " prefix = 'parallel'\n",
    " filename = 'xaa'\n",
    " colnames = ['record id', 'case no', 'date', 'block', 'iucr','primary type', 'description',\n",
    "             'location description', 'arrest', 'domestic', 'beat', 'district', 'ward', 'community area',\n",
    "             'fbi code', 'x coordinate', 'y coordinate', 'year', 'updated on', 'latitude',\n",
    "             'longitude', 'location']\n",
    " crimesdf = pd.read_csv(\"{0}/{1}\".format(prefix, filename), names=colnames, header=None)\n",
    " crimesdf.dropna(inplace=True)\n",
    " print(crimesdf.shape)\n",
    " del crimesdf['block']\n",
    " del crimesdf['iucr']\n",
    " del crimesdf['domestic']\n",
    " del crimesdf['beat']\n",
    " del crimesdf['district']\n",
    " del crimesdf['fbi code']\n",
    " del crimesdf['x coordinate']\n",
    " del crimesdf['y coordinate']\n",
    " del crimesdf['year']\n",
    " del crimesdf['updated on']\n",
    " del crimesdf['location']\n",
    " \n",
    " crimesdf['geometry'] = list(zip(crimesdf['latitude'], crimesdf['longitude']))\n",
    " crimesdf['geometry'] = crimesdf['geometry'].apply(shapely.geometry.Point)\n",
    " crimesgpd = gpd.GeoDataFrame(crimesdf)\n",
    " print(crimesgpd.iloc[0])"
   ]
  },
  {
   "cell_type": "code",
   "execution_count": 4,
   "metadata": {},
   "outputs": [
    {
     "name": "stdout",
     "output_type": "stream",
     "text": [
      "<class 'geopandas.geodataframe.GeoDataFrame'>\n",
      "Int64Index: 688 entries, 4610 to 4210\n",
      "Data columns (total 10 columns):\n",
      "geometry     688 non-null object\n",
      "SCHOOL_NM    688 non-null object\n",
      "SCHOOL_ID    688 non-null int64\n",
      "SCH_ADDR     688 non-null object\n",
      "GRADE_CAT    688 non-null object\n",
      "GRADES       688 non-null object\n",
      "SCH_TYPE     688 non-null object\n",
      "X            688 non-null float64\n",
      "Y            688 non-null float64\n",
      "UNIT_ID      688 non-null int64\n",
      "dtypes: float64(2), int64(2), object(6)\n",
      "memory usage: 59.1+ KB\n"
     ]
    }
   ],
   "source": [
    "# Read in the school locations data, fix the type of the UNIT_ID column, create shapely points from X/Y\n",
    "# and create the geopandas DataFrame\n",
    "schools = pd.read_csv(\"school-locations-2010-2011.csv\", index_col=2)\n",
    "schools['UNIT_ID'] = schools.index\n",
    "schools = schools.astype({'UNIT_ID': int})\n",
    "schools['geometry'] = list(zip(schools['X'], schools['Y']))\n",
    "schools['geometry'] = schools['geometry'].apply(shapely.geometry.Point)\n",
    "schools = gpd.GeoDataFrame(schools)\n",
    "schools.info()"
   ]
  },
  {
   "cell_type": "raw",
   "metadata": {},
   "source": [
    "D = spatial.distance_matrix(A,B)\n",
    "nn = np.array([[np.min(D[i,]),np.argmin(D[i,])] for i in range(A.shape[0])])"
   ]
  },
  {
   "cell_type": "code",
   "execution_count": 6,
   "metadata": {},
   "outputs": [
    {
     "ename": "ValueError",
     "evalue": "not enough values to unpack (expected 2, got 1)",
     "output_type": "error",
     "traceback": [
      "\u001b[0;31m---------------------------------------------------------------------------\u001b[0m",
      "\u001b[0;31mValueError\u001b[0m                                Traceback (most recent call last)",
      "\u001b[0;32m<ipython-input-6-220cd7bbb29b>\u001b[0m in \u001b[0;36m<module>\u001b[0;34m\u001b[0m\n\u001b[1;32m      1\u001b[0m \u001b[0mstart_time2\u001b[0m \u001b[0;34m=\u001b[0m \u001b[0mtime\u001b[0m\u001b[0;34m.\u001b[0m\u001b[0mtime\u001b[0m\u001b[0;34m(\u001b[0m\u001b[0;34m)\u001b[0m\u001b[0;34m\u001b[0m\u001b[0;34m\u001b[0m\u001b[0m\n\u001b[0;32m----> 2\u001b[0;31m \u001b[0mD\u001b[0m \u001b[0;34m=\u001b[0m \u001b[0mspatial\u001b[0m\u001b[0;34m.\u001b[0m\u001b[0mdistance_matrix\u001b[0m\u001b[0;34m(\u001b[0m\u001b[0mcrimesgpd\u001b[0m\u001b[0;34m[\u001b[0m\u001b[0;34m'geometry'\u001b[0m\u001b[0;34m]\u001b[0m\u001b[0;34m,\u001b[0m \u001b[0mschools\u001b[0m\u001b[0;34m[\u001b[0m\u001b[0;34m'geometry'\u001b[0m\u001b[0;34m]\u001b[0m\u001b[0;34m)\u001b[0m\u001b[0;34m\u001b[0m\u001b[0;34m\u001b[0m\u001b[0m\n\u001b[0m\u001b[1;32m      3\u001b[0m \u001b[0mnn\u001b[0m \u001b[0;34m=\u001b[0m \u001b[0mnp\u001b[0m\u001b[0;34m.\u001b[0m\u001b[0marray\u001b[0m\u001b[0;34m(\u001b[0m\u001b[0;34m[\u001b[0m\u001b[0;34m[\u001b[0m\u001b[0mnp\u001b[0m\u001b[0;34m.\u001b[0m\u001b[0mmin\u001b[0m\u001b[0;34m(\u001b[0m\u001b[0md\u001b[0m\u001b[0;34m[\u001b[0m\u001b[0mi\u001b[0m\u001b[0;34m,\u001b[0m\u001b[0;34m]\u001b[0m\u001b[0;34m)\u001b[0m\u001b[0;34m,\u001b[0m \u001b[0mnp\u001b[0m\u001b[0;34m.\u001b[0m\u001b[0margmin\u001b[0m\u001b[0;34m(\u001b[0m\u001b[0;34m[\u001b[0m\u001b[0mi\u001b[0m\u001b[0;34m,\u001b[0m\u001b[0;34m]\u001b[0m\u001b[0;34m)\u001b[0m\u001b[0;34m]\u001b[0m \u001b[0;32mfor\u001b[0m \u001b[0mi\u001b[0m \u001b[0;32min\u001b[0m \u001b[0mrange\u001b[0m\u001b[0;34m(\u001b[0m\u001b[0mcrimesgpd\u001b[0m\u001b[0;34m[\u001b[0m\u001b[0;34m'geometry'\u001b[0m\u001b[0;34m]\u001b[0m\u001b[0;34m.\u001b[0m\u001b[0mshape\u001b[0m\u001b[0;34m[\u001b[0m\u001b[0;36m0\u001b[0m\u001b[0;34m]\u001b[0m\u001b[0;34m)\u001b[0m\u001b[0;34m]\u001b[0m\u001b[0;34m)\u001b[0m\u001b[0;34m\u001b[0m\u001b[0;34m\u001b[0m\u001b[0m\n\u001b[1;32m      4\u001b[0m \u001b[0mcrimesgpd\u001b[0m\u001b[0;34m[\u001b[0m\u001b[0;34m'scipy distance'\u001b[0m\u001b[0;34m]\u001b[0m \u001b[0;34m=\u001b[0m \u001b[0mnn\u001b[0m\u001b[0;34m[\u001b[0m\u001b[0;34m:\u001b[0m\u001b[0;34m,\u001b[0m\u001b[0;36m0\u001b[0m\u001b[0;34m]\u001b[0m\u001b[0;34m\u001b[0m\u001b[0;34m\u001b[0m\u001b[0m\n\u001b[1;32m      5\u001b[0m \u001b[0mcrimesgpd\u001b[0m\u001b[0;34m[\u001b[0m\u001b[0;34m'scipy distance2'\u001b[0m\u001b[0;34m]\u001b[0m \u001b[0;34m=\u001b[0m \u001b[0mnn\u001b[0m\u001b[0;34m[\u001b[0m\u001b[0;34m:\u001b[0m\u001b[0;34m,\u001b[0m\u001b[0;36m1\u001b[0m\u001b[0;34m]\u001b[0m\u001b[0;34m\u001b[0m\u001b[0;34m\u001b[0m\u001b[0m\n",
      "\u001b[0;32m~/anaconda3/envs/geospatial2/lib/python3.7/site-packages/scipy/spatial/kdtree.py\u001b[0m in \u001b[0;36mdistance_matrix\u001b[0;34m(x, y, p, threshold)\u001b[0m\n\u001b[1;32m    968\u001b[0m \u001b[0;34m\u001b[0m\u001b[0m\n\u001b[1;32m    969\u001b[0m     \u001b[0mx\u001b[0m \u001b[0;34m=\u001b[0m \u001b[0mnp\u001b[0m\u001b[0;34m.\u001b[0m\u001b[0masarray\u001b[0m\u001b[0;34m(\u001b[0m\u001b[0mx\u001b[0m\u001b[0;34m)\u001b[0m\u001b[0;34m\u001b[0m\u001b[0;34m\u001b[0m\u001b[0m\n\u001b[0;32m--> 970\u001b[0;31m     \u001b[0mm\u001b[0m\u001b[0;34m,\u001b[0m \u001b[0mk\u001b[0m \u001b[0;34m=\u001b[0m \u001b[0mx\u001b[0m\u001b[0;34m.\u001b[0m\u001b[0mshape\u001b[0m\u001b[0;34m\u001b[0m\u001b[0;34m\u001b[0m\u001b[0m\n\u001b[0m\u001b[1;32m    971\u001b[0m     \u001b[0my\u001b[0m \u001b[0;34m=\u001b[0m \u001b[0mnp\u001b[0m\u001b[0;34m.\u001b[0m\u001b[0masarray\u001b[0m\u001b[0;34m(\u001b[0m\u001b[0my\u001b[0m\u001b[0;34m)\u001b[0m\u001b[0;34m\u001b[0m\u001b[0;34m\u001b[0m\u001b[0m\n\u001b[1;32m    972\u001b[0m     \u001b[0mn\u001b[0m\u001b[0;34m,\u001b[0m \u001b[0mkk\u001b[0m \u001b[0;34m=\u001b[0m \u001b[0my\u001b[0m\u001b[0;34m.\u001b[0m\u001b[0mshape\u001b[0m\u001b[0;34m\u001b[0m\u001b[0;34m\u001b[0m\u001b[0m\n",
      "\u001b[0;31mValueError\u001b[0m: not enough values to unpack (expected 2, got 1)"
     ]
    }
   ],
   "source": [
    " start_time2 = time.time()\n",
    " D = spatial.distance_matrix(crimesgpd['geometry'], schools['geometry'])\n",
    " nn = np.array([[np.min(d[i,]), np.argmin([i,])] for i in range(crimesgpd['geometry'].shape[0])])\n",
    " crimesgpd['scipy distance'] = nn[:,0]\n",
    " crimesgpd['scipy distance2'] = nn[:,1]\n",
    " end_time = time.time()\n",
    " print(\"That took {0} seconds\".format(end_time - start_time))\n",
    " print(crimesgpd.head())"
   ]
  },
  {
   "cell_type": "code",
   "execution_count": 7,
   "metadata": {},
   "outputs": [
    {
     "data": {
      "text/plain": [
       "1147"
      ]
     },
     "execution_count": 7,
     "metadata": {},
     "output_type": "execute_result"
    }
   ],
   "source": [
    "len(crimesgpd)"
   ]
  },
  {
   "cell_type": "code",
   "execution_count": null,
   "metadata": {},
   "outputs": [],
   "source": []
  }
 ],
 "metadata": {
  "kernelspec": {
   "display_name": "Python 3",
   "language": "python",
   "name": "python3"
  },
  "language_info": {
   "codemirror_mode": {
    "name": "ipython",
    "version": 3
   },
   "file_extension": ".py",
   "mimetype": "text/x-python",
   "name": "python",
   "nbconvert_exporter": "python",
   "pygments_lexer": "ipython3",
   "version": "3.7.2"
  }
 },
 "nbformat": 4,
 "nbformat_minor": 2
}
