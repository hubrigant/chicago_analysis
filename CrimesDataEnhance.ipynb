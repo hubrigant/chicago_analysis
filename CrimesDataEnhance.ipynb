{
 "cells": [
  {
   "cell_type": "code",
   "execution_count": 44,
   "metadata": {},
   "outputs": [],
   "source": [
    "# Imports first\n",
    "import csv\n",
    "import time\n",
    "from math import sqrt\n",
    "import geopandas as gpd\n",
    "import pandas as pd\n",
    "import shapely\n",
    "from shapely.ops import nearest_points\n",
    "import numpy as np\n",
    "from scipy import spatial\n",
    "import pyproj"
   ]
  },
  {
   "cell_type": "code",
   "execution_count": 2,
   "metadata": {},
   "outputs": [],
   "source": [
    "# Set notebook display options\n",
    "pd.set_option('display.max_rows', 1000)"
   ]
  },
  {
   "cell_type": "code",
   "execution_count": 3,
   "metadata": {},
   "outputs": [],
   "source": [
    "# Do housekeeping between runs\n",
    "objects = ['neighborhoods',\n",
    "           'schools',\n",
    "           'schools_df',\n",
    "           'schools_unary_union',\n",
    "           'crimes_extract',\n",
    "           'crimes_header',\n",
    "           'crimes_df',\n",
    "           'crimes',\n",
    "           'police_stations',\n",
    "           'police_stations_df',\n",
    "           'libraries',\n",
    "           'libraries_df'\n",
    "          ]\n",
    "\n",
    "for thing in objects:\n",
    "    try:\n",
    "        del thing\n",
    "    except NameError as e:\n",
    "        print(\"Couldn't delete {0}\".format(thing))\n",
    "        print(e)\n",
    "        continue"
   ]
  },
  {
   "cell_type": "code",
   "execution_count": 100,
   "metadata": {},
   "outputs": [],
   "source": [
    "def find_nearest(row, dest_df=None, geom1_col='geometry', geom2_col='geometry'):\n",
    "    if dest_df is None:\n",
    "        raise ValueError('Destination DataFrame (df2) argument not provided')\n",
    "    # D = spatial.distance_matrix([[pt.x, pt.y] for pt in df1[geom1_col]],\n",
    "    D = spatial.distance_matrix([[row[geom1_col].x, row[geom1_col].y]],\n",
    "                                [[pt.x, pt.y] for pt in dest_df[geom2_col]])\n",
    "    # nn = np.array([[np.min(D[i,]), np.argmin(D[i,])] for i in range(df1[geom1_col].shape[0])])\n",
    "    nn = np.array([[np.min(D[0,]), np.argmin(D[0,])]])\n",
    "    #crimesgpd['school distance'] = nn[:,0]\n",
    "    #crimesgpd['nearest school'] = nn[:,1]\n",
    "    distance = float(nn[:,0][0])\n",
    "    nearest_index = int(nn[:,1][0])\n",
    "    #return pd.Series({'nearest idx': nearest_index, 'distance to nearest': distance})\n",
    "    return nearest_index, distance"
   ]
  },
  {
   "cell_type": "code",
   "execution_count": 7,
   "metadata": {},
   "outputs": [],
   "source": [
    "def geod2utm(row):\n",
    "    '''   Convert geodetic coordinates to UTM   '''\n",
    "    #if zn == None :\n",
    "    #    zn = lon2zone (lon)\n",
    "    zn = '16T'\n",
    "    datum = 'WGS84'\n",
    "    lat = row['lat']\n",
    "    lon = row['lon']\n",
    "        \n",
    "    p = pyproj.Proj(proj='utm', zone=zn, ellps=datum)\n",
    "    \n",
    "    X, Y = p(lon, lat)\n",
    "    \n",
    "    #   Return Y, X, Z\n",
    "    # return Y, X, elev\n",
    "    return pd.Series({'UTMx': X, 'UTMy': Y})"
   ]
  },
  {
   "cell_type": "code",
   "execution_count": 8,
   "metadata": {},
   "outputs": [],
   "source": [
    "def make_utm_points(row):\n",
    "    UTMx = row['UTMx']\n",
    "    UTMy = row['UTMy']\n",
    "    UTMPoint = shapely.geometry.Point(UTMx, UTMy)\n",
    "    return UTMPoint"
   ]
  },
  {
   "cell_type": "markdown",
   "metadata": {},
   "source": [
    "# Enhance crimes data with nearest school ID and distance to it"
   ]
  },
  {
   "cell_type": "code",
   "execution_count": 9,
   "metadata": {},
   "outputs": [],
   "source": [
    "schools_df = pd.read_pickle(\"schools-transformed.pkl\")"
   ]
  },
  {
   "cell_type": "code",
   "execution_count": 10,
   "metadata": {},
   "outputs": [],
   "source": [
    "neighborhoods = pd.read_pickle(\"neighborhoods.pkl\")"
   ]
  },
  {
   "cell_type": "raw",
   "metadata": {},
   "source": [
    "crimes_df = pd.read_pickle('crimes-transformed.pkl')"
   ]
  },
  {
   "cell_type": "code",
   "execution_count": 11,
   "metadata": {},
   "outputs": [],
   "source": [
    "crimes_header = ['ID', 'case number', 'date', 'block', 'iucr', 'primary type', 'desc', 'locdesc',\n",
    "                 'arrest', 'domestic', 'beat', 'district', 'ward', 'community area', 'fbi code',\n",
    "                 'x coord', 'y coord', 'year', 'updated on', 'lat', 'lon', 'location'\n",
    "                ]"
   ]
  },
  {
   "cell_type": "code",
   "execution_count": 12,
   "metadata": {
    "scrolled": true
   },
   "outputs": [],
   "source": [
    "crimes1_df = pd.read_csv('crimes-2010-2011-0.csv', names=crimes_header, header=None)\n",
    "crimes2_df = pd.read_csv('crimes-2010-2011-1.csv', names=crimes_header, header=None)\n",
    "crimes_df = pd.concat([crimes1_df, crimes2_df], names=crimes_header, ignore_index=True)"
   ]
  },
  {
   "cell_type": "code",
   "execution_count": 13,
   "metadata": {},
   "outputs": [],
   "source": [
    "crimes_df.dropna(subset=['lat', 'lon'], inplace=True)"
   ]
  },
  {
   "cell_type": "code",
   "execution_count": 14,
   "metadata": {
    "scrolled": true
   },
   "outputs": [],
   "source": [
    "crimes_df = (crimes_df.merge(neighborhoods[['community', 'area_numbe']], left_on='community area', right_on='area_numbe', how='left'))\n",
    "del crimes_df['area_numbe']"
   ]
  },
  {
   "cell_type": "code",
   "execution_count": 15,
   "metadata": {},
   "outputs": [
    {
     "name": "stdout",
     "output_type": "stream",
     "text": [
      "<class 'pandas.core.frame.DataFrame'>\n",
      "Int64Index: 721377 entries, 0 to 721376\n",
      "Data columns (total 23 columns):\n",
      "ID                721377 non-null int64\n",
      "case number       721376 non-null object\n",
      "date              721377 non-null object\n",
      "block             721377 non-null object\n",
      "iucr              721377 non-null object\n",
      "primary type      721377 non-null object\n",
      "desc              721377 non-null object\n",
      "locdesc           721148 non-null object\n",
      "arrest            721377 non-null bool\n",
      "domestic          721377 non-null bool\n",
      "beat              721377 non-null int64\n",
      "district          721377 non-null int64\n",
      "ward              721345 non-null float64\n",
      "community area    721019 non-null float64\n",
      "fbi code          721377 non-null object\n",
      "x coord           721377 non-null float64\n",
      "y coord           721377 non-null float64\n",
      "year              721377 non-null int64\n",
      "updated on        721377 non-null object\n",
      "lat               721377 non-null float64\n",
      "lon               721377 non-null float64\n",
      "location          721377 non-null object\n",
      "community name    721011 non-null object\n",
      "dtypes: bool(2), float64(6), int64(4), object(11)\n",
      "memory usage: 122.5+ MB\n"
     ]
    }
   ],
   "source": [
    "crimes_df.rename(columns={'community': 'community name'}, inplace=True)"
   ]
  },
  {
   "cell_type": "code",
   "execution_count": 16,
   "metadata": {},
   "outputs": [],
   "source": [
    "crimes_df['UTMx'] = np.zeros(len(crimes_df))\n",
    "crimes_df['UTMy'] = np.zeros(len(crimes_df))\n",
    "crimes_df.loc[:, ('UTMx', 'UTMy')] = crimes_df.apply(geod2utm, axis=1)"
   ]
  },
  {
   "cell_type": "code",
   "execution_count": 17,
   "metadata": {
    "scrolled": true
   },
   "outputs": [],
   "source": [
    "crimes_df['UTMPoint'] = crimes_df.apply(make_utm_points, axis=1)"
   ]
  },
  {
   "cell_type": "code",
   "execution_count": 19,
   "metadata": {},
   "outputs": [],
   "source": [
    "crimes = gpd.GeoDataFrame(crimes_df, geometry='UTMPoint')"
   ]
  },
  {
   "cell_type": "code",
   "execution_count": 20,
   "metadata": {},
   "outputs": [],
   "source": [
    "crimes.crs = {'init' :'epsg:2966'}"
   ]
  },
  {
   "cell_type": "code",
   "execution_count": 21,
   "metadata": {},
   "outputs": [],
   "source": [
    "# Create a small extract of data to test performance of algorithms\n",
    "crimes_extract = crimes.iloc[0:100]"
   ]
  },
  {
   "cell_type": "code",
   "execution_count": 22,
   "metadata": {},
   "outputs": [
    {
     "data": {
      "text/html": [
       "<div>\n",
       "<style scoped>\n",
       "    .dataframe tbody tr th:only-of-type {\n",
       "        vertical-align: middle;\n",
       "    }\n",
       "\n",
       "    .dataframe tbody tr th {\n",
       "        vertical-align: top;\n",
       "    }\n",
       "\n",
       "    .dataframe thead th {\n",
       "        text-align: right;\n",
       "    }\n",
       "</style>\n",
       "<table border=\"1\" class=\"dataframe\">\n",
       "  <thead>\n",
       "    <tr style=\"text-align: right;\">\n",
       "      <th></th>\n",
       "      <th>geodesic geometry</th>\n",
       "      <th>SCHOOL_NM</th>\n",
       "      <th>SCHOOL_ID</th>\n",
       "      <th>SCH_ADDR</th>\n",
       "      <th>GRADE_CAT</th>\n",
       "      <th>SCH_TYPE</th>\n",
       "      <th>lon</th>\n",
       "      <th>lat</th>\n",
       "      <th>UNIT_ID</th>\n",
       "      <th>UTMx</th>\n",
       "      <th>UTMy</th>\n",
       "      <th>geometry</th>\n",
       "    </tr>\n",
       "    <tr>\n",
       "      <th>UNIT_ID</th>\n",
       "      <th></th>\n",
       "      <th></th>\n",
       "      <th></th>\n",
       "      <th></th>\n",
       "      <th></th>\n",
       "      <th></th>\n",
       "      <th></th>\n",
       "      <th></th>\n",
       "      <th></th>\n",
       "      <th></th>\n",
       "      <th></th>\n",
       "      <th></th>\n",
       "    </tr>\n",
       "  </thead>\n",
       "  <tbody>\n",
       "    <tr>\n",
       "      <th>4610</th>\n",
       "      <td>POINT (-87.5748539059 41.7483660139)</td>\n",
       "      <td>MANN</td>\n",
       "      <td>610052</td>\n",
       "      <td>8050 S CHAPPEL AV</td>\n",
       "      <td>ES</td>\n",
       "      <td>Elementary School</td>\n",
       "      <td>-87.574854</td>\n",
       "      <td>41.748366</td>\n",
       "      <td>4610</td>\n",
       "      <td>452204.771983</td>\n",
       "      <td>4.621998e+06</td>\n",
       "      <td>POINT (452204.7719826915 4621997.860158128)</td>\n",
       "    </tr>\n",
       "    <tr>\n",
       "      <th>5180</th>\n",
       "      <td>POINT (-87.57284397069999 41.768650177)</td>\n",
       "      <td>OKEEFFE</td>\n",
       "      <td>610103</td>\n",
       "      <td>6940 S MERRILL AV</td>\n",
       "      <td>ES</td>\n",
       "      <td>Elementary School</td>\n",
       "      <td>-87.572844</td>\n",
       "      <td>41.768650</td>\n",
       "      <td>5180</td>\n",
       "      <td>452386.881166</td>\n",
       "      <td>4.624249e+06</td>\n",
       "      <td>POINT (452386.881166386 4624248.790945017)</td>\n",
       "    </tr>\n",
       "    <tr>\n",
       "      <th>5300</th>\n",
       "      <td>POINT (-87.5829920307 41.768594283)</td>\n",
       "      <td>PARKSIDE</td>\n",
       "      <td>610116</td>\n",
       "      <td>6938 S EAST END AV</td>\n",
       "      <td>ES</td>\n",
       "      <td>Elementary School</td>\n",
       "      <td>-87.582992</td>\n",
       "      <td>41.768594</td>\n",
       "      <td>5300</td>\n",
       "      <td>451543.358669</td>\n",
       "      <td>4.624248e+06</td>\n",
       "      <td>POINT (451543.3586693273 4624248.25277694)</td>\n",
       "    </tr>\n",
       "    <tr>\n",
       "      <th>5440</th>\n",
       "      <td>POINT (-87.60800008530001 41.740365734)</td>\n",
       "      <td>PIRIE</td>\n",
       "      <td>610130</td>\n",
       "      <td>650 E 85TH ST</td>\n",
       "      <td>ES</td>\n",
       "      <td>Elementary School</td>\n",
       "      <td>-87.608000</td>\n",
       "      <td>41.740366</td>\n",
       "      <td>5440</td>\n",
       "      <td>449442.603124</td>\n",
       "      <td>4.621129e+06</td>\n",
       "      <td>POINT (449442.6031235668 4621128.574748854)</td>\n",
       "    </tr>\n",
       "    <tr>\n",
       "      <th>5610</th>\n",
       "      <td>POINT (-87.60015764629999 41.764223475)</td>\n",
       "      <td>REVERE</td>\n",
       "      <td>610146</td>\n",
       "      <td>1010 E 72ND ST</td>\n",
       "      <td>ES</td>\n",
       "      <td>Elementary School</td>\n",
       "      <td>-87.600158</td>\n",
       "      <td>41.764223</td>\n",
       "      <td>5610</td>\n",
       "      <td>450113.209645</td>\n",
       "      <td>4.623773e+06</td>\n",
       "      <td>POINT (450113.2096448886 4623772.796898597)</td>\n",
       "    </tr>\n",
       "  </tbody>\n",
       "</table>\n",
       "</div>"
      ],
      "text/plain": [
       "                               geodesic geometry SCHOOL_NM  SCHOOL_ID  \\\n",
       "UNIT_ID                                                                 \n",
       "4610        POINT (-87.5748539059 41.7483660139)      MANN     610052   \n",
       "5180     POINT (-87.57284397069999 41.768650177)   OKEEFFE     610103   \n",
       "5300         POINT (-87.5829920307 41.768594283)  PARKSIDE     610116   \n",
       "5440     POINT (-87.60800008530001 41.740365734)     PIRIE     610130   \n",
       "5610     POINT (-87.60015764629999 41.764223475)    REVERE     610146   \n",
       "\n",
       "                   SCH_ADDR GRADE_CAT           SCH_TYPE        lon  \\\n",
       "UNIT_ID                                                               \n",
       "4610      8050 S CHAPPEL AV        ES  Elementary School -87.574854   \n",
       "5180      6940 S MERRILL AV        ES  Elementary School -87.572844   \n",
       "5300     6938 S EAST END AV        ES  Elementary School -87.582992   \n",
       "5440          650 E 85TH ST        ES  Elementary School -87.608000   \n",
       "5610         1010 E 72ND ST        ES  Elementary School -87.600158   \n",
       "\n",
       "               lat  UNIT_ID           UTMx          UTMy  \\\n",
       "UNIT_ID                                                    \n",
       "4610     41.748366     4610  452204.771983  4.621998e+06   \n",
       "5180     41.768650     5180  452386.881166  4.624249e+06   \n",
       "5300     41.768594     5300  451543.358669  4.624248e+06   \n",
       "5440     41.740366     5440  449442.603124  4.621129e+06   \n",
       "5610     41.764223     5610  450113.209645  4.623773e+06   \n",
       "\n",
       "                                            geometry  \n",
       "UNIT_ID                                               \n",
       "4610     POINT (452204.7719826915 4621997.860158128)  \n",
       "5180      POINT (452386.881166386 4624248.790945017)  \n",
       "5300      POINT (451543.3586693273 4624248.25277694)  \n",
       "5440     POINT (449442.6031235668 4621128.574748854)  \n",
       "5610     POINT (450113.2096448886 4623772.796898597)  "
      ]
     },
     "execution_count": 22,
     "metadata": {},
     "output_type": "execute_result"
    }
   ],
   "source": [
    "schools_df.set_index(\"UNIT_ID\")\n",
    "schools_df['UNIT_ID'] = schools_df.index"
   ]
  },
  {
   "cell_type": "code",
   "execution_count": 23,
   "metadata": {},
   "outputs": [],
   "source": [
    "schools = gpd.GeoDataFrame(schools_df)"
   ]
  },
  {
   "cell_type": "code",
   "execution_count": 24,
   "metadata": {},
   "outputs": [],
   "source": [
    "schools_unary_union = schools.unary_union"
   ]
  },
  {
   "cell_type": "code",
   "execution_count": 25,
   "metadata": {
    "scrolled": true
   },
   "outputs": [
    {
     "name": "stdout",
     "output_type": "stream",
     "text": [
      "<class 'geopandas.geodataframe.GeoDataFrame'>\n",
      "Int64Index: 100 entries, 0 to 99\n",
      "Data columns (total 26 columns):\n",
      "ID                100 non-null int64\n",
      "case number       100 non-null object\n",
      "date              100 non-null object\n",
      "block             100 non-null object\n",
      "iucr              100 non-null object\n",
      "primary type      100 non-null object\n",
      "desc              100 non-null object\n",
      "locdesc           100 non-null object\n",
      "arrest            100 non-null bool\n",
      "domestic          100 non-null bool\n",
      "beat              100 non-null int64\n",
      "district          100 non-null int64\n",
      "ward              100 non-null float64\n",
      "community area    100 non-null float64\n",
      "fbi code          100 non-null object\n",
      "x coord           100 non-null float64\n",
      "y coord           100 non-null float64\n",
      "year              100 non-null int64\n",
      "updated on        100 non-null object\n",
      "lat               100 non-null float64\n",
      "lon               100 non-null float64\n",
      "location          100 non-null object\n",
      "community name    100 non-null object\n",
      "UTMx              100 non-null float64\n",
      "UTMy              100 non-null float64\n",
      "UTMPoint          100 non-null object\n",
      "dtypes: bool(2), float64(8), int64(4), object(12)\n",
      "memory usage: 19.7+ KB\n"
     ]
    }
   ],
   "source": [
    "crimes_extract = crimes.iloc[0:100,]"
   ]
  },
  {
   "cell_type": "code",
   "execution_count": 26,
   "metadata": {
    "scrolled": true
   },
   "outputs": [
    {
     "name": "stdout",
     "output_type": "stream",
     "text": [
      "That took 1.2240447998046875 seconds\n"
     ]
    }
   ],
   "source": [
    "start_time = time.time()\n",
    "crimes_extract = pd.concat([crimes_extract, pd.DataFrame(crimes_extract.apply(distance_to_nearest,\n",
    "                                     geom_union=schools_unary_union,\n",
    "                                     df1=crimes_extract,\n",
    "                                     df2=schools,\n",
    "                                     geom1_col='UTMPoint',\n",
    "                                     geom2_col='geometry',\n",
    "                                     src_column='UNIT_ID',\n",
    "                                     axis=1\n",
    "                                    ).tolist(),\n",
    "             columns = ['nearest_school_id', 'nearest_school_distance'],\n",
    "             index=crimes_extract.index)], axis=1)\n",
    "end_time = time.time()\n",
    "print(\"That took {0} seconds\".format(end_time - start_time))"
   ]
  },
  {
   "cell_type": "code",
   "execution_count": 28,
   "metadata": {},
   "outputs": [],
   "source": [
    "crimes_extract.to_pickle('crimes_extract.pkl')"
   ]
  },
  {
   "cell_type": "code",
   "execution_count": 35,
   "metadata": {},
   "outputs": [],
   "source": [
    "crimes_extract = crimes_extract.set_geometry('UTMPoint')\n",
    "schools = schools.set_geometry('geometry')"
   ]
  },
  {
   "cell_type": "code",
   "execution_count": 104,
   "metadata": {
    "scrolled": false
   },
   "outputs": [
    {
     "name": "stdout",
     "output_type": "stream",
     "text": [
      "That took 7781.184709072113 seconds\n"
     ]
    }
   ],
   "source": [
    "start_time = time.time()\n",
    "crimes = pd.concat([crimes, pd.DataFrame(crimes.apply(find_nearest,\n",
    "                                                      dest_df=schools,\n",
    "                                                      geom1_col='UTMPoint',\n",
    "                                                      geom2_col='geometry',\n",
    "                                                      axis=1\n",
    "                                                     ).tolist(),\n",
    "                                        columns=['nearest_school_id', 'nearest_school_distance'],\n",
    "                                        index=crimes.index)], axis=1)\n",
    "end_time = time.time()\n",
    "print(\"That took {0} seconds\".format(end_time - start_time))"
   ]
  },
  {
   "cell_type": "code",
   "execution_count": 127,
   "metadata": {},
   "outputs": [],
   "source": [
    "crimes.to_pickle('crimes-school-enhanced.pkl')"
   ]
  },
  {
   "cell_type": "markdown",
   "metadata": {},
   "source": [
    "# Enhance crimes with identity and distance to nearest police station"
   ]
  },
  {
   "cell_type": "code",
   "execution_count": 132,
   "metadata": {},
   "outputs": [
    {
     "data": {
      "text/html": [
       "<div>\n",
       "<style scoped>\n",
       "    .dataframe tbody tr th:only-of-type {\n",
       "        vertical-align: middle;\n",
       "    }\n",
       "\n",
       "    .dataframe tbody tr th {\n",
       "        vertical-align: top;\n",
       "    }\n",
       "\n",
       "    .dataframe thead th {\n",
       "        text-align: right;\n",
       "    }\n",
       "</style>\n",
       "<table border=\"1\" class=\"dataframe\">\n",
       "  <thead>\n",
       "    <tr style=\"text-align: right;\">\n",
       "      <th></th>\n",
       "      <th>DISTRICT</th>\n",
       "      <th>ADDRESS</th>\n",
       "      <th>CITY</th>\n",
       "      <th>STATE</th>\n",
       "      <th>ZIP</th>\n",
       "      <th>WEBSITE</th>\n",
       "      <th>LAT</th>\n",
       "      <th>LON</th>\n",
       "    </tr>\n",
       "  </thead>\n",
       "  <tbody>\n",
       "    <tr>\n",
       "      <th>0</th>\n",
       "      <td>1</td>\n",
       "      <td>1718 S State St</td>\n",
       "      <td>Chicago</td>\n",
       "      <td>IL</td>\n",
       "      <td>60616</td>\n",
       "      <td>http://home.chicagopolice.org/community/distri...</td>\n",
       "      <td>41.858373</td>\n",
       "      <td>-87.627356</td>\n",
       "    </tr>\n",
       "    <tr>\n",
       "      <th>1</th>\n",
       "      <td>2</td>\n",
       "      <td>5101 S Wentworth Ave</td>\n",
       "      <td>Chicago</td>\n",
       "      <td>IL</td>\n",
       "      <td>60609</td>\n",
       "      <td>http://home.chicagopolice.org/community/distri...</td>\n",
       "      <td>41.801811</td>\n",
       "      <td>-87.630560</td>\n",
       "    </tr>\n",
       "    <tr>\n",
       "      <th>2</th>\n",
       "      <td>3</td>\n",
       "      <td>7040 S Cottage Grove Ave</td>\n",
       "      <td>Chicago</td>\n",
       "      <td>IL</td>\n",
       "      <td>60637</td>\n",
       "      <td>http://home.chicagopolice.org/community/distri...</td>\n",
       "      <td>41.766431</td>\n",
       "      <td>-87.605748</td>\n",
       "    </tr>\n",
       "    <tr>\n",
       "      <th>3</th>\n",
       "      <td>4</td>\n",
       "      <td>2255 E 103rd St</td>\n",
       "      <td>Chicago</td>\n",
       "      <td>IL</td>\n",
       "      <td>60617</td>\n",
       "      <td>http://home.chicagopolice.org/community/distri...</td>\n",
       "      <td>41.707933</td>\n",
       "      <td>-87.568349</td>\n",
       "    </tr>\n",
       "    <tr>\n",
       "      <th>4</th>\n",
       "      <td>5</td>\n",
       "      <td>727 E 111th St</td>\n",
       "      <td>Chicago</td>\n",
       "      <td>IL</td>\n",
       "      <td>60628</td>\n",
       "      <td>http://home.chicagopolice.org/community/distri...</td>\n",
       "      <td>41.692723</td>\n",
       "      <td>-87.604506</td>\n",
       "    </tr>\n",
       "  </tbody>\n",
       "</table>\n",
       "</div>"
      ],
      "text/plain": [
       "  DISTRICT                   ADDRESS     CITY STATE    ZIP  \\\n",
       "0        1           1718 S State St  Chicago    IL  60616   \n",
       "1        2      5101 S Wentworth Ave  Chicago    IL  60609   \n",
       "2        3  7040 S Cottage Grove Ave  Chicago    IL  60637   \n",
       "3        4           2255 E 103rd St  Chicago    IL  60617   \n",
       "4        5            727 E 111th St  Chicago    IL  60628   \n",
       "\n",
       "                                             WEBSITE        LAT        LON  \n",
       "0  http://home.chicagopolice.org/community/distri...  41.858373 -87.627356  \n",
       "1  http://home.chicagopolice.org/community/distri...  41.801811 -87.630560  \n",
       "2  http://home.chicagopolice.org/community/distri...  41.766431 -87.605748  \n",
       "3  http://home.chicagopolice.org/community/distri...  41.707933 -87.568349  \n",
       "4  http://home.chicagopolice.org/community/distri...  41.692723 -87.604506  "
      ]
     },
     "execution_count": 132,
     "metadata": {},
     "output_type": "execute_result"
    }
   ],
   "source": [
    "police_stations_df = pd.read_csv('data/Police_Stations_-_Map.csv')"
   ]
  },
  {
   "cell_type": "code",
   "execution_count": 134,
   "metadata": {},
   "outputs": [],
   "source": [
    "police_stations_df['geometry'] = police_stations_df.apply(lambda z: shapely.geometry.Point(z.LAT, z.LON), axis=1)"
   ]
  },
  {
   "cell_type": "code",
   "execution_count": 142,
   "metadata": {},
   "outputs": [],
   "source": [
    "police_stations_df = pd.read_pickle('data/police-stations-transformed.pkl')\n",
    "police_stations = gpd.GeoDataFrame(police_stations_df)"
   ]
  },
  {
   "cell_type": "code",
   "execution_count": 144,
   "metadata": {},
   "outputs": [
    {
     "name": "stdout",
     "output_type": "stream",
     "text": [
      "That took 349.4852330684662 seconds\n"
     ]
    }
   ],
   "source": [
    "start_time = time.time()\n",
    "crimes = pd.concat([crimes, pd.DataFrame(crimes.apply(find_nearest,\n",
    "                                                      dest_df=police_stations,\n",
    "                                                      geom1_col='UTMPoint',\n",
    "                                                      geom2_col='UTMPoint',\n",
    "                                                      axis=1\n",
    "                                                     ).tolist(),\n",
    "                                        columns=['nearest_station_id', 'nearest_station_distance'],\n",
    "                                        index=crimes.index)], axis=1)\n",
    "end_time = time.time()\n",
    "print(\"That took {0} seconds\".format(end_time - start_time))"
   ]
  },
  {
   "cell_type": "markdown",
   "metadata": {},
   "source": [
    "# Enhance crimes with identity and distance to nearest library"
   ]
  },
  {
   "cell_type": "code",
   "execution_count": 150,
   "metadata": {},
   "outputs": [],
   "source": [
    "libraries_df = None\n",
    "libraries = None\n",
    "libraries_df = pd.read_pickle('data/libraries.pkl')"
   ]
  },
  {
   "cell_type": "code",
   "execution_count": 151,
   "metadata": {},
   "outputs": [],
   "source": [
    "libraries = gpd.GeoDataFrame(libraries_df)"
   ]
  },
  {
   "cell_type": "code",
   "execution_count": 157,
   "metadata": {},
   "outputs": [
    {
     "name": "stdout",
     "output_type": "stream",
     "text": [
      "That took 1031.4299490451813 seconds\n"
     ]
    }
   ],
   "source": [
    "start_time = time.time()\n",
    "crimes = pd.concat([crimes, pd.DataFrame(crimes.apply(find_nearest,\n",
    "                                                      dest_df=libraries,\n",
    "                                                      geom1_col='UTMPoint',\n",
    "                                                      geom2_col='UTMPoint',\n",
    "                                                      axis=1\n",
    "                                                     ).tolist(),\n",
    "                                        columns=['nearest_library_id', 'nearest_library_distance'],\n",
    "                                        index=crimes.index)], axis=1)\n",
    "end_time = time.time()\n",
    "print(\"That took {0} seconds\".format(end_time - start_time))"
   ]
  },
  {
   "cell_type": "code",
   "execution_count": 159,
   "metadata": {},
   "outputs": [],
   "source": [
    "crimes.to_pickle('data/crimes-enhanced.pkl')"
   ]
  }
 ],
 "metadata": {
  "kernelspec": {
   "display_name": "Python 3",
   "language": "python",
   "name": "python3"
  },
  "language_info": {
   "codemirror_mode": {
    "name": "ipython",
    "version": 3
   },
   "file_extension": ".py",
   "mimetype": "text/x-python",
   "name": "python",
   "nbconvert_exporter": "python",
   "pygments_lexer": "ipython3",
   "version": "3.7.2"
  }
 },
 "nbformat": 4,
 "nbformat_minor": 2
}
