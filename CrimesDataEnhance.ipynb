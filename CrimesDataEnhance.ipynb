{
 "cells": [
  {
   "cell_type": "code",
   "execution_count": 1,
   "metadata": {},
   "outputs": [],
   "source": [
    "# Imports first\n",
    "import csv\n",
    "import time\n",
    "from math import sqrt\n",
    "import geopandas as gpd\n",
    "import pandas as pd\n",
    "import shapely\n",
    "from shapely.ops import nearest_points\n",
    "import numpy as np\n",
    "from scipy import ndimage\n",
    "from scipy.spatial import cKDTree  \n",
    "import pyproj"
   ]
  },
  {
   "cell_type": "code",
   "execution_count": 2,
   "metadata": {},
   "outputs": [],
   "source": [
    "# Set notebook display options\n",
    "pd.set_option('display.max_rows', 500)"
   ]
  },
  {
   "cell_type": "code",
   "execution_count": 3,
   "metadata": {},
   "outputs": [],
   "source": [
    "# Do housekeeping between runs\n",
    "objects = ['neighborhoods',\n",
    "           'schools',\n",
    "           'schools_df',\n",
    "           'schools_unary_union',\n",
    "           'crimes_extract',\n",
    "           'crimes_header',\n",
    "           'crimes_df',\n",
    "           'crimes']\n",
    "\n",
    "for thing in objects:\n",
    "    try:\n",
    "        del thing\n",
    "    except NameError as e:\n",
    "        print(\"Couldn't delete {0}\".format(thing))\n",
    "        print(e)\n",
    "        continue"
   ]
  },
  {
   "cell_type": "code",
   "execution_count": 4,
   "metadata": {},
   "outputs": [],
   "source": [
    "def distance_to_nearest(row, geom_union, df1, df2, geom1_col='geometry', geom2_col='geometry', src_column=None):\n",
    "     \"\"\"Find the nearest point and return the corresponding value from specified column.\"\"\"\n",
    "     # Find the geometry that is closest\n",
    "     nearest = df2[geom2_col] == nearest_points(row[geom1_col], geom_union)[1]\n",
    "     # Get the corresponding value from df2 (matching is based on the geometry)\n",
    "     nearest_id = df2[nearest][src_column].get_values()[0]\n",
    "     start_point: shapely.geometry.Point = row[geom1_col]\n",
    "     end_point_series: pd.Series = df2[nearest][geom2_col]\n",
    "     end_point: shapely.geometry.Point = end_point_series.iloc[0]\n",
    "     dist_to_point = start_point.distance(end_point)\n",
    "     return nearest_id, dist_to_point"
   ]
  },
  {
   "cell_type": "code",
   "execution_count": 5,
   "metadata": {},
   "outputs": [],
   "source": [
    "def geod2utm(row):\n",
    "    '''   Convert geodetic coordinates to UTM   '''\n",
    "    #if zn == None :\n",
    "    #    zn = lon2zone (lon)\n",
    "    zn = '16T'\n",
    "    datum = 'WGS84'\n",
    "    lat = row['lat']\n",
    "    lon = row['lon']\n",
    "        \n",
    "    p = pyproj.Proj(proj='utm', zone=zn, ellps=datum)\n",
    "    \n",
    "    X, Y = p(lon, lat)\n",
    "    \n",
    "    #   Return Y, X, Z\n",
    "    # return Y, X, elev\n",
    "    return pd.Series({'UTMx': X, 'UTMy': Y})"
   ]
  },
  {
   "cell_type": "code",
   "execution_count": 6,
   "metadata": {},
   "outputs": [],
   "source": [
    "def make_utm_points(row):\n",
    "    UTMx = row['UTMx']\n",
    "    UTMy = row['UTMy']\n",
    "    UTMPoint = shapely.geometry.Point(UTMx, UTMy)\n",
    "    return UTMPoint"
   ]
  },
  {
   "cell_type": "markdown",
   "metadata": {},
   "source": [
    "# Enhance crimes data with nearest school ID and distance to it"
   ]
  },
  {
   "cell_type": "code",
   "execution_count": 7,
   "metadata": {},
   "outputs": [],
   "source": [
    "schools_df = pd.read_pickle(\"schools-transformed.pkl\")"
   ]
  },
  {
   "cell_type": "code",
   "execution_count": 9,
   "metadata": {},
   "outputs": [],
   "source": [
    "crimes_df = pd.read_pickle('crimes-transformed.pkl')"
   ]
  },
  {
   "cell_type": "code",
   "execution_count": 10,
   "metadata": {},
   "outputs": [],
   "source": [
    "crimes = gpd.GeoDataFrame(crimes_df, geometry='UTMPoint')"
   ]
  },
  {
   "cell_type": "code",
   "execution_count": 13,
   "metadata": {},
   "outputs": [],
   "source": [
    "crimes.crs = {'init' :'epsg:2966'}"
   ]
  },
  {
   "cell_type": "code",
   "execution_count": 14,
   "metadata": {},
   "outputs": [
    {
     "data": {
      "text/html": [
       "<div>\n",
       "<style scoped>\n",
       "    .dataframe tbody tr th:only-of-type {\n",
       "        vertical-align: middle;\n",
       "    }\n",
       "\n",
       "    .dataframe tbody tr th {\n",
       "        vertical-align: top;\n",
       "    }\n",
       "\n",
       "    .dataframe thead th {\n",
       "        text-align: right;\n",
       "    }\n",
       "</style>\n",
       "<table border=\"1\" class=\"dataframe\">\n",
       "  <thead>\n",
       "    <tr style=\"text-align: right;\">\n",
       "      <th></th>\n",
       "      <th>geodesic geometry</th>\n",
       "      <th>SCHOOL_NM</th>\n",
       "      <th>SCHOOL_ID</th>\n",
       "      <th>SCH_ADDR</th>\n",
       "      <th>GRADE_CAT</th>\n",
       "      <th>SCH_TYPE</th>\n",
       "      <th>lon</th>\n",
       "      <th>lat</th>\n",
       "      <th>UNIT_ID</th>\n",
       "      <th>UTMx</th>\n",
       "      <th>UTMy</th>\n",
       "      <th>geometry</th>\n",
       "    </tr>\n",
       "    <tr>\n",
       "      <th>UNIT_ID</th>\n",
       "      <th></th>\n",
       "      <th></th>\n",
       "      <th></th>\n",
       "      <th></th>\n",
       "      <th></th>\n",
       "      <th></th>\n",
       "      <th></th>\n",
       "      <th></th>\n",
       "      <th></th>\n",
       "      <th></th>\n",
       "      <th></th>\n",
       "      <th></th>\n",
       "    </tr>\n",
       "  </thead>\n",
       "  <tbody>\n",
       "    <tr>\n",
       "      <th>4610</th>\n",
       "      <td>POINT (-87.5748539059 41.7483660139)</td>\n",
       "      <td>MANN</td>\n",
       "      <td>610052</td>\n",
       "      <td>8050 S CHAPPEL AV</td>\n",
       "      <td>ES</td>\n",
       "      <td>Elementary School</td>\n",
       "      <td>-87.574854</td>\n",
       "      <td>41.748366</td>\n",
       "      <td>4610</td>\n",
       "      <td>452204.771983</td>\n",
       "      <td>4.621998e+06</td>\n",
       "      <td>POINT (452204.7719826915 4621997.860158128)</td>\n",
       "    </tr>\n",
       "    <tr>\n",
       "      <th>5180</th>\n",
       "      <td>POINT (-87.57284397069999 41.768650177)</td>\n",
       "      <td>OKEEFFE</td>\n",
       "      <td>610103</td>\n",
       "      <td>6940 S MERRILL AV</td>\n",
       "      <td>ES</td>\n",
       "      <td>Elementary School</td>\n",
       "      <td>-87.572844</td>\n",
       "      <td>41.768650</td>\n",
       "      <td>5180</td>\n",
       "      <td>452386.881166</td>\n",
       "      <td>4.624249e+06</td>\n",
       "      <td>POINT (452386.881166386 4624248.790945017)</td>\n",
       "    </tr>\n",
       "    <tr>\n",
       "      <th>5300</th>\n",
       "      <td>POINT (-87.5829920307 41.768594283)</td>\n",
       "      <td>PARKSIDE</td>\n",
       "      <td>610116</td>\n",
       "      <td>6938 S EAST END AV</td>\n",
       "      <td>ES</td>\n",
       "      <td>Elementary School</td>\n",
       "      <td>-87.582992</td>\n",
       "      <td>41.768594</td>\n",
       "      <td>5300</td>\n",
       "      <td>451543.358669</td>\n",
       "      <td>4.624248e+06</td>\n",
       "      <td>POINT (451543.3586693273 4624248.25277694)</td>\n",
       "    </tr>\n",
       "    <tr>\n",
       "      <th>5440</th>\n",
       "      <td>POINT (-87.60800008530001 41.740365734)</td>\n",
       "      <td>PIRIE</td>\n",
       "      <td>610130</td>\n",
       "      <td>650 E 85TH ST</td>\n",
       "      <td>ES</td>\n",
       "      <td>Elementary School</td>\n",
       "      <td>-87.608000</td>\n",
       "      <td>41.740366</td>\n",
       "      <td>5440</td>\n",
       "      <td>449442.603124</td>\n",
       "      <td>4.621129e+06</td>\n",
       "      <td>POINT (449442.6031235668 4621128.574748854)</td>\n",
       "    </tr>\n",
       "    <tr>\n",
       "      <th>5610</th>\n",
       "      <td>POINT (-87.60015764629999 41.764223475)</td>\n",
       "      <td>REVERE</td>\n",
       "      <td>610146</td>\n",
       "      <td>1010 E 72ND ST</td>\n",
       "      <td>ES</td>\n",
       "      <td>Elementary School</td>\n",
       "      <td>-87.600158</td>\n",
       "      <td>41.764223</td>\n",
       "      <td>5610</td>\n",
       "      <td>450113.209645</td>\n",
       "      <td>4.623773e+06</td>\n",
       "      <td>POINT (450113.2096448886 4623772.796898597)</td>\n",
       "    </tr>\n",
       "  </tbody>\n",
       "</table>\n",
       "</div>"
      ],
      "text/plain": [
       "                               geodesic geometry SCHOOL_NM  SCHOOL_ID  \\\n",
       "UNIT_ID                                                                 \n",
       "4610        POINT (-87.5748539059 41.7483660139)      MANN     610052   \n",
       "5180     POINT (-87.57284397069999 41.768650177)   OKEEFFE     610103   \n",
       "5300         POINT (-87.5829920307 41.768594283)  PARKSIDE     610116   \n",
       "5440     POINT (-87.60800008530001 41.740365734)     PIRIE     610130   \n",
       "5610     POINT (-87.60015764629999 41.764223475)    REVERE     610146   \n",
       "\n",
       "                   SCH_ADDR GRADE_CAT           SCH_TYPE        lon  \\\n",
       "UNIT_ID                                                               \n",
       "4610      8050 S CHAPPEL AV        ES  Elementary School -87.574854   \n",
       "5180      6940 S MERRILL AV        ES  Elementary School -87.572844   \n",
       "5300     6938 S EAST END AV        ES  Elementary School -87.582992   \n",
       "5440          650 E 85TH ST        ES  Elementary School -87.608000   \n",
       "5610         1010 E 72ND ST        ES  Elementary School -87.600158   \n",
       "\n",
       "               lat  UNIT_ID           UTMx          UTMy  \\\n",
       "UNIT_ID                                                    \n",
       "4610     41.748366     4610  452204.771983  4.621998e+06   \n",
       "5180     41.768650     5180  452386.881166  4.624249e+06   \n",
       "5300     41.768594     5300  451543.358669  4.624248e+06   \n",
       "5440     41.740366     5440  449442.603124  4.621129e+06   \n",
       "5610     41.764223     5610  450113.209645  4.623773e+06   \n",
       "\n",
       "                                            geometry  \n",
       "UNIT_ID                                               \n",
       "4610     POINT (452204.7719826915 4621997.860158128)  \n",
       "5180      POINT (452386.881166386 4624248.790945017)  \n",
       "5300      POINT (451543.3586693273 4624248.25277694)  \n",
       "5440     POINT (449442.6031235668 4621128.574748854)  \n",
       "5610     POINT (450113.2096448886 4623772.796898597)  "
      ]
     },
     "execution_count": 14,
     "metadata": {},
     "output_type": "execute_result"
    }
   ],
   "source": [
    "schools_df.set_index(\"UNIT_ID\")\n",
    "schools_df['UNIT_ID'] = schools_df.index\n",
    "schools_df.head()"
   ]
  },
  {
   "cell_type": "code",
   "execution_count": 15,
   "metadata": {},
   "outputs": [],
   "source": [
    "schools = gpd.GeoDataFrame(schools_df)"
   ]
  },
  {
   "cell_type": "code",
   "execution_count": 16,
   "metadata": {},
   "outputs": [],
   "source": [
    "schools_unary_union = schools.unary_union"
   ]
  },
  {
   "cell_type": "code",
   "execution_count": null,
   "metadata": {},
   "outputs": [],
   "source": [
    "start_time = time.time()\n",
    "crimes['nearest_school_id'], crimes['nearest_school_distance'] = pd.DataFrame(crimes.apply(distance_to_nearest,\n",
    "                                     geom_union=schools_unary_union,\n",
    "                                     df1=crimes,\n",
    "                                     df2=schools,\n",
    "                                     geom1_col='UTMPoint',\n",
    "                                     geom2_col='geometry',\n",
    "                                     src_column='UNIT_ID',\n",
    "                                     axis=1\n",
    "                                    ).tolist(), columns = ['nearest_school_id', 'nearest_school_distance'], index=crimes.index)\n",
    "end_time = time.time()\n",
    "print(\"That took {0} seconds\".format(end_time - start_time))"
   ]
  },
  {
   "cell_type": "code",
   "execution_count": null,
   "metadata": {},
   "outputs": [],
   "source": []
  }
 ],
 "metadata": {
  "kernelspec": {
   "display_name": "Python 3",
   "language": "python",
   "name": "python3"
  },
  "language_info": {
   "codemirror_mode": {
    "name": "ipython",
    "version": 3
   },
   "file_extension": ".py",
   "mimetype": "text/x-python",
   "name": "python",
   "nbconvert_exporter": "python",
   "pygments_lexer": "ipython3",
   "version": "3.7.2"
  }
 },
 "nbformat": 4,
 "nbformat_minor": 2
}
