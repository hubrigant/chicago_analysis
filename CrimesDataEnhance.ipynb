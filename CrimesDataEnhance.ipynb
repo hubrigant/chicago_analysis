{
 "cells": [
  {
   "cell_type": "code",
   "execution_count": 123,
   "metadata": {},
   "outputs": [],
   "source": [
    "# Imports first\n",
    "import csv\n",
    "import time\n",
    "import math\n",
    "import geopandas as gpd\n",
    "import pandas as pd\n",
    "import shapely\n",
    "from shapely.ops import nearest_points, transform\n",
    "import numpy as np\n",
    "from scipy import spatial\n",
    "import pyproj\n",
    "from mpl_toolkits.basemap import Basemap"
   ]
  },
  {
   "cell_type": "code",
   "execution_count": 73,
   "metadata": {},
   "outputs": [],
   "source": [
    "# Set notebook display options\n",
    "pd.options.display.max_rows=None\n",
    "pd.options.display.max_columns=None"
   ]
  },
  {
   "cell_type": "code",
   "execution_count": 74,
   "metadata": {},
   "outputs": [],
   "source": [
    "def find_nearest(row, dest_df=None, geom1_col='geometry', geom2_col='geometry'):\n",
    "    if dest_df is None:\n",
    "        raise ValueError('Destination DataFrame (df2) argument not provided')\n",
    "    D = spatial.distance_matrix([[row[geom1_col].x, row[geom1_col].y]],\n",
    "                                [[pt.x, pt.y] for pt in dest_df[geom2_col]])\n",
    "    nn = np.array([[np.min(D[0,]), np.argmin(D[0,])]])\n",
    "    distance = float(nn[:,0][0])\n",
    "    nearest_index = int(nn[:,1][0])\n",
    "    return nearest_index, distance"
   ]
  },
  {
   "cell_type": "code",
   "execution_count": 75,
   "metadata": {},
   "outputs": [],
   "source": [
    "def geod2utm(row):\n",
    "    '''   Convert geodetic coordinates to UTM   '''\n",
    "    zn = '16T'\n",
    "    datum = 'WGS84'\n",
    "    lat = row['lat']\n",
    "    lon = row['lon']\n",
    "        \n",
    "    p = pyproj.Proj(proj='utm', zone=zn, ellps=datum)\n",
    "    \n",
    "    X, Y = p(lon, lat)\n",
    "    \n",
    "    return pd.Series({'UTMx': X, 'UTMy': Y})"
   ]
  },
  {
   "cell_type": "code",
   "execution_count": 76,
   "metadata": {},
   "outputs": [],
   "source": [
    "def make_utm_points(row):\n",
    "    UTMx = row['UTMx']\n",
    "    UTMy = row['UTMy']\n",
    "    UTMPoint = shapely.geometry.Point(UTMx, UTMy)\n",
    "    return UTMPoint"
   ]
  },
  {
   "cell_type": "code",
   "execution_count": 77,
   "metadata": {},
   "outputs": [],
   "source": [
    "def assign_category(row):\n",
    "    categories: dict = {\"THEFT\": \"property\",\n",
    "                    \"BURGLARY\": \"property\",\n",
    "                    \"MOTOR VEHICLE THEFT\": \"property\",\n",
    "                    \"ARSON\": \"property\",\n",
    "                    \"CRIMINAL DAMAGE\": \"property\",\n",
    "                    \"ROBBERY\": \"property\",\n",
    "                    \"ASSAULT\": \"person\",\n",
    "                    \"BATTERY\": \"person\",\n",
    "                    \"CRIM SEXUAL ASSAULT\": \"person\",\n",
    "                    \"HOMICIDE\": \"person\",\n",
    "                    \"INTIMIDATION\": \"person\",\n",
    "                    \"KIDNAPPING\": \"person\",\n",
    "                    \"OFFENSE INVOLVING CHILDREN\": \"person\",\n",
    "                    \"SEX OFFENSE\": \"person\",\n",
    "                    \"STALKING\": \"person\",\n",
    "                    \"GAMBLING\": \"vice\",\n",
    "                    \"NARCOTICS\": \"vice\",\n",
    "                    \"PROSTITUTION\": \"vice\",\n",
    "                    \"LIQUOR LAW VIOLATION\": \"vice\",\n",
    "                    \"OBSCENITY\": \"vice\",\n",
    "                    \"OTHER NARCOTIC VIOLATION\": \"vice\",\n",
    "                    \"PUBLIC INDECENCY\": \"vice\",\n",
    "                    \"OTHER OFFENSE\": \"other\",\n",
    "                    \"DECEPTIVE PRACTICE\": \"other\",\n",
    "                    \"WEAPONS VIOLATION\": \"other\",\n",
    "                    \"PUBLIC PEACE VIOLATION\": \"other\",\n",
    "                    \"CRIMINAL TRESPASS\": \"other\",\n",
    "                    \"INTERFERENCE WITH PUBLIC OFFICER\": \"other\",\n",
    "                    \"NON-CRIMINAL\": \"other\"\n",
    "                   }\n",
    "    return categories[row['primary type']]"
   ]
  },
  {
   "cell_type": "code",
   "execution_count": 78,
   "metadata": {},
   "outputs": [],
   "source": [
    "def get_bearing(row: pd.Series, point2: shapely.geometry.Point, point1_geom='geometry'):\n",
    "    \"\"\"A method that returns the number of degrees from due north a line is.\n",
    "\n",
    "    This line is defined as being from point1 (typically the source point) \n",
    "    to point2 (typically the destination).\n",
    "    \n",
    "    The point point1 is presumed to come from the row indexed by the string\n",
    "    'geometry' in the pandas Series passed to this method as row.\n",
    "\n",
    "    This function is designed to be used in a pandas.DataFrame.apply() call.\n",
    "    \"\"\"\n",
    "    \n",
    "    point1:shapely.geometry.Point = row[point1_geom]\n",
    "    point3:shapely.geometry.Point = shapely.geometry.Point(point1.x, point2.y)\n",
    "    A:float = point1.distance(point3) # adjacent leg\n",
    "    B:float = point2.distance(point3) # opposite leg\n",
    "    C:float = point1.distance(point2) # hypotenuse leg\n",
    "    # To find the bearing, we need to know the angle from a right triangle\n",
    "    # defined by point1 (the source point), point2 (the destination point), and\n",
    "    # point3, the point due north or south of point1 at a distance defined by\n",
    "    # point2.y.\n",
    "    #\n",
    "    # The angle needed is of the leg between point1 and point3 and the leg\n",
    "    # between point1 and point2.\n",
    "    theta:float = math.degrees(math.asin(A/C))\n",
    "    # Start with bearing of 0 degrees (a.k.a. due north)\n",
    "    bearing:float = 0.0\n",
    "    # X is equal, so point 2 is either north or south\n",
    "    if point2.x == point1.x:\n",
    "        # if point2.y is bigger, it's north, so no need to modify bearing\n",
    "        # otherwise, bearing is 180 degrees\n",
    "        if point2.y < point1.y:\n",
    "            bearing = 180.0\n",
    "    # Y is equal, so either due east or due west\n",
    "    elif point2.y == point1.y:\n",
    "        # point2.x is bigger, so due west\n",
    "        if point2.x > point1.x:\n",
    "            bearing = 270\n",
    "        # point2.x is smaller, so due east\n",
    "        else:\n",
    "            bearing = 90\n",
    "    # Point2.x is bigger, so Point2 is west of Point1\n",
    "    elif point2.x > point1.x:\n",
    "        # Point2.y is bigger, so NW\n",
    "        if point2.y > point1.y:\n",
    "            bearing = theta + 270\n",
    "        # Point2.y is smaller, so SW\n",
    "        else:\n",
    "            bearing = theta + 180\n",
    "    # Point2.x is smaller, so Point2 is east of Point1\n",
    "    else:\n",
    "        # Point2.y is bigger, so NE\n",
    "        if point2.y > point1.y:\n",
    "            bearing = theta\n",
    "            # bearing = theta + 90\n",
    "        # Point2.y is smaller, so SE\n",
    "        else:\n",
    "            bearing = theta + 90\n",
    "    return round(bearing, 2)"
   ]
  },
  {
   "cell_type": "code",
   "execution_count": 79,
   "metadata": {},
   "outputs": [],
   "source": [
    "def get_community(row: pd.Series,\n",
    "                  community_areas: pd.DataFrame,\n",
    "                  location_point: shapely.geometry.Point,\n",
    "                  geom2_column: str='UTMGeometry'\n",
    "                 ):\n",
    "    community_id = community_areas.apply(lambda community:\n",
    "                                         location_point.within(community[geom2_column]))\n",
    "    return community_id"
   ]
  },
  {
   "cell_type": "markdown",
   "metadata": {},
   "source": [
    "# Enhance crimes data\n",
    "* Identify nearest school, library, and police station, and the distance and compass heading to each\n",
    "* Summarize the report type into one of four categories:\n",
    "  * Property: crimes involving the stealing of or damage to property\n",
    "  * Person: crimes against a human, such as assault, homicide, or kidnapping\n",
    "  * Vice: violations of morality-based laws, such as prostitution, gambling, or drug/alcohol\n",
    "  * Other: anything reported not in the above three categories"
   ]
  },
  {
   "cell_type": "raw",
   "metadata": {},
   "source": [
    "crimes_header = ['ID', 'case number', 'date', 'block', 'iucr', 'primary type', 'desc', 'locdesc',\n",
    "                 'arrest', 'domestic', 'beat', 'district', 'ward', 'community area', 'fbi code',\n",
    "                 'x coord', 'y coord', 'year', 'updated on', 'lat', 'lon', 'location'\n",
    "                ]"
   ]
  },
  {
   "cell_type": "raw",
   "metadata": {
    "scrolled": true
   },
   "source": [
    "crimes1_df = pd.read_csv('data/crimes-2010-2011-0.csv', names=crimes_header, header=None)\n",
    "crimes2_df = pd.read_csv('data/crimes-2010-2011-1.csv', names=crimes_header, header=None)\n",
    "crimes_df = pd.concat([crimes1_df, crimes2_df], names=crimes_header, ignore_index=True)"
   ]
  },
  {
   "cell_type": "raw",
   "metadata": {},
   "source": [
    "crimes_df.dropna(subset=['lat', 'lon'], inplace=True)"
   ]
  },
  {
   "cell_type": "raw",
   "metadata": {
    "scrolled": true
   },
   "source": [
    "crimes_df = (crimes_df.merge(neighborhoods[['community', 'area_numbe']], left_on='community area', right_on='area_numbe', how='left'))\n",
    "del crimes_df['area_numbe']"
   ]
  },
  {
   "cell_type": "raw",
   "metadata": {},
   "source": [
    "crimes_df.rename(columns={'community': 'community name'}, inplace=True)"
   ]
  },
  {
   "cell_type": "raw",
   "metadata": {},
   "source": [
    "crimes_df['UTMx'] = np.zeros(len(crimes_df))\n",
    "crimes_df['UTMy'] = np.zeros(len(crimes_df))\n",
    "crimes_df.loc[:, ('UTMx', 'UTMy')] = crimes_df.apply(geod2utm, axis=1)"
   ]
  },
  {
   "cell_type": "raw",
   "metadata": {
    "scrolled": true
   },
   "source": [
    "crimes_df['UTMPoint'] = crimes_df.apply(make_utm_points, axis=1)"
   ]
  },
  {
   "cell_type": "code",
   "execution_count": 9,
   "metadata": {},
   "outputs": [],
   "source": [
    "categories: dict = {\"THEFT\": \"property\",\n",
    "                    \"BURGLARY\": \"property\",\n",
    "                    \"MOTOR VEHICLE THEFT\": \"property\",\n",
    "                    \"ARSON\": \"property\",\n",
    "                    \"CRIMINAL DAMAGE\": \"property\",\n",
    "                    \"ROBBERY\": \"property\",\n",
    "                    \"ASSAULT\": \"person\",\n",
    "                    \"BATTERY\": \"person\",\n",
    "                    \"CRIM SEXUAL ASSAULT\": \"person\",\n",
    "                    \"HOMICIDE\": \"person\",\n",
    "                    \"INTIMIDATION\": \"person\",\n",
    "                    \"KIDNAPPING\": \"person\",\n",
    "                    \"OFFENSE INVOLVING CHILDREN\": \"person\",\n",
    "                    \"SEX OFFENSE\": \"person\",\n",
    "                    \"STALKING\": \"person\",\n",
    "                    \"GAMBLING\": \"vice\",\n",
    "                    \"NARCOTICS\": \"vice\",\n",
    "                    \"PROSTITUTION\": \"vice\",\n",
    "                    \"LIQUOR LAW VIOLATION\": \"vice\",\n",
    "                    \"OBSCENITY\": \"vice\",\n",
    "                    \"OTHER NARCOTIC VIOLATION\": \"vice\",\n",
    "                    \"PUBLIC INDECENCY\": \"vice\",\n",
    "                    \"OTHER OFFENSE\": \"other\",\n",
    "                    \"DECEPTIVE PRACTICE\": \"other\",\n",
    "                    \"WEAPONS VIOLATION\": \"other\",\n",
    "                    \"PUBLIC PEACE VIOLATION\": \"other\",\n",
    "                    \"CRIMINAL TRESPASS\": \"other\",\n",
    "                    \"INTERFERENCE WITH PUBLIC OFFICER\": \"other\",\n",
    "                    \"NON-CRIMINAL\": \"other\"\n",
    "                   }"
   ]
  },
  {
   "cell_type": "code",
   "execution_count": 10,
   "metadata": {},
   "outputs": [],
   "source": [
    "crimes_df = pd.read_pickle(\"data/crimes-transformed.pkl\")"
   ]
  },
  {
   "cell_type": "code",
   "execution_count": 11,
   "metadata": {},
   "outputs": [],
   "source": [
    "crimes_df['category'] = crimes_df.apply(assign_category, axis=1)"
   ]
  },
  {
   "cell_type": "code",
   "execution_count": 12,
   "metadata": {},
   "outputs": [],
   "source": [
    "crimes = gpd.GeoDataFrame(crimes_df, geometry='UTMPoint')"
   ]
  },
  {
   "cell_type": "code",
   "execution_count": 13,
   "metadata": {},
   "outputs": [],
   "source": [
    "crimes.crs = {'init' :'epsg:2966'}"
   ]
  },
  {
   "cell_type": "code",
   "execution_count": 14,
   "metadata": {},
   "outputs": [],
   "source": [
    "# Create a small extract of data to test performance of algorithms\n",
    "crimes_extract = crimes.iloc[0:100]"
   ]
  },
  {
   "cell_type": "code",
   "execution_count": 15,
   "metadata": {},
   "outputs": [],
   "source": [
    "schools_df = pd.read_pickle(\"data/schools-transformed.pkl\")"
   ]
  },
  {
   "cell_type": "code",
   "execution_count": 16,
   "metadata": {},
   "outputs": [],
   "source": [
    "neighborhoods = pd.read_pickle(\"data/neighborhoods.pkl\")"
   ]
  },
  {
   "cell_type": "code",
   "execution_count": 17,
   "metadata": {},
   "outputs": [],
   "source": [
    "schools_df.set_index(\"UNIT_ID\")\n",
    "schools_df['UNIT_ID'] = schools_df.index"
   ]
  },
  {
   "cell_type": "code",
   "execution_count": 18,
   "metadata": {},
   "outputs": [],
   "source": [
    "schools = gpd.GeoDataFrame(schools_df)"
   ]
  },
  {
   "cell_type": "code",
   "execution_count": 19,
   "metadata": {},
   "outputs": [],
   "source": [
    "schools_unary_union = schools.unary_union"
   ]
  },
  {
   "cell_type": "raw",
   "metadata": {
    "scrolled": true
   },
   "source": [
    "start_time = time.time()\n",
    "crimes_extract = pd.concat([crimes_extract, pd.DataFrame(crimes_extract.apply(distance_to_nearest,\n",
    "                                     geom_union=schools_unary_union,\n",
    "                                     df1=crimes_extract,\n",
    "                                     df2=schools,\n",
    "                                     geom1_col='UTMPoint',\n",
    "                                     geom2_col='geometry',\n",
    "                                     src_column='UNIT_ID',\n",
    "                                     axis=1\n",
    "                                    ).tolist(),\n",
    "             columns = ['nearest_school_id', 'nearest_school_distance'],\n",
    "             index=crimes_extract.index)], axis=1)\n",
    "end_time = time.time()\n",
    "print(\"That took {0} seconds\".format(end_time - start_time))"
   ]
  },
  {
   "cell_type": "raw",
   "metadata": {},
   "source": [
    "crimes_extract = crimes_extract.set_geometry('UTMPoint')\n",
    "schools = schools.set_geometry('geometry')"
   ]
  },
  {
   "cell_type": "code",
   "execution_count": 21,
   "metadata": {
    "scrolled": false
   },
   "outputs": [
    {
     "name": "stdout",
     "output_type": "stream",
     "text": [
      "That took 7957.16069316864 seconds\n"
     ]
    }
   ],
   "source": [
    "start_time = time.time()\n",
    "crimes = pd.concat([crimes, pd.DataFrame(crimes.apply(find_nearest,\n",
    "                                                      dest_df=schools,\n",
    "                                                      geom1_col='UTMPoint',\n",
    "                                                      geom2_col='geometry',\n",
    "                                                      axis=1\n",
    "                                                     ).tolist(),\n",
    "                                        columns=['nearest_school_id', 'nearest_school_distance'],\n",
    "                                        index=crimes.index)], axis=1)\n",
    "end_time = time.time()\n",
    "print(\"That took {0} seconds\".format(end_time - start_time))"
   ]
  },
  {
   "cell_type": "markdown",
   "metadata": {},
   "source": [
    "# Enhance crimes with identity and distance to nearest police station"
   ]
  },
  {
   "cell_type": "raw",
   "metadata": {},
   "source": [
    "police_stations_df = pd.read_csv('data/Police_Stations_-_Map.csv')"
   ]
  },
  {
   "cell_type": "raw",
   "metadata": {},
   "source": [
    "police_stations_df['geometry'] = police_stations_df.apply(lambda z: shapely.geometry.Point(z.LAT, z.LON), axis=1)"
   ]
  },
  {
   "cell_type": "code",
   "execution_count": 22,
   "metadata": {},
   "outputs": [],
   "source": [
    "police_stations_df = pd.read_pickle('data/police-stations-transformed.pkl')\n",
    "police_stations = gpd.GeoDataFrame(police_stations_df)"
   ]
  },
  {
   "cell_type": "code",
   "execution_count": 23,
   "metadata": {},
   "outputs": [],
   "source": [
    "police_stations = police_stations.set_geometry('UTMPoint')"
   ]
  },
  {
   "cell_type": "code",
   "execution_count": 24,
   "metadata": {},
   "outputs": [
    {
     "name": "stdout",
     "output_type": "stream",
     "text": [
      "That took 375.9948363304138 seconds\n"
     ]
    }
   ],
   "source": [
    "start_time = time.time()\n",
    "crimes = pd.concat([crimes, pd.DataFrame(crimes.apply(find_nearest,\n",
    "                                                      dest_df=police_stations,\n",
    "                                                      geom1_col='UTMPoint',\n",
    "                                                      geom2_col='UTMPoint',\n",
    "                                                      axis=1\n",
    "                                                     ).tolist(),\n",
    "                                        columns=['nearest_station_id', 'nearest_station_distance'],\n",
    "                                        index=crimes.index)], axis=1)\n",
    "end_time = time.time()\n",
    "print(\"That took {0} seconds\".format(end_time - start_time))"
   ]
  },
  {
   "cell_type": "markdown",
   "metadata": {},
   "source": [
    "# Enhance crimes with identity and distance to nearest library"
   ]
  },
  {
   "cell_type": "code",
   "execution_count": 25,
   "metadata": {},
   "outputs": [],
   "source": [
    "libraries_df = None\n",
    "libraries = None\n",
    "libraries_df = pd.read_pickle('data/libraries-transformed.pkl')"
   ]
  },
  {
   "cell_type": "code",
   "execution_count": 26,
   "metadata": {},
   "outputs": [],
   "source": [
    "libraries = gpd.GeoDataFrame(libraries_df)\n",
    "libraries = libraries.set_geometry('UTMPoint')"
   ]
  },
  {
   "cell_type": "code",
   "execution_count": 27,
   "metadata": {},
   "outputs": [
    {
     "name": "stdout",
     "output_type": "stream",
     "text": [
      "That took 1063.915910243988 seconds\n"
     ]
    }
   ],
   "source": [
    "start_time = time.time()\n",
    "crimes = pd.concat([crimes, pd.DataFrame(crimes.apply(find_nearest,\n",
    "                                                      dest_df=libraries,\n",
    "                                                      geom1_col='UTMPoint',\n",
    "                                                      geom2_col='UTMPoint',\n",
    "                                                      axis=1\n",
    "                                                     ).tolist(),\n",
    "                                        columns=['nearest_library_id', 'nearest_library_distance'],\n",
    "                                        index=crimes.index)], axis=1)\n",
    "end_time = time.time()\n",
    "print(\"That took {0} seconds\".format(end_time - start_time))"
   ]
  },
  {
   "cell_type": "code",
   "execution_count": 28,
   "metadata": {},
   "outputs": [],
   "source": [
    "crimes['nearest_library_bearing'] = crimes.apply(lambda row: get_bearing(row,\n",
    "                                     point2=libraries.iloc[row['nearest_library_id']][libraries.geometry.name],\n",
    "                                     point1_geom=crimes.geometry.name), axis=1)"
   ]
  },
  {
   "cell_type": "code",
   "execution_count": 29,
   "metadata": {},
   "outputs": [],
   "source": [
    "crimes['nearest_school_bearing'] = crimes.apply(lambda row: get_bearing(row,\n",
    "                                     point2=schools.iloc[row['nearest_school_id']][schools.geometry.name],\n",
    "                                     point1_geom=crimes.geometry.name), axis=1)"
   ]
  },
  {
   "cell_type": "code",
   "execution_count": 30,
   "metadata": {},
   "outputs": [],
   "source": [
    "crimes['nearest_station_bearing'] = crimes.apply(lambda row: get_bearing(row,\n",
    "                                     point2=police_stations.iloc[row['nearest_station_id']][police_stations.geometry.name],\n",
    "                                     point1_geom=crimes.geometry.name), axis=1)"
   ]
  },
  {
   "cell_type": "code",
   "execution_count": 64,
   "metadata": {},
   "outputs": [
    {
     "ename": "ValueError",
     "evalue": "Cannot convert non-finite values (NA or inf) to integer",
     "output_type": "error",
     "traceback": [
      "\u001b[0;31m---------------------------------------------------------------------------\u001b[0m",
      "\u001b[0;31mValueError\u001b[0m                                Traceback (most recent call last)",
      "\u001b[0;32m<ipython-input-64-52bc9aa53a67>\u001b[0m in \u001b[0;36m<module>\u001b[0;34m\u001b[0m\n\u001b[1;32m      1\u001b[0m \u001b[0mcrimes\u001b[0m\u001b[0;34m[\u001b[0m\u001b[0;34m'community area'\u001b[0m\u001b[0;34m]\u001b[0m \u001b[0;34m=\u001b[0m \u001b[0mcrimes\u001b[0m\u001b[0;34m[\u001b[0m\u001b[0;34m'community area'\u001b[0m\u001b[0;34m]\u001b[0m\u001b[0;34m.\u001b[0m\u001b[0mastype\u001b[0m\u001b[0;34m(\u001b[0m\u001b[0mdtype\u001b[0m\u001b[0;34m=\u001b[0m\u001b[0;34m'int64'\u001b[0m\u001b[0;34m)\u001b[0m\u001b[0;34m\u001b[0m\u001b[0;34m\u001b[0m\u001b[0m\n\u001b[0;32m----> 2\u001b[0;31m \u001b[0mcrimes\u001b[0m\u001b[0;34m[\u001b[0m\u001b[0;34m'ward'\u001b[0m\u001b[0;34m]\u001b[0m \u001b[0;34m=\u001b[0m \u001b[0mcrimes\u001b[0m\u001b[0;34m[\u001b[0m\u001b[0;34m'ward'\u001b[0m\u001b[0;34m]\u001b[0m\u001b[0;34m.\u001b[0m\u001b[0mastype\u001b[0m\u001b[0;34m(\u001b[0m\u001b[0mdtype\u001b[0m\u001b[0;34m=\u001b[0m\u001b[0;34m'Int64'\u001b[0m\u001b[0;34m)\u001b[0m\u001b[0;34m\u001b[0m\u001b[0;34m\u001b[0m\u001b[0m\n\u001b[0m",
      "\u001b[0;32m~/anaconda3/envs/geospatial/lib/python3.7/site-packages/pandas/util/_decorators.py\u001b[0m in \u001b[0;36mwrapper\u001b[0;34m(*args, **kwargs)\u001b[0m\n\u001b[1;32m    176\u001b[0m                 \u001b[0;32melse\u001b[0m\u001b[0;34m:\u001b[0m\u001b[0;34m\u001b[0m\u001b[0;34m\u001b[0m\u001b[0m\n\u001b[1;32m    177\u001b[0m                     \u001b[0mkwargs\u001b[0m\u001b[0;34m[\u001b[0m\u001b[0mnew_arg_name\u001b[0m\u001b[0;34m]\u001b[0m \u001b[0;34m=\u001b[0m \u001b[0mnew_arg_value\u001b[0m\u001b[0;34m\u001b[0m\u001b[0;34m\u001b[0m\u001b[0m\n\u001b[0;32m--> 178\u001b[0;31m             \u001b[0;32mreturn\u001b[0m \u001b[0mfunc\u001b[0m\u001b[0;34m(\u001b[0m\u001b[0;34m*\u001b[0m\u001b[0margs\u001b[0m\u001b[0;34m,\u001b[0m \u001b[0;34m**\u001b[0m\u001b[0mkwargs\u001b[0m\u001b[0;34m)\u001b[0m\u001b[0;34m\u001b[0m\u001b[0;34m\u001b[0m\u001b[0m\n\u001b[0m\u001b[1;32m    179\u001b[0m         \u001b[0;32mreturn\u001b[0m \u001b[0mwrapper\u001b[0m\u001b[0;34m\u001b[0m\u001b[0;34m\u001b[0m\u001b[0m\n\u001b[1;32m    180\u001b[0m     \u001b[0;32mreturn\u001b[0m \u001b[0m_deprecate_kwarg\u001b[0m\u001b[0;34m\u001b[0m\u001b[0;34m\u001b[0m\u001b[0m\n",
      "\u001b[0;32m~/anaconda3/envs/geospatial/lib/python3.7/site-packages/pandas/core/generic.py\u001b[0m in \u001b[0;36mastype\u001b[0;34m(self, dtype, copy, errors, **kwargs)\u001b[0m\n\u001b[1;32m   4999\u001b[0m             \u001b[0;31m# else, only a single dtype is given\u001b[0m\u001b[0;34m\u001b[0m\u001b[0;34m\u001b[0m\u001b[0;34m\u001b[0m\u001b[0m\n\u001b[1;32m   5000\u001b[0m             new_data = self._data.astype(dtype=dtype, copy=copy, errors=errors,\n\u001b[0;32m-> 5001\u001b[0;31m                                          **kwargs)\n\u001b[0m\u001b[1;32m   5002\u001b[0m             \u001b[0;32mreturn\u001b[0m \u001b[0mself\u001b[0m\u001b[0;34m.\u001b[0m\u001b[0m_constructor\u001b[0m\u001b[0;34m(\u001b[0m\u001b[0mnew_data\u001b[0m\u001b[0;34m)\u001b[0m\u001b[0;34m.\u001b[0m\u001b[0m__finalize__\u001b[0m\u001b[0;34m(\u001b[0m\u001b[0mself\u001b[0m\u001b[0;34m)\u001b[0m\u001b[0;34m\u001b[0m\u001b[0;34m\u001b[0m\u001b[0m\n\u001b[1;32m   5003\u001b[0m \u001b[0;34m\u001b[0m\u001b[0m\n",
      "\u001b[0;32m~/anaconda3/envs/geospatial/lib/python3.7/site-packages/pandas/core/internals.py\u001b[0m in \u001b[0;36mastype\u001b[0;34m(self, dtype, **kwargs)\u001b[0m\n\u001b[1;32m   3712\u001b[0m \u001b[0;34m\u001b[0m\u001b[0m\n\u001b[1;32m   3713\u001b[0m     \u001b[0;32mdef\u001b[0m \u001b[0mastype\u001b[0m\u001b[0;34m(\u001b[0m\u001b[0mself\u001b[0m\u001b[0;34m,\u001b[0m \u001b[0mdtype\u001b[0m\u001b[0;34m,\u001b[0m \u001b[0;34m**\u001b[0m\u001b[0mkwargs\u001b[0m\u001b[0;34m)\u001b[0m\u001b[0;34m:\u001b[0m\u001b[0;34m\u001b[0m\u001b[0;34m\u001b[0m\u001b[0m\n\u001b[0;32m-> 3714\u001b[0;31m         \u001b[0;32mreturn\u001b[0m \u001b[0mself\u001b[0m\u001b[0;34m.\u001b[0m\u001b[0mapply\u001b[0m\u001b[0;34m(\u001b[0m\u001b[0;34m'astype'\u001b[0m\u001b[0;34m,\u001b[0m \u001b[0mdtype\u001b[0m\u001b[0;34m=\u001b[0m\u001b[0mdtype\u001b[0m\u001b[0;34m,\u001b[0m \u001b[0;34m**\u001b[0m\u001b[0mkwargs\u001b[0m\u001b[0;34m)\u001b[0m\u001b[0;34m\u001b[0m\u001b[0;34m\u001b[0m\u001b[0m\n\u001b[0m\u001b[1;32m   3715\u001b[0m \u001b[0;34m\u001b[0m\u001b[0m\n\u001b[1;32m   3716\u001b[0m     \u001b[0;32mdef\u001b[0m \u001b[0mconvert\u001b[0m\u001b[0;34m(\u001b[0m\u001b[0mself\u001b[0m\u001b[0;34m,\u001b[0m \u001b[0;34m**\u001b[0m\u001b[0mkwargs\u001b[0m\u001b[0;34m)\u001b[0m\u001b[0;34m:\u001b[0m\u001b[0;34m\u001b[0m\u001b[0;34m\u001b[0m\u001b[0m\n",
      "\u001b[0;32m~/anaconda3/envs/geospatial/lib/python3.7/site-packages/pandas/core/internals.py\u001b[0m in \u001b[0;36mapply\u001b[0;34m(self, f, axes, filter, do_integrity_check, consolidate, **kwargs)\u001b[0m\n\u001b[1;32m   3579\u001b[0m \u001b[0;34m\u001b[0m\u001b[0m\n\u001b[1;32m   3580\u001b[0m             \u001b[0mkwargs\u001b[0m\u001b[0;34m[\u001b[0m\u001b[0;34m'mgr'\u001b[0m\u001b[0;34m]\u001b[0m \u001b[0;34m=\u001b[0m \u001b[0mself\u001b[0m\u001b[0;34m\u001b[0m\u001b[0;34m\u001b[0m\u001b[0m\n\u001b[0;32m-> 3581\u001b[0;31m             \u001b[0mapplied\u001b[0m \u001b[0;34m=\u001b[0m \u001b[0mgetattr\u001b[0m\u001b[0;34m(\u001b[0m\u001b[0mb\u001b[0m\u001b[0;34m,\u001b[0m \u001b[0mf\u001b[0m\u001b[0;34m)\u001b[0m\u001b[0;34m(\u001b[0m\u001b[0;34m**\u001b[0m\u001b[0mkwargs\u001b[0m\u001b[0;34m)\u001b[0m\u001b[0;34m\u001b[0m\u001b[0;34m\u001b[0m\u001b[0m\n\u001b[0m\u001b[1;32m   3582\u001b[0m             \u001b[0mresult_blocks\u001b[0m \u001b[0;34m=\u001b[0m \u001b[0m_extend_blocks\u001b[0m\u001b[0;34m(\u001b[0m\u001b[0mapplied\u001b[0m\u001b[0;34m,\u001b[0m \u001b[0mresult_blocks\u001b[0m\u001b[0;34m)\u001b[0m\u001b[0;34m\u001b[0m\u001b[0;34m\u001b[0m\u001b[0m\n\u001b[1;32m   3583\u001b[0m \u001b[0;34m\u001b[0m\u001b[0m\n",
      "\u001b[0;32m~/anaconda3/envs/geospatial/lib/python3.7/site-packages/pandas/core/internals.py\u001b[0m in \u001b[0;36mastype\u001b[0;34m(self, dtype, copy, errors, values, **kwargs)\u001b[0m\n\u001b[1;32m    573\u001b[0m     \u001b[0;32mdef\u001b[0m \u001b[0mastype\u001b[0m\u001b[0;34m(\u001b[0m\u001b[0mself\u001b[0m\u001b[0;34m,\u001b[0m \u001b[0mdtype\u001b[0m\u001b[0;34m,\u001b[0m \u001b[0mcopy\u001b[0m\u001b[0;34m=\u001b[0m\u001b[0;32mFalse\u001b[0m\u001b[0;34m,\u001b[0m \u001b[0merrors\u001b[0m\u001b[0;34m=\u001b[0m\u001b[0;34m'raise'\u001b[0m\u001b[0;34m,\u001b[0m \u001b[0mvalues\u001b[0m\u001b[0;34m=\u001b[0m\u001b[0;32mNone\u001b[0m\u001b[0;34m,\u001b[0m \u001b[0;34m**\u001b[0m\u001b[0mkwargs\u001b[0m\u001b[0;34m)\u001b[0m\u001b[0;34m:\u001b[0m\u001b[0;34m\u001b[0m\u001b[0;34m\u001b[0m\u001b[0m\n\u001b[1;32m    574\u001b[0m         return self._astype(dtype, copy=copy, errors=errors, values=values,\n\u001b[0;32m--> 575\u001b[0;31m                             **kwargs)\n\u001b[0m\u001b[1;32m    576\u001b[0m \u001b[0;34m\u001b[0m\u001b[0m\n\u001b[1;32m    577\u001b[0m     def _astype(self, dtype, copy=False, errors='raise', values=None,\n",
      "\u001b[0;32m~/anaconda3/envs/geospatial/lib/python3.7/site-packages/pandas/core/internals.py\u001b[0m in \u001b[0;36m_astype\u001b[0;34m(self, dtype, copy, errors, values, klass, mgr, **kwargs)\u001b[0m\n\u001b[1;32m    662\u001b[0m \u001b[0;34m\u001b[0m\u001b[0m\n\u001b[1;32m    663\u001b[0m                 \u001b[0;31m# _astype_nansafe works fine with 1-d only\u001b[0m\u001b[0;34m\u001b[0m\u001b[0;34m\u001b[0m\u001b[0;34m\u001b[0m\u001b[0m\n\u001b[0;32m--> 664\u001b[0;31m                 \u001b[0mvalues\u001b[0m \u001b[0;34m=\u001b[0m \u001b[0mastype_nansafe\u001b[0m\u001b[0;34m(\u001b[0m\u001b[0mvalues\u001b[0m\u001b[0;34m.\u001b[0m\u001b[0mravel\u001b[0m\u001b[0;34m(\u001b[0m\u001b[0;34m)\u001b[0m\u001b[0;34m,\u001b[0m \u001b[0mdtype\u001b[0m\u001b[0;34m,\u001b[0m \u001b[0mcopy\u001b[0m\u001b[0;34m=\u001b[0m\u001b[0;32mTrue\u001b[0m\u001b[0;34m)\u001b[0m\u001b[0;34m\u001b[0m\u001b[0;34m\u001b[0m\u001b[0m\n\u001b[0m\u001b[1;32m    665\u001b[0m                 \u001b[0mvalues\u001b[0m \u001b[0;34m=\u001b[0m \u001b[0mvalues\u001b[0m\u001b[0;34m.\u001b[0m\u001b[0mreshape\u001b[0m\u001b[0;34m(\u001b[0m\u001b[0mself\u001b[0m\u001b[0;34m.\u001b[0m\u001b[0mshape\u001b[0m\u001b[0;34m)\u001b[0m\u001b[0;34m\u001b[0m\u001b[0;34m\u001b[0m\u001b[0m\n\u001b[1;32m    666\u001b[0m \u001b[0;34m\u001b[0m\u001b[0m\n",
      "\u001b[0;32m~/anaconda3/envs/geospatial/lib/python3.7/site-packages/pandas/core/dtypes/cast.py\u001b[0m in \u001b[0;36mastype_nansafe\u001b[0;34m(arr, dtype, copy)\u001b[0m\n\u001b[1;32m    700\u001b[0m \u001b[0;34m\u001b[0m\u001b[0m\n\u001b[1;32m    701\u001b[0m         \u001b[0;32mif\u001b[0m \u001b[0;32mnot\u001b[0m \u001b[0mnp\u001b[0m\u001b[0;34m.\u001b[0m\u001b[0misfinite\u001b[0m\u001b[0;34m(\u001b[0m\u001b[0marr\u001b[0m\u001b[0;34m)\u001b[0m\u001b[0;34m.\u001b[0m\u001b[0mall\u001b[0m\u001b[0;34m(\u001b[0m\u001b[0;34m)\u001b[0m\u001b[0;34m:\u001b[0m\u001b[0;34m\u001b[0m\u001b[0;34m\u001b[0m\u001b[0m\n\u001b[0;32m--> 702\u001b[0;31m             raise ValueError('Cannot convert non-finite values (NA or inf) to '\n\u001b[0m\u001b[1;32m    703\u001b[0m                              'integer')\n\u001b[1;32m    704\u001b[0m \u001b[0;34m\u001b[0m\u001b[0m\n",
      "\u001b[0;31mValueError\u001b[0m: Cannot convert non-finite values (NA or inf) to integer"
     ]
    }
   ],
   "source": [
    "crimes['community area'] = crimes['community area'].astype(dtype='int64')\n",
    "crimes['ward'] = crimes['ward'].astype(dtype='Int64')"
   ]
  },
  {
   "cell_type": "code",
   "execution_count": null,
   "metadata": {},
   "outputs": [],
   "source": [
    "crimes.fillna(0)"
   ]
  },
  {
   "cell_type": "code",
   "execution_count": 82,
   "metadata": {},
   "outputs": [],
   "source": [
    "crimes.to_pickle('data/crimes-enhanced.pkl')"
   ]
  },
  {
   "cell_type": "markdown",
   "metadata": {},
   "source": [
    "# Enhance crimes with community area information\n",
    "Todo: comment out the read of crimes for subsequent runs of the whole notebook"
   ]
  },
  {
   "cell_type": "code",
   "execution_count": 80,
   "metadata": {},
   "outputs": [],
   "source": [
    "# crimes = pd.read_pickle('data/crimes-enhanced.pkl')\n",
    "census = pd.read_pickle('data/census-summary-enhanced.pkl')"
   ]
  },
  {
   "cell_type": "raw",
   "metadata": {},
   "source": [
    "crimes_trans = pd.read_pickle('data/crimes-transformed.pkl')\n",
    "crimes = crimes_trans"
   ]
  },
  {
   "cell_type": "code",
   "execution_count": 90,
   "metadata": {
    "scrolled": true
   },
   "outputs": [
    {
     "data": {
      "text/plain": [
       "community area\n",
       "71    1484468\n",
       "67    1476479\n",
       "66    1350492\n",
       "68    1324436\n",
       "69    1261596\n",
       "25    1174100\n",
       "43    1049071\n",
       "49     993426\n",
       "61     943426\n",
       "44     651376\n",
       "73     634808\n",
       "53     629375\n",
       "46     622886\n",
       "29     604418\n",
       "28     544992\n",
       "77     539308\n",
       "23     528241\n",
       "24     515616\n",
       "42     511812\n",
       "32     494048\n",
       "63     483651\n",
       "70     462350\n",
       "75     454875\n",
       "58     419862\n",
       "30     368940\n",
       "27     360882\n",
       "38     357390\n",
       "65     354055\n",
       "22     340692\n",
       "26     328952\n",
       "40     322320\n",
       "76     291232\n",
       "56     287672\n",
       "60     286380\n",
       "19     274569\n",
       "51     261681\n",
       "31     215078\n",
       "48     207024\n",
       "35     196945\n",
       "52     193336\n",
       "8      182376\n",
       "72     181440\n",
       "41     180031\n",
       "62     178622\n",
       "64     175040\n",
       "59     171808\n",
       "45     170415\n",
       "39     170274\n",
       "54     157896\n",
       "57     150537\n",
       "21     149331\n",
       "16     141264\n",
       "15     135345\n",
       "50     128100\n",
       "33     124146\n",
       "74     121582\n",
       "34      95472\n",
       "14      92932\n",
       "6       89880\n",
       "20      89500\n",
       "37      88874\n",
       "55      87285\n",
       "7       77532\n",
       "17      76602\n",
       "36      59436\n",
       "47      42911\n",
       "18      31482\n",
       "13      29939\n",
       "11      29656\n",
       "3       29532\n",
       "10      28790\n",
       "5       20035\n",
       "4       19500\n",
       "2       18598\n",
       "12      15552\n",
       "1       10686\n",
       "9        6012\n",
       "Name: community area, dtype: int64"
      ]
     },
     "execution_count": 90,
     "metadata": {},
     "output_type": "execute_result"
    }
   ],
   "source": [
    "crimes.groupby('community area')['community area'].sum().sort_values(ascending=False)"
   ]
  },
  {
   "cell_type": "code",
   "execution_count": 124,
   "metadata": {},
   "outputs": [],
   "source": [
    "m = Basemap(width=1,height=1, resolution='l',projection='laea',lat_ts=50,lat_0=50,lon_0=-107.)\n",
    "Basemap"
   ]
  },
  {
   "cell_type": "code",
   "execution_count": 126,
   "metadata": {},
   "outputs": [
    {
     "data": {
      "text/plain": [
       "0.0"
      ]
     },
     "execution_count": 126,
     "metadata": {},
     "output_type": "execute_result"
    }
   ],
   "source": [
    "projected_geometry = transform(m,census[census['GeogKey'] == 71]['UTMGeometry'].values.item())\n",
    "projected_geometry.area"
   ]
  },
  {
   "cell_type": "code",
   "execution_count": 130,
   "metadata": {},
   "outputs": [
    {
     "name": "stdout",
     "output_type": "stream",
     "text": [
      "Side 1: 3705.4170308914618; Side 2: 3274.1869035074487\n",
      "12132.22791457828\n"
     ]
    }
   ],
   "source": [
    "side1 = abs(census[census['GeogKey'] == 71]['UTMGeometry'].values.item().bounds[0] - \n",
    "            census[census['GeogKey'] == 71]['UTMGeometry'].values.item().bounds[2]\n",
    "           )\n",
    "side2 = abs(census[census['GeogKey'] == 71]['UTMGeometry'].values.item().bounds[1] - \n",
    "            census[census['GeogKey'] == 71]['UTMGeometry'].values.item().bounds[3]\n",
    "           )\n",
    "print(\"Side 1: {0}; Side 2: {1}\".format(side1, side2))\n",
    "print(side1 * side2 / 1000)"
   ]
  },
  {
   "cell_type": "code",
   "execution_count": 146,
   "metadata": {},
   "outputs": [],
   "source": [
    "poly71 = census[census['GeogKey'] == 71]['UTMGeometry'].values.item()\n",
    "poly09 = census[census['GeogKey'] == 9]['UTMGeometry'].values.item()\n",
    "pop71 = census[census['GeogKey'] == 71]['Total Population'].values.item()\n",
    "pop09 = census[census['GeogKey'] == 9]['Total Population'].values.item()\n",
    "density71 = pop71 / poly71.area\n",
    "density09 = pop09 / poly09.area"
   ]
  },
  {
   "cell_type": "code",
   "execution_count": 152,
   "metadata": {},
   "outputs": [
    {
     "ename": "ValueError",
     "evalue": "can only convert an array of size 1 to a Python scalar",
     "output_type": "error",
     "traceback": [
      "\u001b[0;31m---------------------------------------------------------------------------\u001b[0m",
      "\u001b[0;31mValueError\u001b[0m                                Traceback (most recent call last)",
      "\u001b[0;32m<ipython-input-152-d88b7e12fe12>\u001b[0m in \u001b[0;36m<module>\u001b[0;34m\u001b[0m\n\u001b[1;32m      1\u001b[0m \u001b[0;31m#census.apply(lambda row: row['Total Population'].values.item() / row['UTMGeometry'].values.item().area)\u001b[0m\u001b[0;34m\u001b[0m\u001b[0;34m\u001b[0m\u001b[0;34m\u001b[0m\u001b[0m\n\u001b[0;32m----> 2\u001b[0;31m \u001b[0mcensus\u001b[0m\u001b[0;34m[\u001b[0m\u001b[0;34m'Total Population'\u001b[0m\u001b[0;34m]\u001b[0m \u001b[0;34m/\u001b[0m \u001b[0mcensus\u001b[0m\u001b[0;34m[\u001b[0m\u001b[0;34m'UTMGeometry'\u001b[0m\u001b[0;34m]\u001b[0m\u001b[0;34m.\u001b[0m\u001b[0mvalues\u001b[0m\u001b[0;34m.\u001b[0m\u001b[0mitem\u001b[0m\u001b[0;34m(\u001b[0m\u001b[0;34m)\u001b[0m\u001b[0;34m.\u001b[0m\u001b[0marea\u001b[0m\u001b[0;34m\u001b[0m\u001b[0;34m\u001b[0m\u001b[0m\n\u001b[0m",
      "\u001b[0;31mValueError\u001b[0m: can only convert an array of size 1 to a Python scalar"
     ]
    }
   ],
   "source": [
    "#census.apply(lambda row: row['Total Population'].values.item() / row['UTMGeometry'].values.item().area)\n",
    "census['Total Population'] / census['UTMGeometry'].values.item().area"
   ]
  },
  {
   "cell_type": "code",
   "execution_count": 154,
   "metadata": {},
   "outputs": [
    {
     "ename": "KeyError",
     "evalue": "('UTMGeometry', 'occurred at index Geog')",
     "output_type": "error",
     "traceback": [
      "\u001b[0;31m---------------------------------------------------------------------------\u001b[0m",
      "\u001b[0;31mTypeError\u001b[0m                                 Traceback (most recent call last)",
      "\u001b[0;32mpandas/_libs/index.pyx\u001b[0m in \u001b[0;36mpandas._libs.index.IndexEngine.get_loc\u001b[0;34m()\u001b[0m\n",
      "\u001b[0;32mpandas/_libs/hashtable_class_helper.pxi\u001b[0m in \u001b[0;36mpandas._libs.hashtable.Int64HashTable.get_item\u001b[0;34m()\u001b[0m\n",
      "\u001b[0;31mTypeError\u001b[0m: an integer is required",
      "\nDuring handling of the above exception, another exception occurred:\n",
      "\u001b[0;31mKeyError\u001b[0m                                  Traceback (most recent call last)",
      "\u001b[0;32m<ipython-input-154-e7b76a596c34>\u001b[0m in \u001b[0;36m<module>\u001b[0;34m\u001b[0m\n\u001b[0;32m----> 1\u001b[0;31m \u001b[0mcensus\u001b[0m\u001b[0;34m.\u001b[0m\u001b[0mapply\u001b[0m\u001b[0;34m(\u001b[0m\u001b[0;32mlambda\u001b[0m \u001b[0mrow\u001b[0m\u001b[0;34m:\u001b[0m \u001b[0mrow\u001b[0m\u001b[0;34m[\u001b[0m\u001b[0;34m'UTMGeometry'\u001b[0m\u001b[0;34m]\u001b[0m\u001b[0;34m.\u001b[0m\u001b[0mvalues\u001b[0m\u001b[0;34m.\u001b[0m\u001b[0mitem\u001b[0m\u001b[0;34m(\u001b[0m\u001b[0;34m)\u001b[0m\u001b[0;34m.\u001b[0m\u001b[0marea\u001b[0m\u001b[0;34m)\u001b[0m\u001b[0;34m\u001b[0m\u001b[0;34m\u001b[0m\u001b[0m\n\u001b[0m",
      "\u001b[0;32m~/anaconda3/envs/geospatial/lib/python3.7/site-packages/pandas/core/frame.py\u001b[0m in \u001b[0;36mapply\u001b[0;34m(self, func, axis, broadcast, raw, reduce, result_type, args, **kwds)\u001b[0m\n\u001b[1;32m   6012\u001b[0m                          \u001b[0margs\u001b[0m\u001b[0;34m=\u001b[0m\u001b[0margs\u001b[0m\u001b[0;34m,\u001b[0m\u001b[0;34m\u001b[0m\u001b[0;34m\u001b[0m\u001b[0m\n\u001b[1;32m   6013\u001b[0m                          kwds=kwds)\n\u001b[0;32m-> 6014\u001b[0;31m         \u001b[0;32mreturn\u001b[0m \u001b[0mop\u001b[0m\u001b[0;34m.\u001b[0m\u001b[0mget_result\u001b[0m\u001b[0;34m(\u001b[0m\u001b[0;34m)\u001b[0m\u001b[0;34m\u001b[0m\u001b[0;34m\u001b[0m\u001b[0m\n\u001b[0m\u001b[1;32m   6015\u001b[0m \u001b[0;34m\u001b[0m\u001b[0m\n\u001b[1;32m   6016\u001b[0m     \u001b[0;32mdef\u001b[0m \u001b[0mapplymap\u001b[0m\u001b[0;34m(\u001b[0m\u001b[0mself\u001b[0m\u001b[0;34m,\u001b[0m \u001b[0mfunc\u001b[0m\u001b[0;34m)\u001b[0m\u001b[0;34m:\u001b[0m\u001b[0;34m\u001b[0m\u001b[0;34m\u001b[0m\u001b[0m\n",
      "\u001b[0;32m~/anaconda3/envs/geospatial/lib/python3.7/site-packages/pandas/core/apply.py\u001b[0m in \u001b[0;36mget_result\u001b[0;34m(self)\u001b[0m\n\u001b[1;32m    316\u001b[0m                                       *self.args, **self.kwds)\n\u001b[1;32m    317\u001b[0m \u001b[0;34m\u001b[0m\u001b[0m\n\u001b[0;32m--> 318\u001b[0;31m         \u001b[0;32mreturn\u001b[0m \u001b[0msuper\u001b[0m\u001b[0;34m(\u001b[0m\u001b[0mFrameRowApply\u001b[0m\u001b[0;34m,\u001b[0m \u001b[0mself\u001b[0m\u001b[0;34m)\u001b[0m\u001b[0;34m.\u001b[0m\u001b[0mget_result\u001b[0m\u001b[0;34m(\u001b[0m\u001b[0;34m)\u001b[0m\u001b[0;34m\u001b[0m\u001b[0;34m\u001b[0m\u001b[0m\n\u001b[0m\u001b[1;32m    319\u001b[0m \u001b[0;34m\u001b[0m\u001b[0m\n\u001b[1;32m    320\u001b[0m     \u001b[0;32mdef\u001b[0m \u001b[0mapply_broadcast\u001b[0m\u001b[0;34m(\u001b[0m\u001b[0mself\u001b[0m\u001b[0;34m)\u001b[0m\u001b[0;34m:\u001b[0m\u001b[0;34m\u001b[0m\u001b[0;34m\u001b[0m\u001b[0m\n",
      "\u001b[0;32m~/anaconda3/envs/geospatial/lib/python3.7/site-packages/pandas/core/apply.py\u001b[0m in \u001b[0;36mget_result\u001b[0;34m(self)\u001b[0m\n\u001b[1;32m    140\u001b[0m             \u001b[0;32mreturn\u001b[0m \u001b[0mself\u001b[0m\u001b[0;34m.\u001b[0m\u001b[0mapply_raw\u001b[0m\u001b[0;34m(\u001b[0m\u001b[0;34m)\u001b[0m\u001b[0;34m\u001b[0m\u001b[0;34m\u001b[0m\u001b[0m\n\u001b[1;32m    141\u001b[0m \u001b[0;34m\u001b[0m\u001b[0m\n\u001b[0;32m--> 142\u001b[0;31m         \u001b[0;32mreturn\u001b[0m \u001b[0mself\u001b[0m\u001b[0;34m.\u001b[0m\u001b[0mapply_standard\u001b[0m\u001b[0;34m(\u001b[0m\u001b[0;34m)\u001b[0m\u001b[0;34m\u001b[0m\u001b[0;34m\u001b[0m\u001b[0m\n\u001b[0m\u001b[1;32m    143\u001b[0m \u001b[0;34m\u001b[0m\u001b[0m\n\u001b[1;32m    144\u001b[0m     \u001b[0;32mdef\u001b[0m \u001b[0mapply_empty_result\u001b[0m\u001b[0;34m(\u001b[0m\u001b[0mself\u001b[0m\u001b[0;34m)\u001b[0m\u001b[0;34m:\u001b[0m\u001b[0;34m\u001b[0m\u001b[0;34m\u001b[0m\u001b[0m\n",
      "\u001b[0;32m~/anaconda3/envs/geospatial/lib/python3.7/site-packages/pandas/core/apply.py\u001b[0m in \u001b[0;36mapply_standard\u001b[0;34m(self)\u001b[0m\n\u001b[1;32m    246\u001b[0m \u001b[0;34m\u001b[0m\u001b[0m\n\u001b[1;32m    247\u001b[0m         \u001b[0;31m# compute the result using the series generator\u001b[0m\u001b[0;34m\u001b[0m\u001b[0;34m\u001b[0m\u001b[0;34m\u001b[0m\u001b[0m\n\u001b[0;32m--> 248\u001b[0;31m         \u001b[0mself\u001b[0m\u001b[0;34m.\u001b[0m\u001b[0mapply_series_generator\u001b[0m\u001b[0;34m(\u001b[0m\u001b[0;34m)\u001b[0m\u001b[0;34m\u001b[0m\u001b[0;34m\u001b[0m\u001b[0m\n\u001b[0m\u001b[1;32m    249\u001b[0m \u001b[0;34m\u001b[0m\u001b[0m\n\u001b[1;32m    250\u001b[0m         \u001b[0;31m# wrap results\u001b[0m\u001b[0;34m\u001b[0m\u001b[0;34m\u001b[0m\u001b[0;34m\u001b[0m\u001b[0m\n",
      "\u001b[0;32m~/anaconda3/envs/geospatial/lib/python3.7/site-packages/pandas/core/apply.py\u001b[0m in \u001b[0;36mapply_series_generator\u001b[0;34m(self)\u001b[0m\n\u001b[1;32m    275\u001b[0m             \u001b[0;32mtry\u001b[0m\u001b[0;34m:\u001b[0m\u001b[0;34m\u001b[0m\u001b[0;34m\u001b[0m\u001b[0m\n\u001b[1;32m    276\u001b[0m                 \u001b[0;32mfor\u001b[0m \u001b[0mi\u001b[0m\u001b[0;34m,\u001b[0m \u001b[0mv\u001b[0m \u001b[0;32min\u001b[0m \u001b[0menumerate\u001b[0m\u001b[0;34m(\u001b[0m\u001b[0mseries_gen\u001b[0m\u001b[0;34m)\u001b[0m\u001b[0;34m:\u001b[0m\u001b[0;34m\u001b[0m\u001b[0;34m\u001b[0m\u001b[0m\n\u001b[0;32m--> 277\u001b[0;31m                     \u001b[0mresults\u001b[0m\u001b[0;34m[\u001b[0m\u001b[0mi\u001b[0m\u001b[0;34m]\u001b[0m \u001b[0;34m=\u001b[0m \u001b[0mself\u001b[0m\u001b[0;34m.\u001b[0m\u001b[0mf\u001b[0m\u001b[0;34m(\u001b[0m\u001b[0mv\u001b[0m\u001b[0;34m)\u001b[0m\u001b[0;34m\u001b[0m\u001b[0;34m\u001b[0m\u001b[0m\n\u001b[0m\u001b[1;32m    278\u001b[0m                     \u001b[0mkeys\u001b[0m\u001b[0;34m.\u001b[0m\u001b[0mappend\u001b[0m\u001b[0;34m(\u001b[0m\u001b[0mv\u001b[0m\u001b[0;34m.\u001b[0m\u001b[0mname\u001b[0m\u001b[0;34m)\u001b[0m\u001b[0;34m\u001b[0m\u001b[0;34m\u001b[0m\u001b[0m\n\u001b[1;32m    279\u001b[0m             \u001b[0;32mexcept\u001b[0m \u001b[0mException\u001b[0m \u001b[0;32mas\u001b[0m \u001b[0me\u001b[0m\u001b[0;34m:\u001b[0m\u001b[0;34m\u001b[0m\u001b[0;34m\u001b[0m\u001b[0m\n",
      "\u001b[0;32m<ipython-input-154-e7b76a596c34>\u001b[0m in \u001b[0;36m<lambda>\u001b[0;34m(row)\u001b[0m\n\u001b[0;32m----> 1\u001b[0;31m \u001b[0mcensus\u001b[0m\u001b[0;34m.\u001b[0m\u001b[0mapply\u001b[0m\u001b[0;34m(\u001b[0m\u001b[0;32mlambda\u001b[0m \u001b[0mrow\u001b[0m\u001b[0;34m:\u001b[0m \u001b[0mrow\u001b[0m\u001b[0;34m[\u001b[0m\u001b[0;34m'UTMGeometry'\u001b[0m\u001b[0;34m]\u001b[0m\u001b[0;34m.\u001b[0m\u001b[0mvalues\u001b[0m\u001b[0;34m.\u001b[0m\u001b[0mitem\u001b[0m\u001b[0;34m(\u001b[0m\u001b[0;34m)\u001b[0m\u001b[0;34m.\u001b[0m\u001b[0marea\u001b[0m\u001b[0;34m)\u001b[0m\u001b[0;34m\u001b[0m\u001b[0;34m\u001b[0m\u001b[0m\n\u001b[0m",
      "\u001b[0;32m~/anaconda3/envs/geospatial/lib/python3.7/site-packages/pandas/core/series.py\u001b[0m in \u001b[0;36m__getitem__\u001b[0;34m(self, key)\u001b[0m\n\u001b[1;32m    765\u001b[0m         \u001b[0mkey\u001b[0m \u001b[0;34m=\u001b[0m \u001b[0mcom\u001b[0m\u001b[0;34m.\u001b[0m\u001b[0m_apply_if_callable\u001b[0m\u001b[0;34m(\u001b[0m\u001b[0mkey\u001b[0m\u001b[0;34m,\u001b[0m \u001b[0mself\u001b[0m\u001b[0;34m)\u001b[0m\u001b[0;34m\u001b[0m\u001b[0;34m\u001b[0m\u001b[0m\n\u001b[1;32m    766\u001b[0m         \u001b[0;32mtry\u001b[0m\u001b[0;34m:\u001b[0m\u001b[0;34m\u001b[0m\u001b[0;34m\u001b[0m\u001b[0m\n\u001b[0;32m--> 767\u001b[0;31m             \u001b[0mresult\u001b[0m \u001b[0;34m=\u001b[0m \u001b[0mself\u001b[0m\u001b[0;34m.\u001b[0m\u001b[0mindex\u001b[0m\u001b[0;34m.\u001b[0m\u001b[0mget_value\u001b[0m\u001b[0;34m(\u001b[0m\u001b[0mself\u001b[0m\u001b[0;34m,\u001b[0m \u001b[0mkey\u001b[0m\u001b[0;34m)\u001b[0m\u001b[0;34m\u001b[0m\u001b[0;34m\u001b[0m\u001b[0m\n\u001b[0m\u001b[1;32m    768\u001b[0m \u001b[0;34m\u001b[0m\u001b[0m\n\u001b[1;32m    769\u001b[0m             \u001b[0;32mif\u001b[0m \u001b[0;32mnot\u001b[0m \u001b[0mis_scalar\u001b[0m\u001b[0;34m(\u001b[0m\u001b[0mresult\u001b[0m\u001b[0;34m)\u001b[0m\u001b[0;34m:\u001b[0m\u001b[0;34m\u001b[0m\u001b[0;34m\u001b[0m\u001b[0m\n",
      "\u001b[0;32m~/anaconda3/envs/geospatial/lib/python3.7/site-packages/pandas/core/indexes/base.py\u001b[0m in \u001b[0;36mget_value\u001b[0;34m(self, series, key)\u001b[0m\n\u001b[1;32m   3116\u001b[0m         \u001b[0;32mtry\u001b[0m\u001b[0;34m:\u001b[0m\u001b[0;34m\u001b[0m\u001b[0;34m\u001b[0m\u001b[0m\n\u001b[1;32m   3117\u001b[0m             return self._engine.get_value(s, k,\n\u001b[0;32m-> 3118\u001b[0;31m                                           tz=getattr(series.dtype, 'tz', None))\n\u001b[0m\u001b[1;32m   3119\u001b[0m         \u001b[0;32mexcept\u001b[0m \u001b[0mKeyError\u001b[0m \u001b[0;32mas\u001b[0m \u001b[0me1\u001b[0m\u001b[0;34m:\u001b[0m\u001b[0;34m\u001b[0m\u001b[0;34m\u001b[0m\u001b[0m\n\u001b[1;32m   3120\u001b[0m             \u001b[0;32mif\u001b[0m \u001b[0mlen\u001b[0m\u001b[0;34m(\u001b[0m\u001b[0mself\u001b[0m\u001b[0;34m)\u001b[0m \u001b[0;34m>\u001b[0m \u001b[0;36m0\u001b[0m \u001b[0;32mand\u001b[0m \u001b[0mself\u001b[0m\u001b[0;34m.\u001b[0m\u001b[0minferred_type\u001b[0m \u001b[0;32min\u001b[0m \u001b[0;34m[\u001b[0m\u001b[0;34m'integer'\u001b[0m\u001b[0;34m,\u001b[0m \u001b[0;34m'boolean'\u001b[0m\u001b[0;34m]\u001b[0m\u001b[0;34m:\u001b[0m\u001b[0;34m\u001b[0m\u001b[0;34m\u001b[0m\u001b[0m\n",
      "\u001b[0;32mpandas/_libs/index.pyx\u001b[0m in \u001b[0;36mpandas._libs.index.IndexEngine.get_value\u001b[0;34m()\u001b[0m\n",
      "\u001b[0;32mpandas/_libs/index.pyx\u001b[0m in \u001b[0;36mpandas._libs.index.IndexEngine.get_value\u001b[0;34m()\u001b[0m\n",
      "\u001b[0;32mpandas/_libs/index.pyx\u001b[0m in \u001b[0;36mpandas._libs.index.IndexEngine.get_loc\u001b[0;34m()\u001b[0m\n",
      "\u001b[0;31mKeyError\u001b[0m: ('UTMGeometry', 'occurred at index Geog')"
     ]
    }
   ],
   "source": [
    "census.apply(lambda row: row['UTMGeometry'].values.item().area)"
   ]
  }
 ],
 "metadata": {
  "kernelspec": {
   "display_name": "Python 3",
   "language": "python",
   "name": "python3"
  },
  "language_info": {
   "codemirror_mode": {
    "name": "ipython",
    "version": 3
   },
   "file_extension": ".py",
   "mimetype": "text/x-python",
   "name": "python",
   "nbconvert_exporter": "python",
   "pygments_lexer": "ipython3",
   "version": "3.7.2"
  }
 },
 "nbformat": 4,
 "nbformat_minor": 2
}
