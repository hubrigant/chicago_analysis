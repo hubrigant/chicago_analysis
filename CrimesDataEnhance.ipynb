{
 "cells": [
  {
   "cell_type": "code",
   "execution_count": 1,
   "metadata": {},
   "outputs": [],
   "source": [
    "# Imports first\n",
    "import csv\n",
    "import time\n",
    "#from math import sqrt\n",
    "import math\n",
    "import geopandas as gpd\n",
    "import pandas as pd\n",
    "import shapely\n",
    "from shapely.ops import nearest_points\n",
    "import numpy as np\n",
    "from scipy import spatial\n",
    "import pyproj"
   ]
  },
  {
   "cell_type": "code",
   "execution_count": 2,
   "metadata": {},
   "outputs": [],
   "source": [
    "# Set notebook display options\n",
    "pd.set_option('display.max_rows', 1000)"
   ]
  },
  {
   "cell_type": "code",
   "execution_count": 3,
   "metadata": {},
   "outputs": [],
   "source": [
    "def find_nearest(row, dest_df=None, geom1_col='geometry', geom2_col='geometry'):\n",
    "    if dest_df is None:\n",
    "        raise ValueError('Destination DataFrame (df2) argument not provided')\n",
    "    D = spatial.distance_matrix([[row[geom1_col].x, row[geom1_col].y]],\n",
    "                                [[pt.x, pt.y] for pt in dest_df[geom2_col]])\n",
    "    nn = np.array([[np.min(D[0,]), np.argmin(D[0,])]])\n",
    "    distance = float(nn[:,0][0])\n",
    "    nearest_index = int(nn[:,1][0])\n",
    "    return nearest_index, distance"
   ]
  },
  {
   "cell_type": "code",
   "execution_count": 4,
   "metadata": {},
   "outputs": [],
   "source": [
    "def geod2utm(row):\n",
    "    '''   Convert geodetic coordinates to UTM   '''\n",
    "    zn = '16T'\n",
    "    datum = 'WGS84'\n",
    "    lat = row['lat']\n",
    "    lon = row['lon']\n",
    "        \n",
    "    p = pyproj.Proj(proj='utm', zone=zn, ellps=datum)\n",
    "    \n",
    "    X, Y = p(lon, lat)\n",
    "    \n",
    "    return pd.Series({'UTMx': X, 'UTMy': Y})"
   ]
  },
  {
   "cell_type": "code",
   "execution_count": 5,
   "metadata": {},
   "outputs": [],
   "source": [
    "def make_utm_points(row):\n",
    "    UTMx = row['UTMx']\n",
    "    UTMy = row['UTMy']\n",
    "    UTMPoint = shapely.geometry.Point(UTMx, UTMy)\n",
    "    return UTMPoint"
   ]
  },
  {
   "cell_type": "code",
   "execution_count": 6,
   "metadata": {},
   "outputs": [],
   "source": [
    "def assign_category(row):\n",
    "    categories: dict = {\"THEFT\": \"property\",\n",
    "                    \"BURGLARY\": \"property\",\n",
    "                    \"MOTOR VEHICLE THEFT\": \"property\",\n",
    "                    \"ARSON\": \"property\",\n",
    "                    \"CRIMINAL DAMAGE\": \"property\",\n",
    "                    \"ROBBERY\": \"property\",\n",
    "                    \"ASSAULT\": \"person\",\n",
    "                    \"BATTERY\": \"person\",\n",
    "                    \"CRIM SEXUAL ASSAULT\": \"person\",\n",
    "                    \"HOMICIDE\": \"person\",\n",
    "                    \"INTIMIDATION\": \"person\",\n",
    "                    \"KIDNAPPING\": \"person\",\n",
    "                    \"OFFENSE INVOLVING CHILDREN\": \"person\",\n",
    "                    \"SEX OFFENSE\": \"person\",\n",
    "                    \"STALKING\": \"person\",\n",
    "                    \"GAMBLING\": \"vice\",\n",
    "                    \"NARCOTICS\": \"vice\",\n",
    "                    \"PROSTITUTION\": \"vice\",\n",
    "                    \"LIQUOR LAW VIOLATION\": \"vice\",\n",
    "                    \"OBSCENITY\": \"vice\",\n",
    "                    \"OTHER NARCOTIC VIOLATION\": \"vice\",\n",
    "                    \"PUBLIC INDECENCY\": \"vice\",\n",
    "                    \"OTHER OFFENSE\": \"other\",\n",
    "                    \"DECEPTIVE PRACTICE\": \"other\",\n",
    "                    \"WEAPONS VIOLATION\": \"other\",\n",
    "                    \"PUBLIC PEACE VIOLATION\": \"other\",\n",
    "                    \"CRIMINAL TRESPASS\": \"other\",\n",
    "                    \"INTERFERENCE WITH PUBLIC OFFICER\": \"other\",\n",
    "                    \"NON-CRIMINAL\": \"other\"\n",
    "                   }\n",
    "    return categories[row['primary type']]"
   ]
  },
  {
   "cell_type": "code",
   "execution_count": 2,
   "metadata": {},
   "outputs": [],
   "source": [
    "def get_bearing(row: pd.Series, point2: shapely.geometry.Point, point1_geom='geometry'):\n",
    "    \"\"\"A method that returns the number of degrees from due north a line is.\n",
    "\n",
    "    This line is defined as being from point1 (typically the source point) \n",
    "    to point2 (typically the destination).\n",
    "    \n",
    "    The point point1 is presumed to come from the row indexed by the string\n",
    "    'geometry' in the pandas Series passed to this method as row.\n",
    "\n",
    "    This function is designed to be used in a pandas.DataFrame.apply() call.\n",
    "    \"\"\"\n",
    "    \n",
    "    point1:shapely.geometry.Point = row[point1_geom]\n",
    "    point3:shapely.geometry.Point = shapely.geometry.Point(point1.x, point2.y)\n",
    "    A:float = point1.distance(point3) # adjacent leg\n",
    "    B:float = point2.distance(point3) # opposite leg\n",
    "    C:float = point1.distance(point2) # hypotenuse leg\n",
    "    # To find the bearing, we need to know the angle from a right triangle\n",
    "    # defined by point1 (the source point), point2 (the destination point), and\n",
    "    # point3, the point due north or south of point1 at a distance defined by\n",
    "    # point2.y.\n",
    "    #\n",
    "    # The angle needed is of the leg between point1 and point3 and the leg\n",
    "    # between point1 and point2.\n",
    "    theta:float = math.degrees(math.asin(A/C))\n",
    "    # Start with bearing of 0 degrees (a.k.a. due north)\n",
    "    bearing:float = 0.0\n",
    "    # X is equal, so point 2 is either north or south\n",
    "    if point2.x == point1.x:\n",
    "        # if point2.y is bigger, it's north, so no need to modify bearing\n",
    "        # otherwise, bearing is 180 degrees\n",
    "        if point2.y < point1.y:\n",
    "            bearing = 180.0\n",
    "    # Y is equal, so either due east or due west\n",
    "    elif point2.y == point1.y:\n",
    "        # point2.x is bigger, so due west\n",
    "        if point2.x > point1.x:\n",
    "            bearing = 270\n",
    "        # point2.x is smaller, so due east\n",
    "        else:\n",
    "            bearing = 90\n",
    "    # Point2.x is bigger, so Point2 is west of Point1\n",
    "    elif point2.x > point1.x:\n",
    "        # Point2.y is bigger, so NW\n",
    "        if point2.y > point1.y:\n",
    "            bearing = theta + 270\n",
    "        # Point2.y is smaller, so SW\n",
    "        else:\n",
    "            bearing = theta + 180\n",
    "    # Point2.x is smaller, so Point2 is east of Point1\n",
    "    else:\n",
    "        # Point2.y is bigger, so NE\n",
    "        if point2.y > point1.y:\n",
    "            bearing = theta\n",
    "            # bearing = theta + 90\n",
    "        # Point2.y is smaller, so SE\n",
    "        else:\n",
    "            bearing = theta + 90\n",
    "    return round(bearing, 2)"
   ]
  },
  {
   "cell_type": "markdown",
   "metadata": {},
   "source": [
    "# Enhance crimes data\n",
    "* Identify nearest school, library, and police station, and the distance and compass heading to each\n",
    "* Summarize the report type into one of four categories:\n",
    "  * Property: crimes involving the stealing of or damage to property\n",
    "  * Person: crimes against a human, such as assault, homicide, or kidnapping\n",
    "  * Vice: violations of morality-based laws, such as prostitution, gambling, or drug/alcohol\n",
    "  * Other: anything reported not in the above three categories"
   ]
  },
  {
   "cell_type": "raw",
   "metadata": {},
   "source": [
    "crimes_header = ['ID', 'case number', 'date', 'block', 'iucr', 'primary type', 'desc', 'locdesc',\n",
    "                 'arrest', 'domestic', 'beat', 'district', 'ward', 'community area', 'fbi code',\n",
    "                 'x coord', 'y coord', 'year', 'updated on', 'lat', 'lon', 'location'\n",
    "                ]"
   ]
  },
  {
   "cell_type": "raw",
   "metadata": {
    "scrolled": true
   },
   "source": [
    "crimes1_df = pd.read_csv('data/crimes-2010-2011-0.csv', names=crimes_header, header=None)\n",
    "crimes2_df = pd.read_csv('data/crimes-2010-2011-1.csv', names=crimes_header, header=None)\n",
    "crimes_df = pd.concat([crimes1_df, crimes2_df], names=crimes_header, ignore_index=True)"
   ]
  },
  {
   "cell_type": "raw",
   "metadata": {},
   "source": [
    "crimes_df.dropna(subset=['lat', 'lon'], inplace=True)"
   ]
  },
  {
   "cell_type": "raw",
   "metadata": {
    "scrolled": true
   },
   "source": [
    "crimes_df = (crimes_df.merge(neighborhoods[['community', 'area_numbe']], left_on='community area', right_on='area_numbe', how='left'))\n",
    "del crimes_df['area_numbe']"
   ]
  },
  {
   "cell_type": "raw",
   "metadata": {},
   "source": [
    "crimes_df.rename(columns={'community': 'community name'}, inplace=True)"
   ]
  },
  {
   "cell_type": "raw",
   "metadata": {},
   "source": [
    "crimes_df['UTMx'] = np.zeros(len(crimes_df))\n",
    "crimes_df['UTMy'] = np.zeros(len(crimes_df))\n",
    "crimes_df.loc[:, ('UTMx', 'UTMy')] = crimes_df.apply(geod2utm, axis=1)"
   ]
  },
  {
   "cell_type": "raw",
   "metadata": {
    "scrolled": true
   },
   "source": [
    "crimes_df['UTMPoint'] = crimes_df.apply(make_utm_points, axis=1)"
   ]
  },
  {
   "cell_type": "code",
   "execution_count": 7,
   "metadata": {},
   "outputs": [],
   "source": [
    "categories: dict = {\"THEFT\": \"property\",\n",
    "                    \"BURGLARY\": \"property\",\n",
    "                    \"MOTOR VEHICLE THEFT\": \"property\",\n",
    "                    \"ARSON\": \"property\",\n",
    "                    \"CRIMINAL DAMAGE\": \"property\",\n",
    "                    \"ROBBERY\": \"property\",\n",
    "                    \"ASSAULT\": \"person\",\n",
    "                    \"BATTERY\": \"person\",\n",
    "                    \"CRIM SEXUAL ASSAULT\": \"person\",\n",
    "                    \"HOMICIDE\": \"person\",\n",
    "                    \"INTIMIDATION\": \"person\",\n",
    "                    \"KIDNAPPING\": \"person\",\n",
    "                    \"OFFENSE INVOLVING CHILDREN\": \"person\",\n",
    "                    \"SEX OFFENSE\": \"person\",\n",
    "                    \"STALKING\": \"person\",\n",
    "                    \"GAMBLING\": \"vice\",\n",
    "                    \"NARCOTICS\": \"vice\",\n",
    "                    \"PROSTITUTION\": \"vice\",\n",
    "                    \"LIQUOR LAW VIOLATION\": \"vice\",\n",
    "                    \"OBSCENITY\": \"vice\",\n",
    "                    \"OTHER NARCOTIC VIOLATION\": \"vice\",\n",
    "                    \"PUBLIC INDECENCY\": \"vice\",\n",
    "                    \"OTHER OFFENSE\": \"other\",\n",
    "                    \"DECEPTIVE PRACTICE\": \"other\",\n",
    "                    \"WEAPONS VIOLATION\": \"other\",\n",
    "                    \"PUBLIC PEACE VIOLATION\": \"other\",\n",
    "                    \"CRIMINAL TRESPASS\": \"other\",\n",
    "                    \"INTERFERENCE WITH PUBLIC OFFICER\": \"other\",\n",
    "                    \"NON-CRIMINAL\": \"other\"\n",
    "                   }"
   ]
  },
  {
   "cell_type": "code",
   "execution_count": 8,
   "metadata": {},
   "outputs": [],
   "source": [
    "crimes_df = pd.read_pickle(\"data/crimes-transformed.pkl\")"
   ]
  },
  {
   "cell_type": "code",
   "execution_count": 9,
   "metadata": {},
   "outputs": [],
   "source": [
    "crimes_df['category'] = crimes_df.apply(assign_category, axis=1)"
   ]
  },
  {
   "cell_type": "code",
   "execution_count": 10,
   "metadata": {},
   "outputs": [],
   "source": [
    "crimes = gpd.GeoDataFrame(crimes_df, geometry='UTMPoint')"
   ]
  },
  {
   "cell_type": "code",
   "execution_count": 11,
   "metadata": {},
   "outputs": [],
   "source": [
    "crimes.crs = {'init' :'epsg:2966'}"
   ]
  },
  {
   "cell_type": "code",
   "execution_count": 12,
   "metadata": {},
   "outputs": [],
   "source": [
    "# Create a small extract of data to test performance of algorithms\n",
    "crimes_extract = crimes.iloc[0:100]"
   ]
  },
  {
   "cell_type": "code",
   "execution_count": 9,
   "metadata": {},
   "outputs": [],
   "source": [
    "schools_df = pd.read_pickle(\"data/schools-transformed.pkl\")"
   ]
  },
  {
   "cell_type": "code",
   "execution_count": 10,
   "metadata": {},
   "outputs": [],
   "source": [
    "neighborhoods = pd.read_pickle(\"data/neighborhoods.pkl\")"
   ]
  },
  {
   "cell_type": "code",
   "execution_count": 11,
   "metadata": {},
   "outputs": [],
   "source": [
    "schools_df.set_index(\"UNIT_ID\")\n",
    "schools_df['UNIT_ID'] = schools_df.index"
   ]
  },
  {
   "cell_type": "code",
   "execution_count": 12,
   "metadata": {},
   "outputs": [],
   "source": [
    "schools = gpd.GeoDataFrame(schools_df)"
   ]
  },
  {
   "cell_type": "code",
   "execution_count": 17,
   "metadata": {},
   "outputs": [],
   "source": [
    "schools_unary_union = schools.unary_union"
   ]
  },
  {
   "cell_type": "raw",
   "metadata": {
    "scrolled": true
   },
   "source": [
    "start_time = time.time()\n",
    "crimes_extract = pd.concat([crimes_extract, pd.DataFrame(crimes_extract.apply(distance_to_nearest,\n",
    "                                     geom_union=schools_unary_union,\n",
    "                                     df1=crimes_extract,\n",
    "                                     df2=schools,\n",
    "                                     geom1_col='UTMPoint',\n",
    "                                     geom2_col='geometry',\n",
    "                                     src_column='UNIT_ID',\n",
    "                                     axis=1\n",
    "                                    ).tolist(),\n",
    "             columns = ['nearest_school_id', 'nearest_school_distance'],\n",
    "             index=crimes_extract.index)], axis=1)\n",
    "end_time = time.time()\n",
    "print(\"That took {0} seconds\".format(end_time - start_time))"
   ]
  },
  {
   "cell_type": "raw",
   "metadata": {},
   "source": [
    "crimes_extract = crimes_extract.set_geometry('UTMPoint')\n",
    "schools = schools.set_geometry('geometry')"
   ]
  },
  {
   "cell_type": "code",
   "execution_count": 18,
   "metadata": {
    "scrolled": false
   },
   "outputs": [
    {
     "name": "stdout",
     "output_type": "stream",
     "text": [
      "That took 8270.879845142365 seconds\n"
     ]
    }
   ],
   "source": [
    "start_time = time.time()\n",
    "crimes = pd.concat([crimes, pd.DataFrame(crimes.apply(find_nearest,\n",
    "                                                      dest_df=schools,\n",
    "                                                      geom1_col='UTMPoint',\n",
    "                                                      geom2_col='geometry',\n",
    "                                                      axis=1\n",
    "                                                     ).tolist(),\n",
    "                                        columns=['nearest_school_id', 'nearest_school_distance'],\n",
    "                                        index=crimes.index)], axis=1)\n",
    "end_time = time.time()\n",
    "print(\"That took {0} seconds\".format(end_time - start_time))"
   ]
  },
  {
   "cell_type": "markdown",
   "metadata": {},
   "source": [
    "# Enhance crimes with identity and distance to nearest police station"
   ]
  },
  {
   "cell_type": "raw",
   "metadata": {},
   "source": [
    "police_stations_df = pd.read_csv('data/Police_Stations_-_Map.csv')"
   ]
  },
  {
   "cell_type": "raw",
   "metadata": {},
   "source": [
    "police_stations_df['geometry'] = police_stations_df.apply(lambda z: shapely.geometry.Point(z.LAT, z.LON), axis=1)"
   ]
  },
  {
   "cell_type": "code",
   "execution_count": 13,
   "metadata": {},
   "outputs": [],
   "source": [
    "police_stations_df = pd.read_pickle('data/police-stations-transformed.pkl')\n",
    "police_stations = gpd.GeoDataFrame(police_stations_df)"
   ]
  },
  {
   "cell_type": "code",
   "execution_count": 14,
   "metadata": {},
   "outputs": [],
   "source": [
    "police_stations = police_stations.set_geometry('UTMPoint')"
   ]
  },
  {
   "cell_type": "code",
   "execution_count": 20,
   "metadata": {},
   "outputs": [
    {
     "name": "stdout",
     "output_type": "stream",
     "text": [
      "That took 377.68319511413574 seconds\n"
     ]
    }
   ],
   "source": [
    "start_time = time.time()\n",
    "crimes = pd.concat([crimes, pd.DataFrame(crimes.apply(find_nearest,\n",
    "                                                      dest_df=police_stations,\n",
    "                                                      geom1_col='UTMPoint',\n",
    "                                                      geom2_col='UTMPoint',\n",
    "                                                      axis=1\n",
    "                                                     ).tolist(),\n",
    "                                        columns=['nearest_station_id', 'nearest_station_distance'],\n",
    "                                        index=crimes.index)], axis=1)\n",
    "end_time = time.time()\n",
    "print(\"That took {0} seconds\".format(end_time - start_time))"
   ]
  },
  {
   "cell_type": "markdown",
   "metadata": {},
   "source": [
    "# Enhance crimes with identity and distance to nearest library"
   ]
  },
  {
   "cell_type": "code",
   "execution_count": 15,
   "metadata": {},
   "outputs": [],
   "source": [
    "libraries_df = None\n",
    "libraries = None\n",
    "libraries_df = pd.read_pickle('data/libraries-transformed.pkl')"
   ]
  },
  {
   "cell_type": "code",
   "execution_count": 16,
   "metadata": {},
   "outputs": [],
   "source": [
    "libraries = gpd.GeoDataFrame(libraries_df)\n",
    "libraries = libraries.set_geometry('UTMPoint')"
   ]
  },
  {
   "cell_type": "code",
   "execution_count": 23,
   "metadata": {},
   "outputs": [
    {
     "name": "stdout",
     "output_type": "stream",
     "text": [
      "That took 1014.6181209087372 seconds\n"
     ]
    }
   ],
   "source": [
    "start_time = time.time()\n",
    "crimes = pd.concat([crimes, pd.DataFrame(crimes.apply(find_nearest,\n",
    "                                                      dest_df=libraries,\n",
    "                                                      geom1_col='UTMPoint',\n",
    "                                                      geom2_col='UTMPoint',\n",
    "                                                      axis=1\n",
    "                                                     ).tolist(),\n",
    "                                        columns=['nearest_library_id', 'nearest_library_distance'],\n",
    "                                        index=crimes.index)], axis=1)\n",
    "end_time = time.time()\n",
    "print(\"That took {0} seconds\".format(end_time - start_time))"
   ]
  },
  {
   "cell_type": "code",
   "execution_count": 17,
   "metadata": {},
   "outputs": [],
   "source": [
    "crimes['nearest_library_bearing'] = crimes.apply(lambda row: get_bearing(row,\n",
    "                                     point2=libraries.iloc[row['nearest_library_id']][libraries.geometry.name],\n",
    "                                     point1_geom=crimes.geometry.name), axis=1)"
   ]
  },
  {
   "cell_type": "code",
   "execution_count": 18,
   "metadata": {},
   "outputs": [],
   "source": [
    "crimes['nearest_school_bearing'] = crimes.apply(lambda row: get_bearing(row,\n",
    "                                     point2=schools.iloc[row['nearest_school_id']][schools.geometry.name],\n",
    "                                     point1_geom=crimes.geometry.name), axis=1)"
   ]
  },
  {
   "cell_type": "code",
   "execution_count": 19,
   "metadata": {},
   "outputs": [],
   "source": [
    "crimes['nearest_station_bearing'] = crimes.apply(lambda row: get_bearing(row,\n",
    "                                     point2=police_stations.iloc[row['nearest_station_id']][police_stations.geometry.name],\n",
    "                                     point1_geom=crimes.geometry.name), axis=1)"
   ]
  },
  {
   "cell_type": "code",
   "execution_count": 21,
   "metadata": {},
   "outputs": [],
   "source": [
    "crimes.to_pickle('data/crimes-enhanced.pkl')"
   ]
  }
 ],
 "metadata": {
  "kernelspec": {
   "display_name": "Python 3",
   "language": "python",
   "name": "python3"
  },
  "language_info": {
   "codemirror_mode": {
    "name": "ipython",
    "version": 3
   },
   "file_extension": ".py",
   "mimetype": "text/x-python",
   "name": "python",
   "nbconvert_exporter": "python",
   "pygments_lexer": "ipython3",
   "version": "3.7.2"
  }
 },
 "nbformat": 4,
 "nbformat_minor": 2
}
