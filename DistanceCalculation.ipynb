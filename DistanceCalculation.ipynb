{
 "cells": [
  {
   "cell_type": "markdown",
   "metadata": {},
   "source": [
    "# Police stations: Police_Stations_-_Map.csv\n",
    "# Libraries: Libraries_-Locations_Hours_and_Contact_Information.csv\n",
    "# Schools: Chicago Public Schools - School Loactions SY1011.geojson\n",
    "# Todo: for each police report, find distance to nearest station, to nearest library, and to nearest school"
   ]
  },
  {
   "cell_type": "code",
   "execution_count": 42,
   "metadata": {},
   "outputs": [],
   "source": [
    "import csv\n",
    "import time\n",
    "from collections import namedtuple\n",
    "from math import sqrt\n",
    "import geopandas as gpd\n",
    "import pandas as pd\n",
    "import shapely\n",
    "from shapely.ops import nearest_points\n",
    "import numpy as np\n",
    "from scipy import ndimage\n",
    "from scipy.spatial import cKDTree  \n",
    "\n",
    "import matplotlib\n",
    "from matplotlib.pyplot import figure\n",
    "import matplotlib.pyplot as plt\n",
    "from matplotlib import cm\n",
    "from matplotlib.ticker import LinearLocator, FormatStrFormatter\n",
    "from matplotlib.colors import ListedColormap\n",
    "from matplotlib.ticker import MaxNLocator"
   ]
  },
  {
   "cell_type": "raw",
   "metadata": {},
   "source": [
    "def distance_to_nearest(row, geom_union, df1, df2, geom1_col='geometry', geom2_col='geometry', src_column=None):\n",
    "    \"\"\"Find the nearest point and return the corresponding value from specified column.\"\"\"\n",
    "    # Find the geometry that is closest\n",
    "    nearest = df2[geom2_col] == nearest_points(row[geom1_col], geom_union)[1]\n",
    "    #df1.set_index(\"id\")\n",
    "    df1.head()\n",
    "    df2.set_index(\"UNIT_ID\")\n",
    "    # Get the corresponding value from df2 (matching is based on the geometry)\n",
    "    nearest_id = df2[nearest][src_column].get_values()[0]\n",
    "    start_point = row['geometry']\n",
    "    end_point = df2[nearest]['geometry']\n",
    "    #print(\"IDs for origin {0}, and destination {1}\".format(row.id, nearest_id))\n",
    "    #dist_to_point = df1.loc[row.id]['geometry'].distance(df2.loc[nearest_id]['geometry'])\n",
    "    #dist_to_point = start_point.distance(end_point)\n",
    "    #distances.append(dist_to_point)\n",
    "    dist_to_point = []\n",
    "    return nearest_id, dist_to_point"
   ]
  },
  {
   "cell_type": "raw",
   "metadata": {},
   "source": [
    ">>> # Basic example\n",
    ">>> Point = namedtuple('Point', ['x', 'y'])\n",
    ">>> p = Point(11, y=22)     # instantiate with positional or keyword arguments\n",
    ">>> p[0] + p[1]             # indexable like the plain tuple (11, 22)\n",
    "33\n",
    ">>> x, y = p                # unpack like a regular tuple\n",
    ">>> x, y\n",
    "(11, 22)\n",
    ">>> p.x + p.y               # fields also accessible by name\n",
    "33\n",
    ">>> p                       # readable __repr__ with a name=value style\n",
    "Point(x=11, y=22)"
   ]
  },
  {
   "cell_type": "code",
   "execution_count": 44,
   "metadata": {},
   "outputs": [],
   "source": [
    "DTN_Args = namedtuple(\"DTN_Args\", ['geom_union', 'df1', 'df2', 'geom1_col', 'geom2_col', 'src_column'])"
   ]
  },
  {
   "cell_type": "code",
   "execution_count": 40,
   "metadata": {},
   "outputs": [],
   "source": [
    "#def distance_to_nearest(row, geom_union, df1, df2, geom1_col='geometry', geom2_col='geometry', src_column=None):\n",
    "def distance_to_nearest(row, dtn_args):\n",
    "     \"\"\"Find the nearest point and return the corresponding value from specified column.\"\"\"\n",
    "     #distances = []\n",
    "     df1 = dtn_args.df1\n",
    "     df2 = dtn_args.df2\n",
    "     geom1_col = dtn_args.geom1_col\n",
    "     geom2_col = dtn_args.geom2_col\n",
    "     geom_union = dtn_args.geom_union\n",
    "     src_column = dtn_args.src_column if dtn_args.src_column is not None else None\n",
    "     # Find the geometry that is closest\n",
    "     nearest = df2[geom2_col] == nearest_points(row[geom1_col], geom_union)[1]\n",
    "     # Get the corresponding value from df2 (matching is based on the geometry)\n",
    "     nearest_id = df2[nearest][src_column].get_values()[0]\n",
    "     start_point: shapely.geometry.Point = row['geometry']\n",
    "     end_point_series: pd.Series = df2[nearest]['geometry']\n",
    "     end_point: shapely.geometry.Point = end_point_series.iloc[0]\n",
    "     dist_to_point = start_point.distance(end_point)\n",
    "     #distances.append(dist_to_point)\n",
    "     return nearest_id, dist_to_point"
   ]
  },
  {
   "cell_type": "raw",
   "metadata": {},
   "source": [
    "def point_from_xy(row, df):\n",
    "    print(row.get('X'))\n",
    "    #return shapely.geometry.Point(row['X'], row['Y'])\n",
    "    return"
   ]
  },
  {
   "cell_type": "code",
   "execution_count": 3,
   "metadata": {},
   "outputs": [],
   "source": [
    "crimes = pd.read_pickle(\"crimes.pkl\")\n",
    "neighborhoods = pd.read_pickle(\"neighborhoods.pkl\")\n",
    "with_incomes = pd.read_pickle(\"with_incomes.pkl\")"
   ]
  },
  {
   "cell_type": "code",
   "execution_count": 4,
   "metadata": {},
   "outputs": [],
   "source": [
    "crimes2 = None\n",
    "crimes2 = pd.read_pickle('crimes2.pkl')"
   ]
  },
  {
   "cell_type": "code",
   "execution_count": 5,
   "metadata": {
    "scrolled": true
   },
   "outputs": [
    {
     "data": {
      "text/html": [
       "<div>\n",
       "<style scoped>\n",
       "    .dataframe tbody tr th:only-of-type {\n",
       "        vertical-align: middle;\n",
       "    }\n",
       "\n",
       "    .dataframe tbody tr th {\n",
       "        vertical-align: top;\n",
       "    }\n",
       "\n",
       "    .dataframe thead th {\n",
       "        text-align: right;\n",
       "    }\n",
       "</style>\n",
       "<table border=\"1\" class=\"dataframe\">\n",
       "  <thead>\n",
       "    <tr style=\"text-align: right;\">\n",
       "      <th></th>\n",
       "      <th>report_id</th>\n",
       "      <th>date</th>\n",
       "      <th>primary type</th>\n",
       "      <th>category</th>\n",
       "      <th>location description</th>\n",
       "      <th>arrest</th>\n",
       "      <th>community area</th>\n",
       "      <th>geometry</th>\n",
       "    </tr>\n",
       "  </thead>\n",
       "  <tbody>\n",
       "    <tr>\n",
       "      <th>0</th>\n",
       "      <td>8265244</td>\n",
       "      <td>09/15/2011</td>\n",
       "      <td>BURGLARY</td>\n",
       "      <td>property</td>\n",
       "      <td>RESIDENCE</td>\n",
       "      <td>true</td>\n",
       "      <td>false</td>\n",
       "      <td>POINT (-87.771918163 41.95396528)</td>\n",
       "    </tr>\n",
       "    <tr>\n",
       "      <th>1</th>\n",
       "      <td>4991465</td>\n",
       "      <td>01/01/2001</td>\n",
       "      <td>DECEPTIVE PRACTICE</td>\n",
       "      <td>other</td>\n",
       "      <td>SCHOOL, PRIVATE, GROUNDS</td>\n",
       "      <td>true</td>\n",
       "      <td>false</td>\n",
       "      <td>POINT (-87.660604177 42.001678618)</td>\n",
       "    </tr>\n",
       "    <tr>\n",
       "      <th>2</th>\n",
       "      <td>5147738</td>\n",
       "      <td>08/01/2001</td>\n",
       "      <td>OFFENSE INVOLVING CHILDREN</td>\n",
       "      <td>person</td>\n",
       "      <td>RESIDENCE</td>\n",
       "      <td>true</td>\n",
       "      <td>false</td>\n",
       "      <td>POINT (-87.66343916300001 41.802219519)</td>\n",
       "    </tr>\n",
       "    <tr>\n",
       "      <th>3</th>\n",
       "      <td>5281401</td>\n",
       "      <td>02/26/2001</td>\n",
       "      <td>OTHER OFFENSE</td>\n",
       "      <td>other</td>\n",
       "      <td>HOSPITAL BUILDING/GROUNDS</td>\n",
       "      <td>false</td>\n",
       "      <td>false</td>\n",
       "      <td>POINT (-87.61391851099999 41.802238398)</td>\n",
       "    </tr>\n",
       "    <tr>\n",
       "      <th>4</th>\n",
       "      <td>5622147</td>\n",
       "      <td>12/01/2001</td>\n",
       "      <td>OFFENSE INVOLVING CHILDREN</td>\n",
       "      <td>person</td>\n",
       "      <td>RESIDENCE</td>\n",
       "      <td>false</td>\n",
       "      <td>true</td>\n",
       "      <td>POINT (-87.719768573 41.931044901)</td>\n",
       "    </tr>\n",
       "  </tbody>\n",
       "</table>\n",
       "</div>"
      ],
      "text/plain": [
       "  report_id        date                primary type  category  \\\n",
       "0   8265244  09/15/2011                    BURGLARY  property   \n",
       "1   4991465  01/01/2001          DECEPTIVE PRACTICE     other   \n",
       "2   5147738  08/01/2001  OFFENSE INVOLVING CHILDREN    person   \n",
       "3   5281401  02/26/2001               OTHER OFFENSE     other   \n",
       "4   5622147  12/01/2001  OFFENSE INVOLVING CHILDREN    person   \n",
       "\n",
       "        location description arrest community area  \\\n",
       "0                  RESIDENCE   true          false   \n",
       "1   SCHOOL, PRIVATE, GROUNDS   true          false   \n",
       "2                  RESIDENCE   true          false   \n",
       "3  HOSPITAL BUILDING/GROUNDS  false          false   \n",
       "4                  RESIDENCE  false           true   \n",
       "\n",
       "                                  geometry  \n",
       "0        POINT (-87.771918163 41.95396528)  \n",
       "1       POINT (-87.660604177 42.001678618)  \n",
       "2  POINT (-87.66343916300001 41.802219519)  \n",
       "3  POINT (-87.61391851099999 41.802238398)  \n",
       "4       POINT (-87.719768573 41.931044901)  "
      ]
     },
     "execution_count": 5,
     "metadata": {},
     "output_type": "execute_result"
    }
   ],
   "source": [
    "crimes2.head()"
   ]
  },
  {
   "cell_type": "code",
   "execution_count": 6,
   "metadata": {},
   "outputs": [
    {
     "data": {
      "text/plain": [
       "str"
      ]
     },
     "execution_count": 6,
     "metadata": {},
     "output_type": "execute_result"
    }
   ],
   "source": [
    "crimes = crimes.astype({'id': str})\n",
    "type(crimes.iloc[0]['id'])"
   ]
  },
  {
   "cell_type": "code",
   "execution_count": 16,
   "metadata": {},
   "outputs": [],
   "source": [
    "schools = None\n",
    "schools = pd.read_pickle(\"schools.pkl\")"
   ]
  },
  {
   "cell_type": "code",
   "execution_count": null,
   "metadata": {},
   "outputs": [],
   "source": [
    "# Convert GPS to UTM. Chicago is in UTM zone 16T\n",
    "myProj = Proj(\"+proj=utm +zone=16T, +south +ellps=WGS84 +datum=WGS84 +units=m +no_defs\")\n",
    "lon, lat = myProj(df['Meters East'].values, df['Meters South'].values, inverse=True)\n",
    "UTMx, UTMy = myProj(lon, lat)"
   ]
  },
  {
   "cell_type": "code",
   "execution_count": 23,
   "metadata": {},
   "outputs": [
    {
     "ename": "SyntaxError",
     "evalue": "can't assign to operator (<ipython-input-23-65ac82290993>, line 2)",
     "output_type": "error",
     "traceback": [
      "\u001b[0;36m  File \u001b[0;32m\"<ipython-input-23-65ac82290993>\"\u001b[0;36m, line \u001b[0;32m2\u001b[0m\n\u001b[0;31m    crimes-extract = pd.read_csv(\"parallel/xaa\")\u001b[0m\n\u001b[0m                                                ^\u001b[0m\n\u001b[0;31mSyntaxError\u001b[0m\u001b[0;31m:\u001b[0m can't assign to operator\n"
     ]
    }
   ],
   "source": [
    "# Read in a subset of the crimes dataset for testing the nearest neighbor methods\n",
    "crimes_extract = pd.read_csv(\"parallel/xaa\")\n",
    "crimes_extract.head()"
   ]
  },
  {
   "cell_type": "raw",
   "metadata": {},
   "source": [
    "# Read in the school locations data, fix the type of the UNIT_ID column, create shapely points from X/Y\n",
    "# and create the geopandas DataFrame\n",
    "schools = None\n",
    "schools = pd.read_csv(\"school-locations-2010-2011.csv\", index_col=2)\n",
    "schools['UNIT_ID'] = schools.index\n",
    "schools = schools.astype({'UNIT_ID': int})\n",
    "schools['geometry'] = list(zip(schools['X'], schools['Y']))\n",
    "schools['geometry'] = schools['geometry'].apply(shapely.geometry.Point)\n",
    "schools = gpd.GeoDataFrame(schools)\n",
    "schools.info()"
   ]
  },
  {
   "cell_type": "code",
   "execution_count": 15,
   "metadata": {},
   "outputs": [],
   "source": [
    "schools.to_pickle(\"schools.pkl\")"
   ]
  },
  {
   "cell_type": "code",
   "execution_count": 31,
   "metadata": {},
   "outputs": [
    {
     "data": {
      "text/plain": [
       "<bound method NDFrame.head of                                              geometry  \\\n",
       "UNIT_ID                                                 \n",
       "4610             POINT (-87.5748539059 41.7483660139)   \n",
       "5180          POINT (-87.57284397069999 41.768650177)   \n",
       "5300              POINT (-87.5829920307 41.768594283)   \n",
       "5440          POINT (-87.60800008530001 41.740365734)   \n",
       "5610          POINT (-87.60015764629999 41.764223475)   \n",
       "5670         POINT (-87.63887832290001 41.7353396836)   \n",
       "5880         POINT (-87.55282162479999 41.7315965518)   \n",
       "6100         POINT (-87.54289106020001 41.7438333435)   \n",
       "6350             POINT (-87.5753168646 41.7268027887)   \n",
       "6900         POINT (-87.60113360690001 41.7400743261)   \n",
       "1135         POINT (-87.66366659329999 41.9028783879)   \n",
       "2123          POINT (-87.66002579629999 41.918307417)   \n",
       "2123         POINT (-87.68663350950001 41.8830789626)   \n",
       "1105             POINT (-87.7080245074 41.8584605337)   \n",
       "6320         POINT (-87.6480500744 41.85485633010001)   \n",
       "6450         POINT (-87.67349331700001 41.8505066999)   \n",
       "6570         POINT (-87.72158610139999 41.8635509367)   \n",
       "7190             POINT (-87.7305177211 41.8747495418)   \n",
       "7610         POINT (-87.6751464286 41.85778307050001)   \n",
       "5640           POINT (-87.66600125959999 41.80718468)   \n",
       "6490             POINT (-87.6285899176 41.8440256847)   \n",
       "4230         POINT (-87.65234193709999 41.8581913914)   \n",
       "4310             POINT (-87.6887553885 41.8718317804)   \n",
       "4430         POINT (-87.71312754590001 41.8629853139)   \n",
       "4430         POINT (-87.71312754590001 41.8629853139)   \n",
       "4710              POINT (-87.641065544 41.8299801723)   \n",
       "5430         POINT (-87.68346213940001 41.8528729234)   \n",
       "5970          POINT (-87.65353406840001 41.865323187)   \n",
       "7720             POINT (-87.6285899176 41.8440256847)   \n",
       "4330     POINT (-87.77910178579999 41.78965242949999)   \n",
       "...                                               ...   \n",
       "3000         POINT (-87.72461928920001 41.8787720794)   \n",
       "3240             POINT (-87.7159169019 41.8757420719)   \n",
       "3410             POINT (-87.7007842312 41.8712233635)   \n",
       "3660         POINT (-87.71869179159999 41.8707145525)   \n",
       "3910         POINT (-87.73592511950001 41.8786358453)   \n",
       "3950             POINT (-87.6803081409 41.8798424992)   \n",
       "4110         POINT (-87.73177013629999 41.8604903878)   \n",
       "4640         POINT (-87.70805527799999 41.8797415311)   \n",
       "5350         POINT (-87.68358053270001 41.8716532695)   \n",
       "5450         POINT (-87.69245007790001 41.8602875388)   \n",
       "6210         POINT (-87.73052903690001 41.8840823974)   \n",
       "6340         POINT (-87.67767816370001 41.8832412635)   \n",
       "6380              POINT (-87.727376424 41.8698905728)   \n",
       "6590             POINT (-87.7393603893 41.8842659962)   \n",
       "6610             POINT (-87.6975402505 41.8782212859)   \n",
       "6730         POINT (-87.69931227629999 41.8829760971)   \n",
       "6740         POINT (-87.68471315319999 41.8840166269)   \n",
       "6920             POINT (-87.7022414857 41.8738423889)   \n",
       "7840             POINT (-87.7326159552 41.8777821388)   \n",
       "8024         POINT (-87.64481451290001 41.9051370494)   \n",
       "2070         POINT (-87.65053087700001 41.8338840006)   \n",
       "2740             POINT (-87.6952654334 41.8664077598)   \n",
       "2890         POINT (-87.6672971431 41.85605777510001)   \n",
       "2930             POINT (-87.6580122022 41.8560007333)   \n",
       "3100          POINT (-87.61776781290001 41.843799623)   \n",
       "3750         POINT (-87.69636525910001 41.8526904081)   \n",
       "3960         POINT (-87.62865008930001 41.8668122615)   \n",
       "3970          POINT (-87.71826941799999 41.862254605)   \n",
       "4020             POINT (-87.6538193964 41.8380544923)   \n",
       "4210         POINT (-87.66226328290001 41.8588754261)   \n",
       "\n",
       "                                    SCHOOL_NM  SCHOOL_ID  \\\n",
       "UNIT_ID                                                    \n",
       "4610                                     MANN     610052   \n",
       "5180                                  OKEEFFE     610103   \n",
       "5300                                 PARKSIDE     610116   \n",
       "5440                                    PIRIE     610130   \n",
       "5610                                   REVERE     610146   \n",
       "5670                                    RYDER     610153   \n",
       "5880                                  MIRELES     610171   \n",
       "6100                                 SULLIVAN     610193   \n",
       "6350                                   WARREN     610218   \n",
       "6900                                     ASHE     610268   \n",
       "1135                   PROLOGUE EARLY COLLEGE     400070   \n",
       "2123                  JEFFERSON CENTER FACTOR     610371   \n",
       "2123                  JEFFERSON CENTER FACTOR     610371   \n",
       "1105     NORTH LAWNDALE CHRTR - CHRISTIANA HS     400058   \n",
       "6320                                    WALSH     610216   \n",
       "6450                                 WHITTIER     610228   \n",
       "6570                                   HENSON     610240   \n",
       "7190                                   MELODY     610293   \n",
       "7610                                   OROZCO     610329   \n",
       "5640                                   CHAVEZ     610148   \n",
       "6490                              WILLIAMS ES     610232   \n",
       "4230                                  JUNGMAN     610015   \n",
       "4310                                     KING     610023   \n",
       "4430                                 LAWNDALE     610034   \n",
       "4430                                 LAWNDALE     610034   \n",
       "4710                                MCCLELLAN     610062   \n",
       "5430                                  PICKARD     610129   \n",
       "5970                                    SMYTH     610180   \n",
       "7720                          WILLIAMS MIDDLE     610336   \n",
       "4330                            KINZIE SCHOOL     610026   \n",
       "...                                       ...        ...   \n",
       "3000                                   DELANO     609881   \n",
       "3240                                  ERICSON     609907   \n",
       "3410                                  KELLMAN     609925   \n",
       "3660                                  GREGORY     609954   \n",
       "3910                                 HEFFERAN     609985   \n",
       "3950                                  HERBERT     609989   \n",
       "4110                                HUGHES, C     610005   \n",
       "4640                                  FARADAY     610055   \n",
       "5350                                   IRVING     610121   \n",
       "5450                                PLAMONDON     610131   \n",
       "6210                                   TILTON     610202   \n",
       "6340                         SUDER MONTESSORI     610405   \n",
       "6380                                  WEBSTER     610221   \n",
       "6590                                  MARCONI     610241   \n",
       "6610                            CALHOUN NORTH     610243   \n",
       "6730                                   CATHER     610251   \n",
       "6740                                     DETT     610252   \n",
       "6920                                   JENSEN     610271   \n",
       "7840                                GOLDBLATT     610348   \n",
       "8024                            SKINNER NORTH     610534   \n",
       "2070                                   ARMOUR     609777   \n",
       "2740                                 CHALMERS     609851   \n",
       "2890                                   COOPER     609867   \n",
       "2930                                    PEREZ     609872   \n",
       "3100                                    DRAKE     609894   \n",
       "3750                                  HAMMOND     609966   \n",
       "3960                               SOUTH LOOP     609990   \n",
       "3970                                    HERZL     609991   \n",
       "4020                                   HOLDEN     609996   \n",
       "4210                                   PILSEN     610013   \n",
       "\n",
       "                                SCH_ADDR GRADE_CAT            SCH_TYPE  \\\n",
       "UNIT_ID                                                                  \n",
       "4610                   8050 S CHAPPEL AV        ES   Elementary School   \n",
       "5180                   6940 S MERRILL AV        ES   Elementary School   \n",
       "5300                  6938 S EAST END AV        ES   Elementary School   \n",
       "5440                       650 E 85TH ST        ES   Elementary School   \n",
       "5610                      1010 E 72ND ST        ES   Elementary School   \n",
       "5670                   8716 S WALLACE ST        ES   Elementary School   \n",
       "5880                  9000 S EXCHANGE AV        ES   Elementary School   \n",
       "6100                  8331 S MACKINAW AV        ES   Elementary School   \n",
       "6350                   9239 S JEFFERY AV        ES   Elementary School   \n",
       "6900                 8505 S INGLESIDE AV        ES   Elementary School   \n",
       "1135                   1135 N CLEAVER RD        HS            Contract   \n",
       "2123                 2032 N. CLYBOURN AV        HS  Alternative School   \n",
       "2123                 2032 N. CLYBOURN AV        HS  Alternative School   \n",
       "1105                 1616 S SPAULDING AV        HS             Charter   \n",
       "6320                    2015 S PEORIA ST        ES   Elementary School   \n",
       "6450                      1900 W 23RD ST        ES   Elementary School   \n",
       "6570                     1326 S AVERS AV        ES   Elementary School   \n",
       "7190                     412 S KEELER AV        ES   Elementary School   \n",
       "7610                      1940 W 18TH ST        ES   Elementary School   \n",
       "5640                4747 S MARSHFIELD AV        ES   Elementary School   \n",
       "6490                  2710 S DEARBORN ST        ES   Elementary School   \n",
       "4230                    1746 S MILLER ST        ES   Elementary School   \n",
       "4310                   740 S CAMPBELL AV        ES   Elementary School   \n",
       "4430                   3500 W DOUGLAS BL        ES   Elementary School   \n",
       "4430                   3500 W DOUGLAS BL        ES   Elementary School   \n",
       "4710                   3527 S WALLACE ST        ES   Elementary School   \n",
       "5430                      2301 W 21ST PL        ES   Elementary School   \n",
       "5970                      1059 W 13TH ST        ES   Elementary School   \n",
       "7720                  2710 S DEARBORN ST        MS   Elementary School   \n",
       "4330                    5625 S MOBILE AV        ES   Elementary School   \n",
       "...                                  ...       ...                 ...   \n",
       "3000                    3937 W WILCOX ST        ES   Elementary School   \n",
       "3240                     3600 W FIFTH AV        ES   Elementary School   \n",
       "3410                 751 S SACRAMENTO BL        ES   Elementary School   \n",
       "3660                      3715 W POLK ST        ES   Elementary School   \n",
       "3910                    4409 W WILCOX ST        ES   Elementary School   \n",
       "3950                    2131 W MONROE ST        ES   Elementary School   \n",
       "4110                      4247 W 15TH ST        ES   Elementary School   \n",
       "4640                    3250 W MONROE ST        ES   Elementary School   \n",
       "5350                     749 S OAKLEY BL        ES   Elementary School   \n",
       "5450                      2642 W 15TH PL        ES   Elementary School   \n",
       "6210                     223 N KEELER AV        ES   Elementary School   \n",
       "6340                2022 W WASHINGTON BL        ES   Elementary School   \n",
       "6380                4055 W ARTHINGTON ST        ES   Elementary School   \n",
       "6590                     230 N KOLMAR AV        ES   Elementary School   \n",
       "6610                     2833 W ADAMS ST        ES   Elementary School   \n",
       "6730                2908 W WASHINGTON BL        ES   Elementary School   \n",
       "6740                   2306 W MAYPOLE AV        ES   Elementary School   \n",
       "6920                  3030 W HARRISON ST        ES   Elementary School   \n",
       "7840                     4257 W ADAMS ST        ES   Elementary School   \n",
       "8024                      640 W SCOTT ST        ES   Elementary School   \n",
       "2070                       950 W 33RD PL        ES   Elementary School   \n",
       "2740                 2745 W ROOSEVELT RD        ES   Elementary School   \n",
       "2890                      1624 W 19TH ST        ES   Elementary School   \n",
       "2930                      1241 W 19TH ST        ES   Elementary School   \n",
       "3100     2722 S DR MARTIN LUTHER KING DR        ES   Elementary School   \n",
       "3750                      2819 W 21ST PL        ES   Elementary School   \n",
       "3960                  1212 S PLYMOUTH CT        ES   Elementary School   \n",
       "3970                   3711 W DOUGLAS BL        ES   Elementary School   \n",
       "4020                      1104 W 31ST ST        ES   Elementary School   \n",
       "4210                      1420 W 17TH ST        ES   Elementary School   \n",
       "\n",
       "                 X          Y  UNIT_ID  \n",
       "UNIT_ID                                 \n",
       "4610    -87.574854  41.748366     4610  \n",
       "5180    -87.572844  41.768650     5180  \n",
       "5300    -87.582992  41.768594     5300  \n",
       "5440    -87.608000  41.740366     5440  \n",
       "5610    -87.600158  41.764223     5610  \n",
       "5670    -87.638878  41.735340     5670  \n",
       "5880    -87.552822  41.731597     5880  \n",
       "6100    -87.542891  41.743833     6100  \n",
       "6350    -87.575317  41.726803     6350  \n",
       "6900    -87.601134  41.740074     6900  \n",
       "1135    -87.663667  41.902878     1135  \n",
       "2123    -87.660026  41.918307     2123  \n",
       "2123    -87.686634  41.883079     2123  \n",
       "1105    -87.708025  41.858461     1105  \n",
       "6320    -87.648050  41.854856     6320  \n",
       "6450    -87.673493  41.850507     6450  \n",
       "6570    -87.721586  41.863551     6570  \n",
       "7190    -87.730518  41.874750     7190  \n",
       "7610    -87.675146  41.857783     7610  \n",
       "5640    -87.666001  41.807185     5640  \n",
       "6490    -87.628590  41.844026     6490  \n",
       "4230    -87.652342  41.858191     4230  \n",
       "4310    -87.688755  41.871832     4310  \n",
       "4430    -87.713128  41.862985     4430  \n",
       "4430    -87.713128  41.862985     4430  \n",
       "4710    -87.641066  41.829980     4710  \n",
       "5430    -87.683462  41.852873     5430  \n",
       "5970    -87.653534  41.865323     5970  \n",
       "7720    -87.628590  41.844026     7720  \n",
       "4330    -87.779102  41.789652     4330  \n",
       "...            ...        ...      ...  \n",
       "3000    -87.724619  41.878772     3000  \n",
       "3240    -87.715917  41.875742     3240  \n",
       "3410    -87.700784  41.871223     3410  \n",
       "3660    -87.718692  41.870715     3660  \n",
       "3910    -87.735925  41.878636     3910  \n",
       "3950    -87.680308  41.879842     3950  \n",
       "4110    -87.731770  41.860490     4110  \n",
       "4640    -87.708055  41.879742     4640  \n",
       "5350    -87.683581  41.871653     5350  \n",
       "5450    -87.692450  41.860288     5450  \n",
       "6210    -87.730529  41.884082     6210  \n",
       "6340    -87.677678  41.883241     6340  \n",
       "6380    -87.727376  41.869891     6380  \n",
       "6590    -87.739360  41.884266     6590  \n",
       "6610    -87.697540  41.878221     6610  \n",
       "6730    -87.699312  41.882976     6730  \n",
       "6740    -87.684713  41.884017     6740  \n",
       "6920    -87.702241  41.873842     6920  \n",
       "7840    -87.732616  41.877782     7840  \n",
       "8024    -87.644815  41.905137     8024  \n",
       "2070    -87.650531  41.833884     2070  \n",
       "2740    -87.695265  41.866408     2740  \n",
       "2890    -87.667297  41.856058     2890  \n",
       "2930    -87.658012  41.856001     2930  \n",
       "3100    -87.617768  41.843800     3100  \n",
       "3750    -87.696365  41.852690     3750  \n",
       "3960    -87.628650  41.866812     3960  \n",
       "3970    -87.718269  41.862255     3970  \n",
       "4020    -87.653819  41.838054     4020  \n",
       "4210    -87.662263  41.858875     4210  \n",
       "\n",
       "[688 rows x 9 columns]>"
      ]
     },
     "execution_count": 31,
     "metadata": {},
     "output_type": "execute_result"
    }
   ],
   "source": [
    "schools.set_index(\"UNIT_ID\")\n",
    "schools['UNIT_ID'] = schools.index\n",
    "schools.head"
   ]
  },
  {
   "cell_type": "code",
   "execution_count": 17,
   "metadata": {},
   "outputs": [],
   "source": [
    "# Create unary_union object from the schools dataset\n",
    "schools_unary_union = schools.unary_union"
   ]
  },
  {
   "cell_type": "code",
   "execution_count": 18,
   "metadata": {
    "scrolled": true
   },
   "outputs": [
    {
     "name": "stdout",
     "output_type": "stream",
     "text": [
      "0.09386390354079342\n"
     ]
    }
   ],
   "source": [
    "#print(schools['geometry'] == nearest_points(crimes.iloc[2]['geometry'], schools_unary_union))\n",
    "print(crimes.iloc[2]['geometry'].distance(schools.iloc[100]['geometry']))\n",
    "#print(crimes.iloc[2]['geometry'])"
   ]
  },
  {
   "cell_type": "code",
   "execution_count": 35,
   "metadata": {
    "scrolled": true
   },
   "outputs": [
    {
     "ename": "SyntaxError",
     "evalue": "invalid syntax (<ipython-input-35-fdf2658532c9>, line 5)",
     "output_type": "error",
     "traceback": [
      "\u001b[0;36m  File \u001b[0;32m\"<ipython-input-35-fdf2658532c9>\"\u001b[0;36m, line \u001b[0;32m5\u001b[0m\n\u001b[0;31m    geom_union=schools_unary_union,\u001b[0m\n\u001b[0m              ^\u001b[0m\n\u001b[0;31mSyntaxError\u001b[0m\u001b[0;31m:\u001b[0m invalid syntax\n"
     ]
    }
   ],
   "source": [
    "# Locate the nearest school to each reported crime's location\n",
    "start_time = time.time\n",
    "unpackdf = pd.DataFrame(crimes2.apply(distance_to_nearest, axis=1,\n",
    "                                      args=(\n",
    "                                          geom_union=schools_unary_union,\n",
    "                                          df1=crimes2,\n",
    "                                          df2=schools,\n",
    "                                          src_column='UNIT_ID',\n",
    "                                      )).tolist(),\n",
    "                        columns = ['nearest_school_id',\n",
    "                                   'nearest_school_distance'],\n",
    "                        index=crimes2.index)\n",
    "crimes2=pd.concat([unpackdf, crimes2], axis=1)\n",
    "end_time = time.time\n",
    "print(\"That took {0} seconds\".format(end_time - start_time))"
   ]
  },
  {
   "cell_type": "code",
   "execution_count": 73,
   "metadata": {},
   "outputs": [
    {
     "data": {
      "text/html": [
       "<div>\n",
       "<style scoped>\n",
       "    .dataframe tbody tr th:only-of-type {\n",
       "        vertical-align: middle;\n",
       "    }\n",
       "\n",
       "    .dataframe tbody tr th {\n",
       "        vertical-align: top;\n",
       "    }\n",
       "\n",
       "    .dataframe thead th {\n",
       "        text-align: right;\n",
       "    }\n",
       "</style>\n",
       "<table border=\"1\" class=\"dataframe\">\n",
       "  <thead>\n",
       "    <tr style=\"text-align: right;\">\n",
       "      <th></th>\n",
       "      <th>report_id</th>\n",
       "      <th>date</th>\n",
       "      <th>primary type</th>\n",
       "      <th>category</th>\n",
       "      <th>location description</th>\n",
       "      <th>arrest</th>\n",
       "      <th>community area</th>\n",
       "      <th>geometry</th>\n",
       "    </tr>\n",
       "  </thead>\n",
       "  <tbody>\n",
       "    <tr>\n",
       "      <th>0</th>\n",
       "      <td>8265244</td>\n",
       "      <td>09/15/2011</td>\n",
       "      <td>BURGLARY</td>\n",
       "      <td>property</td>\n",
       "      <td>RESIDENCE</td>\n",
       "      <td>true</td>\n",
       "      <td>false</td>\n",
       "      <td>POINT (-87.771918163 41.95396528)</td>\n",
       "    </tr>\n",
       "    <tr>\n",
       "      <th>1</th>\n",
       "      <td>4991465</td>\n",
       "      <td>01/01/2001</td>\n",
       "      <td>DECEPTIVE PRACTICE</td>\n",
       "      <td>other</td>\n",
       "      <td>SCHOOL, PRIVATE, GROUNDS</td>\n",
       "      <td>true</td>\n",
       "      <td>false</td>\n",
       "      <td>POINT (-87.660604177 42.001678618)</td>\n",
       "    </tr>\n",
       "    <tr>\n",
       "      <th>2</th>\n",
       "      <td>5147738</td>\n",
       "      <td>08/01/2001</td>\n",
       "      <td>OFFENSE INVOLVING CHILDREN</td>\n",
       "      <td>person</td>\n",
       "      <td>RESIDENCE</td>\n",
       "      <td>true</td>\n",
       "      <td>false</td>\n",
       "      <td>POINT (-87.66343916300001 41.802219519)</td>\n",
       "    </tr>\n",
       "    <tr>\n",
       "      <th>3</th>\n",
       "      <td>5281401</td>\n",
       "      <td>02/26/2001</td>\n",
       "      <td>OTHER OFFENSE</td>\n",
       "      <td>other</td>\n",
       "      <td>HOSPITAL BUILDING/GROUNDS</td>\n",
       "      <td>false</td>\n",
       "      <td>false</td>\n",
       "      <td>POINT (-87.61391851099999 41.802238398)</td>\n",
       "    </tr>\n",
       "    <tr>\n",
       "      <th>4</th>\n",
       "      <td>5622147</td>\n",
       "      <td>12/01/2001</td>\n",
       "      <td>OFFENSE INVOLVING CHILDREN</td>\n",
       "      <td>person</td>\n",
       "      <td>RESIDENCE</td>\n",
       "      <td>false</td>\n",
       "      <td>true</td>\n",
       "      <td>POINT (-87.719768573 41.931044901)</td>\n",
       "    </tr>\n",
       "  </tbody>\n",
       "</table>\n",
       "</div>"
      ],
      "text/plain": [
       "  report_id        date                primary type  category  \\\n",
       "0   8265244  09/15/2011                    BURGLARY  property   \n",
       "1   4991465  01/01/2001          DECEPTIVE PRACTICE     other   \n",
       "2   5147738  08/01/2001  OFFENSE INVOLVING CHILDREN    person   \n",
       "3   5281401  02/26/2001               OTHER OFFENSE     other   \n",
       "4   5622147  12/01/2001  OFFENSE INVOLVING CHILDREN    person   \n",
       "\n",
       "        location description arrest community area  \\\n",
       "0                  RESIDENCE   true          false   \n",
       "1   SCHOOL, PRIVATE, GROUNDS   true          false   \n",
       "2                  RESIDENCE   true          false   \n",
       "3  HOSPITAL BUILDING/GROUNDS  false          false   \n",
       "4                  RESIDENCE  false           true   \n",
       "\n",
       "                                  geometry  \n",
       "0        POINT (-87.771918163 41.95396528)  \n",
       "1       POINT (-87.660604177 42.001678618)  \n",
       "2  POINT (-87.66343916300001 41.802219519)  \n",
       "3  POINT (-87.61391851099999 41.802238398)  \n",
       "4       POINT (-87.719768573 41.931044901)  "
      ]
     },
     "execution_count": 73,
     "metadata": {},
     "output_type": "execute_result"
    }
   ],
   "source": [
    "crimes2.head()"
   ]
  },
  {
   "cell_type": "code",
   "execution_count": 88,
   "metadata": {},
   "outputs": [
    {
     "data": {
      "text/plain": [
       "property    350564\n",
       "person      179753\n",
       "other       101029\n",
       "vice         89991\n",
       "Name: category, dtype: int64"
      ]
     },
     "execution_count": 88,
     "metadata": {},
     "output_type": "execute_result"
    }
   ],
   "source": [
    "crimes_extract = crimes2.iloc[0]\n",
    "crimes2['category'].value_counts()"
   ]
  },
  {
   "cell_type": "raw",
   "metadata": {},
   "source": [
    "unpackdf = pd.DataFrame(crimes_extract.apply(distance_to_nearest,\n",
    "                                     geom_union=schools_unary_union,\n",
    "                                     df1=crimes_extract,\n",
    "                                     df2=schools,\n",
    "                                     src_column='UNIT_ID',\n",
    "                                     axis=1).tolist(),\n",
    "                        columns = ['nearest_school_id',\n",
    "                                   'nearest_school_distance'],\n",
    "                        index=test_start.index)"
   ]
  },
  {
   "cell_type": "code",
   "execution_count": 60,
   "metadata": {
    "scrolled": true
   },
   "outputs": [
    {
     "data": {
      "text/plain": [
       "UNIT_ID\n",
       "4610    False\n",
       "5180    False\n",
       "5300    False\n",
       "5440    False\n",
       "5610    False\n",
       "5670    False\n",
       "5880    False\n",
       "6100    False\n",
       "6350    False\n",
       "6900    False\n",
       "1135    False\n",
       "2123    False\n",
       "2123    False\n",
       "1105    False\n",
       "6320    False\n",
       "6450    False\n",
       "6570    False\n",
       "7190    False\n",
       "7610    False\n",
       "5640    False\n",
       "6490    False\n",
       "4230    False\n",
       "4310    False\n",
       "4430    False\n",
       "4430    False\n",
       "4710    False\n",
       "5430    False\n",
       "5970    False\n",
       "7720    False\n",
       "4330    False\n",
       "        ...  \n",
       "3000    False\n",
       "3240    False\n",
       "3410    False\n",
       "3660    False\n",
       "3910    False\n",
       "3950    False\n",
       "4110    False\n",
       "4640    False\n",
       "5350    False\n",
       "5450    False\n",
       "6210    False\n",
       "6340    False\n",
       "6380    False\n",
       "6590    False\n",
       "6610    False\n",
       "6730    False\n",
       "6740    False\n",
       "6920    False\n",
       "7840    False\n",
       "8024    False\n",
       "2070    False\n",
       "2740    False\n",
       "2890    False\n",
       "2930    False\n",
       "3100    False\n",
       "3750    False\n",
       "3960    False\n",
       "3970    False\n",
       "4020    False\n",
       "4210    False\n",
       "Name: geometry, Length: 688, dtype: bool"
      ]
     },
     "execution_count": 60,
     "metadata": {},
     "output_type": "execute_result"
    }
   ],
   "source": [
    "dtn_args = DTN_Args(geom_union=schools_unary_union,\n",
    "                    df1=crimes_extract,\n",
    "                    df2=schools,\n",
    "                    geom1_col='geometry',\n",
    "                    geom2_col='geometry',\n",
    "                    src_column=\"UNIT_ID\"\n",
    "                   )\n",
    "#schools[dtn_args.geom2_col] == nearest_points(crimes_extract.iloc[0][dtn_args.geom1_col], dtn_args.geom_union)[1]\n",
    "schools[dtn_args.geom2_col] == nearest_points(crimes_extract['geometry'], dtn_args.geom_union)[1]"
   ]
  },
  {
   "cell_type": "code",
   "execution_count": 71,
   "metadata": {},
   "outputs": [
    {
     "name": "stdout",
     "output_type": "stream",
     "text": [
      "   A  B\n",
      "0  1  4\n",
      "1  2  5\n",
      "2  3  6\n",
      "   A  B  C\n",
      "0  1  4  5\n",
      "1  2  5  7\n",
      "2  3  6  9\n"
     ]
    }
   ],
   "source": [
    "df = pd.DataFrame({'A':[1,2,3],\n",
    "                   'B':[4,5,6]})\n",
    "\n",
    "print (df)\n",
    "\n",
    "def myfunction(B, A):\n",
    "    #some staff  \n",
    "    result = B + A \n",
    "    # do something here to get the result\n",
    "    return result\n",
    "\n",
    "df['C'] = df.apply(lambda x: myfunction(x.B, x.A), axis=1)\n",
    "print (df)"
   ]
  },
  {
   "cell_type": "code",
   "execution_count": 81,
   "metadata": {},
   "outputs": [
    {
     "data": {
      "text/plain": [
       "str"
      ]
     },
     "execution_count": 81,
     "metadata": {},
     "output_type": "execute_result"
    }
   ],
   "source": [
    "#np.sum(crimes_extract['report_id'], np.array([100])"
   ]
  },
  {
   "cell_type": "code",
   "execution_count": 84,
   "metadata": {},
   "outputs": [
    {
     "ename": "SyntaxError",
     "evalue": "invalid syntax (<ipython-input-84-ed6fd95bb485>, line 1)",
     "output_type": "error",
     "traceback": [
      "\u001b[0;36m  File \u001b[0;32m\"<ipython-input-84-ed6fd95bb485>\"\u001b[0;36m, line \u001b[0;32m1\u001b[0m\n\u001b[0;31m    crimes_extract.apply(lambda x: x['arrest'] && x['community area'])\u001b[0m\n\u001b[0m                                                ^\u001b[0m\n\u001b[0;31mSyntaxError\u001b[0m\u001b[0;31m:\u001b[0m invalid syntax\n"
     ]
    }
   ],
   "source": [
    "crimes_extract.apply(lambda x: x['arrest'] && x['community area'])"
   ]
  },
  {
   "cell_type": "code",
   "execution_count": 72,
   "metadata": {},
   "outputs": [
    {
     "ename": "TypeError",
     "evalue": "<lambda>() got an unexpected keyword argument 'axis'",
     "output_type": "error",
     "traceback": [
      "\u001b[0;31m---------------------------------------------------------------------------\u001b[0m",
      "\u001b[0;31mTypeError\u001b[0m                                 Traceback (most recent call last)",
      "\u001b[0;32m<ipython-input-72-781cfc1f7732>\u001b[0m in \u001b[0;36m<module>\u001b[0;34m\u001b[0m\n\u001b[1;32m      1\u001b[0m \u001b[0mstart_time\u001b[0m \u001b[0;34m=\u001b[0m \u001b[0mtime\u001b[0m\u001b[0;34m.\u001b[0m\u001b[0mtime\u001b[0m\u001b[0;34m\u001b[0m\u001b[0;34m\u001b[0m\u001b[0m\n\u001b[0;32m----> 2\u001b[0;31m unpackdf = pd.DataFrame(crimes_extract.apply(lambda: distance_to_nearest(dtn_args=dtn_args), axis=1).to_list(),\n\u001b[0m\u001b[1;32m      3\u001b[0m                         \u001b[0mcolumns\u001b[0m \u001b[0;34m=\u001b[0m \u001b[0;34m[\u001b[0m\u001b[0;34m'nearest_school_id'\u001b[0m\u001b[0;34m,\u001b[0m \u001b[0;34m'nearest_school_distance'\u001b[0m\u001b[0;34m]\u001b[0m\u001b[0;34m,\u001b[0m\u001b[0;34m\u001b[0m\u001b[0;34m\u001b[0m\u001b[0m\n\u001b[1;32m      4\u001b[0m                         index = crimes_extract.index)\n",
      "\u001b[0;32m~/anaconda3/envs/geospatial/lib/python3.7/site-packages/pandas/core/series.py\u001b[0m in \u001b[0;36mapply\u001b[0;34m(self, func, convert_dtype, args, **kwds)\u001b[0m\n\u001b[1;32m   3192\u001b[0m             \u001b[0;32melse\u001b[0m\u001b[0;34m:\u001b[0m\u001b[0;34m\u001b[0m\u001b[0;34m\u001b[0m\u001b[0m\n\u001b[1;32m   3193\u001b[0m                 \u001b[0mvalues\u001b[0m \u001b[0;34m=\u001b[0m \u001b[0mself\u001b[0m\u001b[0;34m.\u001b[0m\u001b[0mastype\u001b[0m\u001b[0;34m(\u001b[0m\u001b[0mobject\u001b[0m\u001b[0;34m)\u001b[0m\u001b[0;34m.\u001b[0m\u001b[0mvalues\u001b[0m\u001b[0;34m\u001b[0m\u001b[0;34m\u001b[0m\u001b[0m\n\u001b[0;32m-> 3194\u001b[0;31m                 \u001b[0mmapped\u001b[0m \u001b[0;34m=\u001b[0m \u001b[0mlib\u001b[0m\u001b[0;34m.\u001b[0m\u001b[0mmap_infer\u001b[0m\u001b[0;34m(\u001b[0m\u001b[0mvalues\u001b[0m\u001b[0;34m,\u001b[0m \u001b[0mf\u001b[0m\u001b[0;34m,\u001b[0m \u001b[0mconvert\u001b[0m\u001b[0;34m=\u001b[0m\u001b[0mconvert_dtype\u001b[0m\u001b[0;34m)\u001b[0m\u001b[0;34m\u001b[0m\u001b[0;34m\u001b[0m\u001b[0m\n\u001b[0m\u001b[1;32m   3195\u001b[0m \u001b[0;34m\u001b[0m\u001b[0m\n\u001b[1;32m   3196\u001b[0m         \u001b[0;32mif\u001b[0m \u001b[0mlen\u001b[0m\u001b[0;34m(\u001b[0m\u001b[0mmapped\u001b[0m\u001b[0;34m)\u001b[0m \u001b[0;32mand\u001b[0m \u001b[0misinstance\u001b[0m\u001b[0;34m(\u001b[0m\u001b[0mmapped\u001b[0m\u001b[0;34m[\u001b[0m\u001b[0;36m0\u001b[0m\u001b[0;34m]\u001b[0m\u001b[0;34m,\u001b[0m \u001b[0mSeries\u001b[0m\u001b[0;34m)\u001b[0m\u001b[0;34m:\u001b[0m\u001b[0;34m\u001b[0m\u001b[0;34m\u001b[0m\u001b[0m\n",
      "\u001b[0;32mpandas/_libs/src/inference.pyx\u001b[0m in \u001b[0;36mpandas._libs.lib.map_infer\u001b[0;34m()\u001b[0m\n",
      "\u001b[0;32m~/anaconda3/envs/geospatial/lib/python3.7/site-packages/pandas/core/series.py\u001b[0m in \u001b[0;36m<lambda>\u001b[0;34m(x)\u001b[0m\n\u001b[1;32m   3179\u001b[0m         \u001b[0;31m# handle ufuncs and lambdas\u001b[0m\u001b[0;34m\u001b[0m\u001b[0;34m\u001b[0m\u001b[0;34m\u001b[0m\u001b[0m\n\u001b[1;32m   3180\u001b[0m         \u001b[0;32mif\u001b[0m \u001b[0mkwds\u001b[0m \u001b[0;32mor\u001b[0m \u001b[0margs\u001b[0m \u001b[0;32mand\u001b[0m \u001b[0;32mnot\u001b[0m \u001b[0misinstance\u001b[0m\u001b[0;34m(\u001b[0m\u001b[0mfunc\u001b[0m\u001b[0;34m,\u001b[0m \u001b[0mnp\u001b[0m\u001b[0;34m.\u001b[0m\u001b[0mufunc\u001b[0m\u001b[0;34m)\u001b[0m\u001b[0;34m:\u001b[0m\u001b[0;34m\u001b[0m\u001b[0;34m\u001b[0m\u001b[0m\n\u001b[0;32m-> 3181\u001b[0;31m             \u001b[0mf\u001b[0m \u001b[0;34m=\u001b[0m \u001b[0;32mlambda\u001b[0m \u001b[0mx\u001b[0m\u001b[0;34m:\u001b[0m \u001b[0mfunc\u001b[0m\u001b[0;34m(\u001b[0m\u001b[0mx\u001b[0m\u001b[0;34m,\u001b[0m \u001b[0;34m*\u001b[0m\u001b[0margs\u001b[0m\u001b[0;34m,\u001b[0m \u001b[0;34m**\u001b[0m\u001b[0mkwds\u001b[0m\u001b[0;34m)\u001b[0m\u001b[0;34m\u001b[0m\u001b[0;34m\u001b[0m\u001b[0m\n\u001b[0m\u001b[1;32m   3182\u001b[0m         \u001b[0;32melse\u001b[0m\u001b[0;34m:\u001b[0m\u001b[0;34m\u001b[0m\u001b[0;34m\u001b[0m\u001b[0m\n\u001b[1;32m   3183\u001b[0m             \u001b[0mf\u001b[0m \u001b[0;34m=\u001b[0m \u001b[0mfunc\u001b[0m\u001b[0;34m\u001b[0m\u001b[0;34m\u001b[0m\u001b[0m\n",
      "\u001b[0;31mTypeError\u001b[0m: <lambda>() got an unexpected keyword argument 'axis'"
     ]
    }
   ],
   "source": [
    "start_time = time.time\n",
    "unpackdf = pd.DataFrame(crimes_extract.apply(lambda: distance_to_nearest(dtn_args=dtn_args), axis=1).to_list(),\n",
    "                        columns = ['nearest_school_id', 'nearest_school_distance'],\n",
    "                        index = crimes_extract.index)"
   ]
  },
  {
   "cell_type": "code",
   "execution_count": 67,
   "metadata": {
    "scrolled": true
   },
   "outputs": [
    {
     "ename": "TypeError",
     "evalue": "distance_to_nearest() got an unexpected keyword argument 'axis'",
     "output_type": "error",
     "traceback": [
      "\u001b[0;31m---------------------------------------------------------------------------\u001b[0m",
      "\u001b[0;31mTypeError\u001b[0m                                 Traceback (most recent call last)",
      "\u001b[0;32m<ipython-input-67-1628edf61ac9>\u001b[0m in \u001b[0;36m<module>\u001b[0;34m\u001b[0m\n\u001b[1;32m      3\u001b[0m \u001b[0mstart_time\u001b[0m \u001b[0;34m=\u001b[0m \u001b[0mtime\u001b[0m\u001b[0;34m.\u001b[0m\u001b[0mtime\u001b[0m\u001b[0;34m\u001b[0m\u001b[0;34m\u001b[0m\u001b[0m\n\u001b[1;32m      4\u001b[0m \u001b[0;31m#unpackdf = pd.DataFrame(crimes_extract.apply(distance_to_nearest, dtn_args, axis=1).to_list(),\u001b[0m\u001b[0;34m\u001b[0m\u001b[0;34m\u001b[0m\u001b[0;34m\u001b[0m\u001b[0m\n\u001b[0;32m----> 5\u001b[0;31m unpackdf = pd.DataFrame(crimes_extract.apply(distance_to_nearest, args=(dtn_args), axis=1).to_list(),\n\u001b[0m\u001b[1;32m      6\u001b[0m                                              \u001b[0mcolumns\u001b[0m \u001b[0;34m=\u001b[0m \u001b[0;34m[\u001b[0m\u001b[0;34m'nearest_school_id'\u001b[0m\u001b[0;34m,\u001b[0m \u001b[0;34m'nearest_school_distance'\u001b[0m\u001b[0;34m]\u001b[0m\u001b[0;34m,\u001b[0m\u001b[0;34m\u001b[0m\u001b[0;34m\u001b[0m\u001b[0m\n\u001b[1;32m      7\u001b[0m                                              index = crimes_extract.index)\n",
      "\u001b[0;32m~/anaconda3/envs/geospatial/lib/python3.7/site-packages/pandas/core/series.py\u001b[0m in \u001b[0;36mapply\u001b[0;34m(self, func, convert_dtype, args, **kwds)\u001b[0m\n\u001b[1;32m   3192\u001b[0m             \u001b[0;32melse\u001b[0m\u001b[0;34m:\u001b[0m\u001b[0;34m\u001b[0m\u001b[0;34m\u001b[0m\u001b[0m\n\u001b[1;32m   3193\u001b[0m                 \u001b[0mvalues\u001b[0m \u001b[0;34m=\u001b[0m \u001b[0mself\u001b[0m\u001b[0;34m.\u001b[0m\u001b[0mastype\u001b[0m\u001b[0;34m(\u001b[0m\u001b[0mobject\u001b[0m\u001b[0;34m)\u001b[0m\u001b[0;34m.\u001b[0m\u001b[0mvalues\u001b[0m\u001b[0;34m\u001b[0m\u001b[0;34m\u001b[0m\u001b[0m\n\u001b[0;32m-> 3194\u001b[0;31m                 \u001b[0mmapped\u001b[0m \u001b[0;34m=\u001b[0m \u001b[0mlib\u001b[0m\u001b[0;34m.\u001b[0m\u001b[0mmap_infer\u001b[0m\u001b[0;34m(\u001b[0m\u001b[0mvalues\u001b[0m\u001b[0;34m,\u001b[0m \u001b[0mf\u001b[0m\u001b[0;34m,\u001b[0m \u001b[0mconvert\u001b[0m\u001b[0;34m=\u001b[0m\u001b[0mconvert_dtype\u001b[0m\u001b[0;34m)\u001b[0m\u001b[0;34m\u001b[0m\u001b[0;34m\u001b[0m\u001b[0m\n\u001b[0m\u001b[1;32m   3195\u001b[0m \u001b[0;34m\u001b[0m\u001b[0m\n\u001b[1;32m   3196\u001b[0m         \u001b[0;32mif\u001b[0m \u001b[0mlen\u001b[0m\u001b[0;34m(\u001b[0m\u001b[0mmapped\u001b[0m\u001b[0;34m)\u001b[0m \u001b[0;32mand\u001b[0m \u001b[0misinstance\u001b[0m\u001b[0;34m(\u001b[0m\u001b[0mmapped\u001b[0m\u001b[0;34m[\u001b[0m\u001b[0;36m0\u001b[0m\u001b[0;34m]\u001b[0m\u001b[0;34m,\u001b[0m \u001b[0mSeries\u001b[0m\u001b[0;34m)\u001b[0m\u001b[0;34m:\u001b[0m\u001b[0;34m\u001b[0m\u001b[0;34m\u001b[0m\u001b[0m\n",
      "\u001b[0;32mpandas/_libs/src/inference.pyx\u001b[0m in \u001b[0;36mpandas._libs.lib.map_infer\u001b[0;34m()\u001b[0m\n",
      "\u001b[0;32m~/anaconda3/envs/geospatial/lib/python3.7/site-packages/pandas/core/series.py\u001b[0m in \u001b[0;36m<lambda>\u001b[0;34m(x)\u001b[0m\n\u001b[1;32m   3179\u001b[0m         \u001b[0;31m# handle ufuncs and lambdas\u001b[0m\u001b[0;34m\u001b[0m\u001b[0;34m\u001b[0m\u001b[0;34m\u001b[0m\u001b[0m\n\u001b[1;32m   3180\u001b[0m         \u001b[0;32mif\u001b[0m \u001b[0mkwds\u001b[0m \u001b[0;32mor\u001b[0m \u001b[0margs\u001b[0m \u001b[0;32mand\u001b[0m \u001b[0;32mnot\u001b[0m \u001b[0misinstance\u001b[0m\u001b[0;34m(\u001b[0m\u001b[0mfunc\u001b[0m\u001b[0;34m,\u001b[0m \u001b[0mnp\u001b[0m\u001b[0;34m.\u001b[0m\u001b[0mufunc\u001b[0m\u001b[0;34m)\u001b[0m\u001b[0;34m:\u001b[0m\u001b[0;34m\u001b[0m\u001b[0;34m\u001b[0m\u001b[0m\n\u001b[0;32m-> 3181\u001b[0;31m             \u001b[0mf\u001b[0m \u001b[0;34m=\u001b[0m \u001b[0;32mlambda\u001b[0m \u001b[0mx\u001b[0m\u001b[0;34m:\u001b[0m \u001b[0mfunc\u001b[0m\u001b[0;34m(\u001b[0m\u001b[0mx\u001b[0m\u001b[0;34m,\u001b[0m \u001b[0;34m*\u001b[0m\u001b[0margs\u001b[0m\u001b[0;34m,\u001b[0m \u001b[0;34m**\u001b[0m\u001b[0mkwds\u001b[0m\u001b[0;34m)\u001b[0m\u001b[0;34m\u001b[0m\u001b[0;34m\u001b[0m\u001b[0m\n\u001b[0m\u001b[1;32m   3182\u001b[0m         \u001b[0;32melse\u001b[0m\u001b[0;34m:\u001b[0m\u001b[0;34m\u001b[0m\u001b[0;34m\u001b[0m\u001b[0m\n\u001b[1;32m   3183\u001b[0m             \u001b[0mf\u001b[0m \u001b[0;34m=\u001b[0m \u001b[0mfunc\u001b[0m\u001b[0;34m\u001b[0m\u001b[0;34m\u001b[0m\u001b[0m\n",
      "\u001b[0;31mTypeError\u001b[0m: distance_to_nearest() got an unexpected keyword argument 'axis'"
     ]
    }
   ],
   "source": [
    "# Locate the nearest school to each reported crime's location\n",
    "\n",
    "start_time = time.time\n",
    "#unpackdf = pd.DataFrame(crimes_extract.apply(distance_to_nearest, dtn_args, axis=1).to_list(),\n",
    "unpackdf = pd.DataFrame(crimes_extract.apply(distance_to_nearest, args=(dtn_args), axis=1).to_list(),\n",
    "                                             columns = ['nearest_school_id', 'nearest_school_distance'],\n",
    "                                             index = crimes_extract.index)\n",
    "#                        columns = ['nearest_school_id', 'nearest_school_distance'],\n",
    "#                        index = crimes_extract.index)\n",
    "#                        columns = ['nearest_school_id',\n",
    "#                                   'nearest_school_distance'\n",
    "#                                  ],\n",
    "#                        index=crimes_extract.index)\n",
    "\n",
    "crimes_extract=pd.concat([unpackdf, crimes_extract], axis=1)\n",
    "end_time = time.time\n",
    "print(\"That took {0} seconds\".format(end_time - start_time))"
   ]
  },
  {
   "cell_type": "raw",
   "metadata": {},
   "source": [
    "test_start = gpd.GeoDataFrame({\"id\": pd.Series([\"spoint1\", \"spoint2\", \"spoint3\"],\n",
    "                                               index=[\"spoint1\", \"spoint2\", \"spoint3\"]),\n",
    "                              \"geometry\": pd.Series([shapely.geometry.Point(1, 0),\n",
    "                                                     shapely.geometry.Point(5, 0),\n",
    "                                                     shapely.geometry.Point(3, 5)\n",
    "                                                    ],\n",
    "                                                    index=[\"spoint1\", \"spoint2\", \"spoint3\"]\n",
    "                                                   )}\n",
    "                             )\n",
    "test_start"
   ]
  },
  {
   "cell_type": "raw",
   "metadata": {},
   "source": [
    "test_end = gpd.GeoDataFrame({\"id\": pd.Series([\"epoint1\", \"epoint2\", \"epoint3\", \"epoint4\", \"epoint5\"],\n",
    "                                             index=[\"epoint1\", \"epoint2\", \"epoint3\", \"epoint4\", \"epoint5\"]\n",
    "                                            ),\n",
    "                             \"geometry\": pd.Series([shapely.geometry.Point(-3, 3),\n",
    "                                                    shapely.geometry.Point(-1, 4),\n",
    "                                                    shapely.geometry.Point(5, 4),\n",
    "                                                    shapely.geometry.Point(2, 4),\n",
    "                                                    shapely.geometry.Point(8, 0)\n",
    "                                                   ],\n",
    "                                                   index=[\"epoint1\", \"epoint2\", \"epoint3\", \"epoint4\", \"epoint5\"]\n",
    "                                                  )\n",
    "                            })\n",
    "\n",
    "test_end"
   ]
  },
  {
   "cell_type": "raw",
   "metadata": {},
   "source": [
    "unary_union = test_end.unary_union"
   ]
  },
  {
   "cell_type": "raw",
   "metadata": {},
   "source": [
    "unpackdf = pd.DataFrame(test_start.apply(distance_to_nearest, geom_union=unary_union,\n",
    "                                                              df1=test_start,\n",
    "                                                              df2=test_end,\n",
    "                                                              src_column='id',\n",
    "                                                              axis=1).tolist(),\n",
    "                        columns = ['nearest_id', 'nearest_distance'], index=test_start.index)\n",
    "test_start=pd.concat([unpackdf, test_start], axis=1)\n",
    "test_start"
   ]
  },
  {
   "cell_type": "code",
   "execution_count": 153,
   "metadata": {},
   "outputs": [
    {
     "name": "stdout",
     "output_type": "stream",
     "text": [
      "Nearest IDs: ['epoint4']\n",
      "Distances: [<shapely.geometry.point.Point object at 0xb2371d7f0>]\n",
      "Nearest IDs: ['epoint5']\n",
      "Distances: [<shapely.geometry.point.Point object at 0xb2371d828>]\n",
      "Nearest IDs: ['epoint4']\n",
      "Distances: [<shapely.geometry.point.Point object at 0xb2371d7f0>]\n"
     ]
    },
    {
     "data": {
      "text/html": [
       "<div>\n",
       "<style scoped>\n",
       "    .dataframe tbody tr th:only-of-type {\n",
       "        vertical-align: middle;\n",
       "    }\n",
       "\n",
       "    .dataframe tbody tr th {\n",
       "        vertical-align: top;\n",
       "    }\n",
       "\n",
       "    .dataframe thead th {\n",
       "        text-align: right;\n",
       "    }\n",
       "</style>\n",
       "<table border=\"1\" class=\"dataframe\">\n",
       "  <thead>\n",
       "    <tr style=\"text-align: right;\">\n",
       "      <th></th>\n",
       "      <th>id</th>\n",
       "      <th>geometry</th>\n",
       "      <th>nearest_id</th>\n",
       "    </tr>\n",
       "  </thead>\n",
       "  <tbody>\n",
       "    <tr>\n",
       "      <th>spoint1</th>\n",
       "      <td>spoint1</td>\n",
       "      <td>POINT (1 0)</td>\n",
       "      <td>epoint4</td>\n",
       "    </tr>\n",
       "    <tr>\n",
       "      <th>spoint2</th>\n",
       "      <td>spoint2</td>\n",
       "      <td>POINT (5 0)</td>\n",
       "      <td>epoint5</td>\n",
       "    </tr>\n",
       "    <tr>\n",
       "      <th>spoint3</th>\n",
       "      <td>spoint3</td>\n",
       "      <td>POINT (3 5)</td>\n",
       "      <td>epoint4</td>\n",
       "    </tr>\n",
       "  </tbody>\n",
       "</table>\n",
       "</div>"
      ],
      "text/plain": [
       "              id     geometry nearest_id\n",
       "spoint1  spoint1  POINT (1 0)    epoint4\n",
       "spoint2  spoint2  POINT (5 0)    epoint5\n",
       "spoint3  spoint3  POINT (3 5)    epoint4"
      ]
     },
     "execution_count": 153,
     "metadata": {},
     "output_type": "execute_result"
    }
   ],
   "source": [
    "test_start['nearest_id'] = test_start.apply(nearest_id, geom_union=unary_union, df1=test_start, df2=test_end, src_column='id', axis=1)\n",
    "test_start"
   ]
  },
  {
   "cell_type": "code",
   "execution_count": 142,
   "metadata": {
    "scrolled": false
   },
   "outputs": [
    {
     "name": "stdout",
     "output_type": "stream",
     "text": [
      "spoint1    4.123106\n",
      "spoint2    3.000000\n",
      "spoint3    1.414214\n",
      "dtype: float64\n"
     ]
    },
    {
     "data": {
      "text/html": [
       "<div>\n",
       "<style scoped>\n",
       "    .dataframe tbody tr th:only-of-type {\n",
       "        vertical-align: middle;\n",
       "    }\n",
       "\n",
       "    .dataframe tbody tr th {\n",
       "        vertical-align: top;\n",
       "    }\n",
       "\n",
       "    .dataframe thead th {\n",
       "        text-align: right;\n",
       "    }\n",
       "</style>\n",
       "<table border=\"1\" class=\"dataframe\">\n",
       "  <thead>\n",
       "    <tr style=\"text-align: right;\">\n",
       "      <th></th>\n",
       "      <th>id</th>\n",
       "      <th>geometry</th>\n",
       "      <th>nearest_id</th>\n",
       "      <th>nearest_distance</th>\n",
       "    </tr>\n",
       "  </thead>\n",
       "  <tbody>\n",
       "    <tr>\n",
       "      <th>spoint1</th>\n",
       "      <td>spoint1</td>\n",
       "      <td>POINT (1 0)</td>\n",
       "      <td>epoint4</td>\n",
       "      <td>4.123106</td>\n",
       "    </tr>\n",
       "    <tr>\n",
       "      <th>spoint2</th>\n",
       "      <td>spoint2</td>\n",
       "      <td>POINT (5 0)</td>\n",
       "      <td>epoint5</td>\n",
       "      <td>3.000000</td>\n",
       "    </tr>\n",
       "    <tr>\n",
       "      <th>spoint3</th>\n",
       "      <td>spoint3</td>\n",
       "      <td>POINT (3 5)</td>\n",
       "      <td>epoint4</td>\n",
       "      <td>1.414214</td>\n",
       "    </tr>\n",
       "  </tbody>\n",
       "</table>\n",
       "</div>"
      ],
      "text/plain": [
       "              id     geometry nearest_id  nearest_distance\n",
       "spoint1  spoint1  POINT (1 0)    epoint4          4.123106\n",
       "spoint2  spoint2  POINT (5 0)    epoint5          3.000000\n",
       "spoint3  spoint3  POINT (3 5)    epoint4          1.414214"
      ]
     },
     "execution_count": 142,
     "metadata": {},
     "output_type": "execute_result"
    }
   ],
   "source": [
    "test_start['nearest_id'] = test_start.apply(nearest_id, geom_union=unary_union, df1=test_start, df2=test_end, src_column='id', axis=1)\n",
    "distances = []\n",
    "distance_indecies = []\n",
    "for row in test_start.itertuples():\n",
    "    start_point = getattr(row, 'geometry')\n",
    "    end_point = test_end.loc[getattr(row, 'nearest_id')]['geometry']\n",
    "    distances.append(start_point.distance(end_point))\n",
    "    distance_indecies.append(row.id)\n",
    "new_column = pd.Series(distances, index=distance_indecies)\n",
    "test_start['nearest_distance'] = new_column\n",
    "print(new_column)\n",
    "test_start"
   ]
  },
  {
   "cell_type": "code",
   "execution_count": 32,
   "metadata": {
    "scrolled": true
   },
   "outputs": [
    {
     "name": "stdout",
     "output_type": "stream",
     "text": [
      "Nearest(<class 'geopandas.geoseries.GeoSeries'>): epoint1    False\n",
      "epoint2    False\n",
      "epoint3    False\n",
      "epoint4     True\n",
      "epoint5    False\n",
      "Name: geometry, dtype: bool\n",
      "POINT (2 4)\n",
      "Nearest(<class 'geopandas.geoseries.GeoSeries'>): epoint1    False\n",
      "epoint2    False\n",
      "epoint3    False\n",
      "epoint4    False\n",
      "epoint5     True\n",
      "Name: geometry, dtype: bool\n",
      "POINT (8 0)\n",
      "Nearest(<class 'geopandas.geoseries.GeoSeries'>): epoint1    False\n",
      "epoint2    False\n",
      "epoint3    False\n",
      "epoint4     True\n",
      "epoint5    False\n",
      "Name: geometry, dtype: bool\n",
      "POINT (2 4)\n"
     ]
    },
    {
     "ename": "ValueError",
     "evalue": "too many values to unpack (expected 2)",
     "output_type": "error",
     "traceback": [
      "\u001b[0;31m---------------------------------------------------------------------------\u001b[0m",
      "\u001b[0;31mValueError\u001b[0m                                Traceback (most recent call last)",
      "\u001b[0;32m<ipython-input-32-993c87ed82e5>\u001b[0m in \u001b[0;36m<module>\u001b[0;34m\u001b[0m\n\u001b[1;32m      3\u001b[0m                                                                          \u001b[0mdf1\u001b[0m\u001b[0;34m=\u001b[0m\u001b[0mtest_start\u001b[0m\u001b[0;34m,\u001b[0m\u001b[0;34m\u001b[0m\u001b[0m\n\u001b[1;32m      4\u001b[0m                                                                          \u001b[0mdf2\u001b[0m\u001b[0;34m=\u001b[0m\u001b[0mtest_end\u001b[0m\u001b[0;34m,\u001b[0m\u001b[0;34m\u001b[0m\u001b[0m\n\u001b[0;32m----> 5\u001b[0;31m                                                                          src_column='id', axis=1)\n\u001b[0m",
      "\u001b[0;31mValueError\u001b[0m: too many values to unpack (expected 2)"
     ]
    }
   ],
   "source": [
    "(test_start['nearest_id'], test_start['nearest_point']) = test_start.apply(nearest,\n",
    "                                                                         geom_union=unary_union,\n",
    "                                                                         df1=test_start,\n",
    "                                                                         df2=test_end,\n",
    "                                                                         src_column='id', axis=1)"
   ]
  },
  {
   "cell_type": "code",
   "execution_count": 146,
   "metadata": {},
   "outputs": [
    {
     "data": {
      "text/html": [
       "<div>\n",
       "<style scoped>\n",
       "    .dataframe tbody tr th:only-of-type {\n",
       "        vertical-align: middle;\n",
       "    }\n",
       "\n",
       "    .dataframe tbody tr th {\n",
       "        vertical-align: top;\n",
       "    }\n",
       "\n",
       "    .dataframe thead th {\n",
       "        text-align: right;\n",
       "    }\n",
       "</style>\n",
       "<table border=\"1\" class=\"dataframe\">\n",
       "  <thead>\n",
       "    <tr style=\"text-align: right;\">\n",
       "      <th></th>\n",
       "      <th>A</th>\n",
       "      <th>B</th>\n",
       "      <th>foo</th>\n",
       "      <th>bar</th>\n",
       "    </tr>\n",
       "  </thead>\n",
       "  <tbody>\n",
       "    <tr>\n",
       "      <th>0</th>\n",
       "      <td>4</td>\n",
       "      <td>9</td>\n",
       "      <td>foo</td>\n",
       "      <td>bar</td>\n",
       "    </tr>\n",
       "    <tr>\n",
       "      <th>1</th>\n",
       "      <td>4</td>\n",
       "      <td>9</td>\n",
       "      <td>foo</td>\n",
       "      <td>bar</td>\n",
       "    </tr>\n",
       "    <tr>\n",
       "      <th>2</th>\n",
       "      <td>4</td>\n",
       "      <td>9</td>\n",
       "      <td>foo</td>\n",
       "      <td>bar</td>\n",
       "    </tr>\n",
       "  </tbody>\n",
       "</table>\n",
       "</div>"
      ],
      "text/plain": [
       "   A  B  foo  bar\n",
       "0  4  9  foo  bar\n",
       "1  4  9  foo  bar\n",
       "2  4  9  foo  bar"
      ]
     },
     "execution_count": 146,
     "metadata": {},
     "output_type": "execute_result"
    }
   ],
   "source": [
    "df = pd.DataFrame([[4, 9],] * 3, columns=['A', 'B'])\n",
    "df\n",
    "df['foo'], df['bar'] = df.apply(lambda x: pd.Series([1, 2], index=['foo', 'bar']), axis=1)\n",
    "df"
   ]
  },
  {
   "cell_type": "code",
   "execution_count": 151,
   "metadata": {},
   "outputs": [],
   "source": [
    "start_uu = test_start.unary_union"
   ]
  },
  {
   "cell_type": "markdown",
   "metadata": {},
   "source": [
    "I'm working on a personal-learning project where I'm trying to figure out what the nearest point from dataframe B is to each point in in dataframe A. I've got that bit working, but it only tells me what the nearest point is. I also want to know how far away the nearest point is, but I'm not figuring it out.\n",
    "\n",
    "I can find the distance manually one point at a time, but my efforts to do so for the whole list have failed thus far.\n",
    "\n",
    "Simplified examples of the two dataframes are:\n",
    "\n",
    "    test_start = gpd.GeoDataFrame([{\"id\": \"spoint1\", \"geometry\": shapely.geometry.Point(1, 0)},\n",
    "                                   {\"id\": \"spoint2\", \"geometry\": shapely.geometry.Point(5, 0)}])\n",
    "\n",
    "    test_end = gpd.GeoDataFrame([{\"id\": \"epoint1\", \"geometry\": shapely.geometry.Point(-3, 3)},\n",
    "                                 {\"id\": \"epoint2\", \"geometry\": shapely.geometry.Point(-1, 4)},\n",
    "                                 {\"id\": \"epoint3\", \"geometry\": shapely.geometry.Point(5, 4)},\n",
    "                                 {\"id\": \"epoint4\", \"geometry\": shapely.geometry.Point(2, 4)},\n",
    "                                 {\"id\": \"epoint5\", \"geometry\": shapely.geometry.Point(8, 0)}\n",
    "                                ])\n",
    "\n",
    "The nearest_point method I've cargo-culted from [this tutorial](https://automating-gis-processes.github.io/2017/lessons/L3/nearest-neighbour.html) is:\n",
    "\n",
    "    def nearest(row, geom_union, df1, df2, geom1_col='geometry', geom2_col='geometry', src_column=None):\n",
    "        \"\"\"Find the nearest point and return the corresponding value from specified column.\"\"\"\n",
    "        # Find the geometry that is closest\n",
    "        nearest = df2[geom2_col] == nearest_points(row[geom1_col], geom_union)[1]\n",
    "        #nearest = df2[geom2_col] == nearest_points(df1, df2)[1]\n",
    "        # Get the corresponding value from df2 (matching is based on the geometry)\n",
    "        value = df2[nearest][src_column].get_values()[0]\n",
    "        return value\n",
    "\n",
    "which is called from:\n",
    "\n",
    "    test_start['nearest_id'] = test_start.apply(nearest,\n",
    "                                                geom_union=unary_union,\n",
    "                                                df1=test_start,\n",
    "                                                df2=test_end,\n",
    "                                                src_column='id', axis=1)\n",
    "\n",
    "What I want is another column in test_start that contains the distance between the start and end points. As mentioned above, I can do this manually with something like:\n",
    "\n",
    "    print(test_start[\"geometry\"][0].distance(test_end[\"geometry\"][3]))\n",
    "\n",
    "but I can't figure out how to do it for the whole test_start dataframe.\n",
    "\n",
    "This is a very simplified data set. The real starting point data set has over 7 million rows and the end set has around 800, so efficiency may become a factor if the brute-force method takes half a day or more.\n",
    "\n",
    "Using apply() seemed like it would be a path to get to what I wanted, but I can't figure out how to write it so the system knows which points are being compared."
   ]
  },
  {
   "cell_type": "markdown",
   "metadata": {},
   "source": [
    "Somewhat closer. This code gets past the indexing, etc. problems, but appears to select just one end point as being nearest to all of the start points.\n",
    "\n",
    "     def distance_to_nearest(row, geom_union, df1, df2, geom1_col='geometry', geom2_col='geometry', src_column=None):\n",
    "         \"\"\"Find the nearest point and return the corresponding value from specified column.\"\"\"\n",
    "         distances = []\n",
    "         # Find the geometry that is closest\n",
    "         nearest = df2[geom2_col] == nearest_points(row[geom1_col], geom_union)[1]\n",
    "         # Get the corresponding value from df2 (matching is based on the geometry)\n",
    "         nearest_id = df2[nearest][src_column].get_values()[0]\n",
    "         start_point = row['geometry']\n",
    "         end_point_series = df2[nearest]['geometry']\n",
    "         end_point = end_point_series.iloc[0]\n",
    "         dist_to_point = start_point.distance(end_point)\n",
    "         distances.append(dist_to_point)\n",
    "         return nearest_id, dist_to_point"
   ]
  },
  {
   "cell_type": "code",
   "execution_count": null,
   "metadata": {},
   "outputs": [],
   "source": []
  }
 ],
 "metadata": {
  "kernelspec": {
   "display_name": "Python 3",
   "language": "python",
   "name": "python3"
  },
  "language_info": {
   "codemirror_mode": {
    "name": "ipython",
    "version": 3
   },
   "file_extension": ".py",
   "mimetype": "text/x-python",
   "name": "python",
   "nbconvert_exporter": "python",
   "pygments_lexer": "ipython3",
   "version": "3.7.2"
  }
 },
 "nbformat": 4,
 "nbformat_minor": 2
}
