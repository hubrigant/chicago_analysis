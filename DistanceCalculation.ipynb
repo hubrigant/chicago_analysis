{
 "cells": [
  {
   "cell_type": "markdown",
   "metadata": {},
   "source": [
    "# Police stations: Police_Stations_-_Map.csv\n",
    "# Libraries: Libraries_-Locations_Hours_and_Contact_Information.csv\n",
    "# Schools: Chicago Public Schools - School Loactions SY1011.geojson\n",
    "# Todo: for each police report, find distance to nearest station, to nearest library, and to nearest school"
   ]
  },
  {
   "cell_type": "code",
   "execution_count": 319,
   "metadata": {},
   "outputs": [],
   "source": [
    "import csv\n",
    "import time\n",
    "from math import sqrt\n",
    "import geopandas as gpd\n",
    "import pandas as pd\n",
    "import shapely\n",
    "from shapely.ops import nearest_points\n",
    "import numpy as np\n",
    "from scipy import ndimage\n",
    "from scipy.spatial import cKDTree  \n",
    "\n",
    "import matplotlib\n",
    "from matplotlib.pyplot import figure\n",
    "import matplotlib.pyplot as plt\n",
    "from matplotlib import cm\n",
    "from matplotlib.ticker import LinearLocator, FormatStrFormatter\n",
    "from matplotlib.colors import ListedColormap\n",
    "from matplotlib.ticker import MaxNLocator"
   ]
  },
  {
   "cell_type": "raw",
   "metadata": {},
   "source": [
    "def distance_to_nearest(row, geom_union, df1, df2, geom1_col='geometry', geom2_col='geometry', src_column=None):\n",
    "    \"\"\"Find the nearest point and return the corresponding value from specified column.\"\"\"\n",
    "    # Find the geometry that is closest\n",
    "    nearest = df2[geom2_col] == nearest_points(row[geom1_col], geom_union)[1]\n",
    "    #df1.set_index(\"id\")\n",
    "    df1.head()\n",
    "    df2.set_index(\"UNIT_ID\")\n",
    "    # Get the corresponding value from df2 (matching is based on the geometry)\n",
    "    nearest_id = df2[nearest][src_column].get_values()[0]\n",
    "    start_point = row['geometry']\n",
    "    end_point = df2[nearest]['geometry']\n",
    "    #print(\"IDs for origin {0}, and destination {1}\".format(row.id, nearest_id))\n",
    "    #dist_to_point = df1.loc[row.id]['geometry'].distance(df2.loc[nearest_id]['geometry'])\n",
    "    #dist_to_point = start_point.distance(end_point)\n",
    "    #distances.append(dist_to_point)\n",
    "    dist_to_point = []\n",
    "    return nearest_id, dist_to_point"
   ]
  },
  {
   "cell_type": "code",
   "execution_count": null,
   "metadata": {},
   "outputs": [],
   "source": [
    " def distance_to_nearest(row, geom_union, df1, df2, geom1_col='geometry', geom2_col='geometry', src_column=None):\n",
    "     \"\"\"Find the nearest point and return the corresponding value from specified column.\"\"\"\n",
    "     distances = []\n",
    "     # Find the geometry that is closest\n",
    "     nearest = df2[geom2_col] == nearest_points(row[geom1_col], geom_union)[1]\n",
    "     # Get the corresponding value from df2 (matching is based on the geometry)\n",
    "     nearest_id = df2[nearest][src_column].get_values()[0]\n",
    "     start_point = row['geometry']\n",
    "     end_point_series = df2[nearest]['geometry']\n",
    "     end_point = end_point_series.iloc[0]\n",
    "     dist_to_point = start_point.distance(end_point)\n",
    "     distances.append(dist_to_point)\n",
    "     return nearest_id, dist_to_point"
   ]
  },
  {
   "cell_type": "raw",
   "metadata": {},
   "source": [
    "def point_from_xy(row, df):\n",
    "    print(row.get('X'))\n",
    "    #return shapely.geometry.Point(row['X'], row['Y'])\n",
    "    return"
   ]
  },
  {
   "cell_type": "code",
   "execution_count": 323,
   "metadata": {},
   "outputs": [],
   "source": [
    "crimes = pd.read_pickle(\"crimes.pkl\")\n",
    "neighborhoods = pd.read_pickle(\"neighborhoods.pkl\")\n",
    "with_incomes = pd.read_pickle(\"with_incomes.pkl\")"
   ]
  },
  {
   "cell_type": "code",
   "execution_count": 399,
   "metadata": {},
   "outputs": [],
   "source": [
    "crimes2 = None\n",
    "crimes2 = pd.read_pickle('crimes2.pkl')"
   ]
  },
  {
   "cell_type": "code",
   "execution_count": 400,
   "metadata": {
    "scrolled": true
   },
   "outputs": [
    {
     "data": {
      "text/html": [
       "<div>\n",
       "<style scoped>\n",
       "    .dataframe tbody tr th:only-of-type {\n",
       "        vertical-align: middle;\n",
       "    }\n",
       "\n",
       "    .dataframe tbody tr th {\n",
       "        vertical-align: top;\n",
       "    }\n",
       "\n",
       "    .dataframe thead th {\n",
       "        text-align: right;\n",
       "    }\n",
       "</style>\n",
       "<table border=\"1\" class=\"dataframe\">\n",
       "  <thead>\n",
       "    <tr style=\"text-align: right;\">\n",
       "      <th></th>\n",
       "      <th>report_id</th>\n",
       "      <th>date</th>\n",
       "      <th>primary type</th>\n",
       "      <th>category</th>\n",
       "      <th>location description</th>\n",
       "      <th>arrest</th>\n",
       "      <th>community area</th>\n",
       "      <th>geometry</th>\n",
       "    </tr>\n",
       "  </thead>\n",
       "  <tbody>\n",
       "    <tr>\n",
       "      <th>0</th>\n",
       "      <td>8265244</td>\n",
       "      <td>09/15/2011</td>\n",
       "      <td>BURGLARY</td>\n",
       "      <td>property</td>\n",
       "      <td>RESIDENCE</td>\n",
       "      <td>true</td>\n",
       "      <td>false</td>\n",
       "      <td>POINT (-87.771918163 41.95396528)</td>\n",
       "    </tr>\n",
       "    <tr>\n",
       "      <th>1</th>\n",
       "      <td>4991465</td>\n",
       "      <td>01/01/2001</td>\n",
       "      <td>DECEPTIVE PRACTICE</td>\n",
       "      <td>other</td>\n",
       "      <td>SCHOOL, PRIVATE, GROUNDS</td>\n",
       "      <td>true</td>\n",
       "      <td>false</td>\n",
       "      <td>POINT (-87.660604177 42.001678618)</td>\n",
       "    </tr>\n",
       "    <tr>\n",
       "      <th>2</th>\n",
       "      <td>5147738</td>\n",
       "      <td>08/01/2001</td>\n",
       "      <td>OFFENSE INVOLVING CHILDREN</td>\n",
       "      <td>person</td>\n",
       "      <td>RESIDENCE</td>\n",
       "      <td>true</td>\n",
       "      <td>false</td>\n",
       "      <td>POINT (-87.66343916300001 41.802219519)</td>\n",
       "    </tr>\n",
       "    <tr>\n",
       "      <th>3</th>\n",
       "      <td>5281401</td>\n",
       "      <td>02/26/2001</td>\n",
       "      <td>OTHER OFFENSE</td>\n",
       "      <td>other</td>\n",
       "      <td>HOSPITAL BUILDING/GROUNDS</td>\n",
       "      <td>false</td>\n",
       "      <td>false</td>\n",
       "      <td>POINT (-87.61391851099999 41.802238398)</td>\n",
       "    </tr>\n",
       "    <tr>\n",
       "      <th>4</th>\n",
       "      <td>5622147</td>\n",
       "      <td>12/01/2001</td>\n",
       "      <td>OFFENSE INVOLVING CHILDREN</td>\n",
       "      <td>person</td>\n",
       "      <td>RESIDENCE</td>\n",
       "      <td>false</td>\n",
       "      <td>true</td>\n",
       "      <td>POINT (-87.719768573 41.931044901)</td>\n",
       "    </tr>\n",
       "  </tbody>\n",
       "</table>\n",
       "</div>"
      ],
      "text/plain": [
       "  report_id        date                primary type  category  \\\n",
       "0   8265244  09/15/2011                    BURGLARY  property   \n",
       "1   4991465  01/01/2001          DECEPTIVE PRACTICE     other   \n",
       "2   5147738  08/01/2001  OFFENSE INVOLVING CHILDREN    person   \n",
       "3   5281401  02/26/2001               OTHER OFFENSE     other   \n",
       "4   5622147  12/01/2001  OFFENSE INVOLVING CHILDREN    person   \n",
       "\n",
       "        location description arrest community area  \\\n",
       "0                  RESIDENCE   true          false   \n",
       "1   SCHOOL, PRIVATE, GROUNDS   true          false   \n",
       "2                  RESIDENCE   true          false   \n",
       "3  HOSPITAL BUILDING/GROUNDS  false          false   \n",
       "4                  RESIDENCE  false           true   \n",
       "\n",
       "                                  geometry  \n",
       "0        POINT (-87.771918163 41.95396528)  \n",
       "1       POINT (-87.660604177 42.001678618)  \n",
       "2  POINT (-87.66343916300001 41.802219519)  \n",
       "3  POINT (-87.61391851099999 41.802238398)  \n",
       "4       POINT (-87.719768573 41.931044901)  "
      ]
     },
     "execution_count": 400,
     "metadata": {},
     "output_type": "execute_result"
    }
   ],
   "source": [
    "crimes2.head()"
   ]
  },
  {
   "cell_type": "code",
   "execution_count": 361,
   "metadata": {},
   "outputs": [
    {
     "data": {
      "text/plain": [
       "str"
      ]
     },
     "execution_count": 361,
     "metadata": {},
     "output_type": "execute_result"
    }
   ],
   "source": [
    "crimes = crimes.astype({'id': str})\n",
    "type(crimes.iloc[0]['id'])"
   ]
  },
  {
   "cell_type": "code",
   "execution_count": 341,
   "metadata": {},
   "outputs": [
    {
     "name": "stdout",
     "output_type": "stream",
     "text": [
      "<class 'geopandas.geodataframe.GeoDataFrame'>\n",
      "Int64Index: 688 entries, 4610 to 4210\n",
      "Data columns (total 10 columns):\n",
      "geometry     688 non-null object\n",
      "SCHOOL_NM    688 non-null object\n",
      "SCHOOL_ID    688 non-null int64\n",
      "SCH_ADDR     688 non-null object\n",
      "GRADE_CAT    688 non-null object\n",
      "GRADES       688 non-null object\n",
      "SCH_TYPE     688 non-null object\n",
      "X            688 non-null float64\n",
      "Y            688 non-null float64\n",
      "UNIT_ID      688 non-null int64\n",
      "dtypes: float64(2), int64(2), object(6)\n",
      "memory usage: 59.1+ KB\n"
     ]
    }
   ],
   "source": [
    "# Read in the school locations data, fix the type of the UNIT_ID column, create shapely points from X/Y\n",
    "# and create the geopandas DataFrame\n",
    "schools = pd.read_csv(\"school-locations-2010-2011.csv\", index_col=2)\n",
    "schools['UNIT_ID'] = schools.index\n",
    "schools = schools.astype({'UNIT_ID': int})\n",
    "schools['geometry'] = list(zip(schools['X'], schools['Y']))\n",
    "schools['geometry'] = schools['geometry'].apply(shapely.geometry.Point)\n",
    "schools = gpd.GeoDataFrame(schools)\n",
    "schools.info()"
   ]
  },
  {
   "cell_type": "code",
   "execution_count": 229,
   "metadata": {},
   "outputs": [],
   "source": [
    "# Remove columns we don't plan to use\n",
    "del schools['geometry']\n",
    "del schools['SCHOOL_ID']\n",
    "del schools['GRADES']"
   ]
  },
  {
   "cell_type": "raw",
   "metadata": {},
   "source": [
    "schools.set_index(\"UNIT_ID\")"
   ]
  },
  {
   "cell_type": "code",
   "execution_count": 343,
   "metadata": {},
   "outputs": [],
   "source": [
    "# Create unary_union object from the schools dataset\n",
    "schools_unary_union = schools.unary_union"
   ]
  },
  {
   "cell_type": "code",
   "execution_count": 418,
   "metadata": {
    "scrolled": true
   },
   "outputs": [
    {
     "name": "stdout",
     "output_type": "stream",
     "text": [
      "0.09386390354079342\n"
     ]
    }
   ],
   "source": [
    "#print(schools['geometry'] == nearest_points(crimes.iloc[2]['geometry'], schools_unary_union))\n",
    "print(crimes.iloc[2]['geometry'].distance(schools.iloc[100]['geometry']))\n",
    "#print(crimes.iloc[2]['geometry'])"
   ]
  },
  {
   "cell_type": "code",
   "execution_count": 407,
   "metadata": {},
   "outputs": [
    {
     "ename": "TypeError",
     "evalue": "unsupported operand type(s) for -: 'builtin_function_or_method' and 'builtin_function_or_method'",
     "output_type": "error",
     "traceback": [
      "\u001b[0;31m---------------------------------------------------------------------------\u001b[0m",
      "\u001b[0;31mTypeError\u001b[0m                                 Traceback (most recent call last)",
      "\u001b[0;32m<ipython-input-407-2e6829b35007>\u001b[0m in \u001b[0;36m<module>\u001b[0;34m\u001b[0m\n\u001b[1;32m     12\u001b[0m \u001b[0mcrimes2\u001b[0m\u001b[0;34m=\u001b[0m\u001b[0mpd\u001b[0m\u001b[0;34m.\u001b[0m\u001b[0mconcat\u001b[0m\u001b[0;34m(\u001b[0m\u001b[0;34m[\u001b[0m\u001b[0munpackdf\u001b[0m\u001b[0;34m,\u001b[0m \u001b[0mcrimes2\u001b[0m\u001b[0;34m]\u001b[0m\u001b[0;34m,\u001b[0m \u001b[0maxis\u001b[0m\u001b[0;34m=\u001b[0m\u001b[0;36m1\u001b[0m\u001b[0;34m)\u001b[0m\u001b[0;34m\u001b[0m\u001b[0m\n\u001b[1;32m     13\u001b[0m \u001b[0mend_time\u001b[0m \u001b[0;34m=\u001b[0m \u001b[0mtime\u001b[0m\u001b[0;34m.\u001b[0m\u001b[0mtime\u001b[0m\u001b[0;34m\u001b[0m\u001b[0m\n\u001b[0;32m---> 14\u001b[0;31m \u001b[0mprint\u001b[0m\u001b[0;34m(\u001b[0m\u001b[0;34m\"That took {0} seconds\"\u001b[0m\u001b[0;34m.\u001b[0m\u001b[0mformat\u001b[0m\u001b[0;34m(\u001b[0m\u001b[0mend_time\u001b[0m \u001b[0;34m-\u001b[0m \u001b[0mstart_time\u001b[0m\u001b[0;34m)\u001b[0m\u001b[0;34m)\u001b[0m\u001b[0;34m\u001b[0m\u001b[0m\n\u001b[0m",
      "\u001b[0;31mTypeError\u001b[0m: unsupported operand type(s) for -: 'builtin_function_or_method' and 'builtin_function_or_method'"
     ]
    }
   ],
   "source": [
    "# Locate the nearest school to each reported crime's location\n",
    "start_time = time.time\n",
    "unpackdf = pd.DataFrame(crimes2.apply(distance_to_nearest,\n",
    "                                     geom_union=schools_unary_union,\n",
    "                                     df1=crimes2,\n",
    "                                     df2=schools,\n",
    "                                     src_column='UNIT_ID',\n",
    "                                     axis=1).tolist(),\n",
    "                        columns = ['nearest_school_id',\n",
    "                                   'nearest_school_distance'],\n",
    "                        index=crimes2.index)\n",
    "crimes2=pd.concat([unpackdf, crimes2], axis=1)\n",
    "end_time = time.time\n",
    "print(\"That took {0} seconds\".format(end_time - start_time))"
   ]
  },
  {
   "cell_type": "code",
   "execution_count": 408,
   "metadata": {},
   "outputs": [
    {
     "data": {
      "text/html": [
       "<div>\n",
       "<style scoped>\n",
       "    .dataframe tbody tr th:only-of-type {\n",
       "        vertical-align: middle;\n",
       "    }\n",
       "\n",
       "    .dataframe tbody tr th {\n",
       "        vertical-align: top;\n",
       "    }\n",
       "\n",
       "    .dataframe thead th {\n",
       "        text-align: right;\n",
       "    }\n",
       "</style>\n",
       "<table border=\"1\" class=\"dataframe\">\n",
       "  <thead>\n",
       "    <tr style=\"text-align: right;\">\n",
       "      <th></th>\n",
       "      <th>nearest_school_id</th>\n",
       "      <th>nearest_school_distance</th>\n",
       "      <th>report_id</th>\n",
       "      <th>date</th>\n",
       "      <th>primary type</th>\n",
       "      <th>category</th>\n",
       "      <th>location description</th>\n",
       "      <th>arrest</th>\n",
       "      <th>community area</th>\n",
       "      <th>geometry</th>\n",
       "    </tr>\n",
       "  </thead>\n",
       "  <tbody>\n",
       "    <tr>\n",
       "      <th>0</th>\n",
       "      <td>6190</td>\n",
       "      <td>[]</td>\n",
       "      <td>8265244</td>\n",
       "      <td>09/15/2011</td>\n",
       "      <td>BURGLARY</td>\n",
       "      <td>property</td>\n",
       "      <td>RESIDENCE</td>\n",
       "      <td>true</td>\n",
       "      <td>false</td>\n",
       "      <td>POINT (-87.771918163 41.95396528)</td>\n",
       "    </tr>\n",
       "    <tr>\n",
       "      <th>1</th>\n",
       "      <td>4300</td>\n",
       "      <td>[]</td>\n",
       "      <td>4991465</td>\n",
       "      <td>01/01/2001</td>\n",
       "      <td>DECEPTIVE PRACTICE</td>\n",
       "      <td>other</td>\n",
       "      <td>SCHOOL, PRIVATE, GROUNDS</td>\n",
       "      <td>true</td>\n",
       "      <td>false</td>\n",
       "      <td>POINT (-87.660604177 42.001678618)</td>\n",
       "    </tr>\n",
       "    <tr>\n",
       "      <th>2</th>\n",
       "      <td>1110</td>\n",
       "      <td>[]</td>\n",
       "      <td>5147738</td>\n",
       "      <td>08/01/2001</td>\n",
       "      <td>OFFENSE INVOLVING CHILDREN</td>\n",
       "      <td>person</td>\n",
       "      <td>RESIDENCE</td>\n",
       "      <td>true</td>\n",
       "      <td>false</td>\n",
       "      <td>POINT (-87.66343916300001 41.802219519)</td>\n",
       "    </tr>\n",
       "    <tr>\n",
       "      <th>3</th>\n",
       "      <td>1600</td>\n",
       "      <td>[]</td>\n",
       "      <td>5281401</td>\n",
       "      <td>02/26/2001</td>\n",
       "      <td>OTHER OFFENSE</td>\n",
       "      <td>other</td>\n",
       "      <td>HOSPITAL BUILDING/GROUNDS</td>\n",
       "      <td>false</td>\n",
       "      <td>false</td>\n",
       "      <td>POINT (-87.61391851099999 41.802238398)</td>\n",
       "    </tr>\n",
       "    <tr>\n",
       "      <th>4</th>\n",
       "      <td>4850</td>\n",
       "      <td>[]</td>\n",
       "      <td>5622147</td>\n",
       "      <td>12/01/2001</td>\n",
       "      <td>OFFENSE INVOLVING CHILDREN</td>\n",
       "      <td>person</td>\n",
       "      <td>RESIDENCE</td>\n",
       "      <td>false</td>\n",
       "      <td>true</td>\n",
       "      <td>POINT (-87.719768573 41.931044901)</td>\n",
       "    </tr>\n",
       "  </tbody>\n",
       "</table>\n",
       "</div>"
      ],
      "text/plain": [
       "   nearest_school_id nearest_school_distance report_id        date  \\\n",
       "0               6190                      []   8265244  09/15/2011   \n",
       "1               4300                      []   4991465  01/01/2001   \n",
       "2               1110                      []   5147738  08/01/2001   \n",
       "3               1600                      []   5281401  02/26/2001   \n",
       "4               4850                      []   5622147  12/01/2001   \n",
       "\n",
       "                 primary type  category       location description arrest  \\\n",
       "0                    BURGLARY  property                  RESIDENCE   true   \n",
       "1          DECEPTIVE PRACTICE     other   SCHOOL, PRIVATE, GROUNDS   true   \n",
       "2  OFFENSE INVOLVING CHILDREN    person                  RESIDENCE   true   \n",
       "3               OTHER OFFENSE     other  HOSPITAL BUILDING/GROUNDS  false   \n",
       "4  OFFENSE INVOLVING CHILDREN    person                  RESIDENCE  false   \n",
       "\n",
       "  community area                                 geometry  \n",
       "0          false        POINT (-87.771918163 41.95396528)  \n",
       "1          false       POINT (-87.660604177 42.001678618)  \n",
       "2          false  POINT (-87.66343916300001 41.802219519)  \n",
       "3          false  POINT (-87.61391851099999 41.802238398)  \n",
       "4           true       POINT (-87.719768573 41.931044901)  "
      ]
     },
     "execution_count": 408,
     "metadata": {},
     "output_type": "execute_result"
    }
   ],
   "source": [
    "crimes2.head()"
   ]
  },
  {
   "cell_type": "code",
   "execution_count": 348,
   "metadata": {
    "scrolled": true
   },
   "outputs": [
    {
     "name": "stdout",
     "output_type": "stream",
     "text": [
      "IDs for origin 8265244, and destination 6190\n",
      "IDs for origin 4991465, and destination 4300\n",
      "IDs for origin 5147738, and destination 1110\n",
      "IDs for origin 5281401, and destination 1600\n",
      "IDs for origin 5622147, and destination 4850\n",
      "IDs for origin 11020229, and destination 2020\n",
      "IDs for origin 5746138, and destination 6750\n",
      "IDs for origin 5868895, and destination 3341\n",
      "IDs for origin 5969635, and destination 6040\n",
      "IDs for origin 8187948, and destination 4890\n",
      "IDs for origin 8263618, and destination 5220\n"
     ]
    },
    {
     "ename": "AttributeError",
     "evalue": "(\"'GeoSeries' object has no attribute '_geom'\", 'occurred at index 8263618')",
     "output_type": "error",
     "traceback": [
      "\u001b[0;31m---------------------------------------------------------------------------\u001b[0m",
      "\u001b[0;31mAttributeError\u001b[0m                            Traceback (most recent call last)",
      "\u001b[0;32m<ipython-input-348-3b968a7af9eb>\u001b[0m in \u001b[0;36m<module>\u001b[0;34m\u001b[0m\n\u001b[1;32m      6\u001b[0m                                      \u001b[0mdf2\u001b[0m\u001b[0;34m=\u001b[0m\u001b[0mschools\u001b[0m\u001b[0;34m,\u001b[0m\u001b[0;34m\u001b[0m\u001b[0m\n\u001b[1;32m      7\u001b[0m                                      \u001b[0msrc_column\u001b[0m\u001b[0;34m=\u001b[0m\u001b[0;34m'UNIT_ID'\u001b[0m\u001b[0;34m,\u001b[0m\u001b[0;34m\u001b[0m\u001b[0m\n\u001b[0;32m----> 8\u001b[0;31m                                      axis=1).tolist(),\n\u001b[0m\u001b[1;32m      9\u001b[0m                         columns = ['nearest_school_id',\n\u001b[1;32m     10\u001b[0m                                    'nearest_school_distance'],\n",
      "\u001b[0;32m~/anaconda3/envs/geospatial/lib/python3.6/site-packages/pandas/core/frame.py\u001b[0m in \u001b[0;36mapply\u001b[0;34m(self, func, axis, broadcast, raw, reduce, result_type, args, **kwds)\u001b[0m\n\u001b[1;32m   6012\u001b[0m                          \u001b[0margs\u001b[0m\u001b[0;34m=\u001b[0m\u001b[0margs\u001b[0m\u001b[0;34m,\u001b[0m\u001b[0;34m\u001b[0m\u001b[0m\n\u001b[1;32m   6013\u001b[0m                          kwds=kwds)\n\u001b[0;32m-> 6014\u001b[0;31m         \u001b[0;32mreturn\u001b[0m \u001b[0mop\u001b[0m\u001b[0;34m.\u001b[0m\u001b[0mget_result\u001b[0m\u001b[0;34m(\u001b[0m\u001b[0;34m)\u001b[0m\u001b[0;34m\u001b[0m\u001b[0m\n\u001b[0m\u001b[1;32m   6015\u001b[0m \u001b[0;34m\u001b[0m\u001b[0m\n\u001b[1;32m   6016\u001b[0m     \u001b[0;32mdef\u001b[0m \u001b[0mapplymap\u001b[0m\u001b[0;34m(\u001b[0m\u001b[0mself\u001b[0m\u001b[0;34m,\u001b[0m \u001b[0mfunc\u001b[0m\u001b[0;34m)\u001b[0m\u001b[0;34m:\u001b[0m\u001b[0;34m\u001b[0m\u001b[0m\n",
      "\u001b[0;32m~/anaconda3/envs/geospatial/lib/python3.6/site-packages/pandas/core/apply.py\u001b[0m in \u001b[0;36mget_result\u001b[0;34m(self)\u001b[0m\n\u001b[1;32m    140\u001b[0m             \u001b[0;32mreturn\u001b[0m \u001b[0mself\u001b[0m\u001b[0;34m.\u001b[0m\u001b[0mapply_raw\u001b[0m\u001b[0;34m(\u001b[0m\u001b[0;34m)\u001b[0m\u001b[0;34m\u001b[0m\u001b[0m\n\u001b[1;32m    141\u001b[0m \u001b[0;34m\u001b[0m\u001b[0m\n\u001b[0;32m--> 142\u001b[0;31m         \u001b[0;32mreturn\u001b[0m \u001b[0mself\u001b[0m\u001b[0;34m.\u001b[0m\u001b[0mapply_standard\u001b[0m\u001b[0;34m(\u001b[0m\u001b[0;34m)\u001b[0m\u001b[0;34m\u001b[0m\u001b[0m\n\u001b[0m\u001b[1;32m    143\u001b[0m \u001b[0;34m\u001b[0m\u001b[0m\n\u001b[1;32m    144\u001b[0m     \u001b[0;32mdef\u001b[0m \u001b[0mapply_empty_result\u001b[0m\u001b[0;34m(\u001b[0m\u001b[0mself\u001b[0m\u001b[0;34m)\u001b[0m\u001b[0;34m:\u001b[0m\u001b[0;34m\u001b[0m\u001b[0m\n",
      "\u001b[0;32m~/anaconda3/envs/geospatial/lib/python3.6/site-packages/pandas/core/apply.py\u001b[0m in \u001b[0;36mapply_standard\u001b[0;34m(self)\u001b[0m\n\u001b[1;32m    246\u001b[0m \u001b[0;34m\u001b[0m\u001b[0m\n\u001b[1;32m    247\u001b[0m         \u001b[0;31m# compute the result using the series generator\u001b[0m\u001b[0;34m\u001b[0m\u001b[0;34m\u001b[0m\u001b[0m\n\u001b[0;32m--> 248\u001b[0;31m         \u001b[0mself\u001b[0m\u001b[0;34m.\u001b[0m\u001b[0mapply_series_generator\u001b[0m\u001b[0;34m(\u001b[0m\u001b[0;34m)\u001b[0m\u001b[0;34m\u001b[0m\u001b[0m\n\u001b[0m\u001b[1;32m    249\u001b[0m \u001b[0;34m\u001b[0m\u001b[0m\n\u001b[1;32m    250\u001b[0m         \u001b[0;31m# wrap results\u001b[0m\u001b[0;34m\u001b[0m\u001b[0;34m\u001b[0m\u001b[0m\n",
      "\u001b[0;32m~/anaconda3/envs/geospatial/lib/python3.6/site-packages/pandas/core/apply.py\u001b[0m in \u001b[0;36mapply_series_generator\u001b[0;34m(self)\u001b[0m\n\u001b[1;32m    275\u001b[0m             \u001b[0;32mtry\u001b[0m\u001b[0;34m:\u001b[0m\u001b[0;34m\u001b[0m\u001b[0m\n\u001b[1;32m    276\u001b[0m                 \u001b[0;32mfor\u001b[0m \u001b[0mi\u001b[0m\u001b[0;34m,\u001b[0m \u001b[0mv\u001b[0m \u001b[0;32min\u001b[0m \u001b[0menumerate\u001b[0m\u001b[0;34m(\u001b[0m\u001b[0mseries_gen\u001b[0m\u001b[0;34m)\u001b[0m\u001b[0;34m:\u001b[0m\u001b[0;34m\u001b[0m\u001b[0m\n\u001b[0;32m--> 277\u001b[0;31m                     \u001b[0mresults\u001b[0m\u001b[0;34m[\u001b[0m\u001b[0mi\u001b[0m\u001b[0;34m]\u001b[0m \u001b[0;34m=\u001b[0m \u001b[0mself\u001b[0m\u001b[0;34m.\u001b[0m\u001b[0mf\u001b[0m\u001b[0;34m(\u001b[0m\u001b[0mv\u001b[0m\u001b[0;34m)\u001b[0m\u001b[0;34m\u001b[0m\u001b[0m\n\u001b[0m\u001b[1;32m    278\u001b[0m                     \u001b[0mkeys\u001b[0m\u001b[0;34m.\u001b[0m\u001b[0mappend\u001b[0m\u001b[0;34m(\u001b[0m\u001b[0mv\u001b[0m\u001b[0;34m.\u001b[0m\u001b[0mname\u001b[0m\u001b[0;34m)\u001b[0m\u001b[0;34m\u001b[0m\u001b[0m\n\u001b[1;32m    279\u001b[0m             \u001b[0;32mexcept\u001b[0m \u001b[0mException\u001b[0m \u001b[0;32mas\u001b[0m \u001b[0me\u001b[0m\u001b[0;34m:\u001b[0m\u001b[0;34m\u001b[0m\u001b[0m\n",
      "\u001b[0;32m~/anaconda3/envs/geospatial/lib/python3.6/site-packages/pandas/core/apply.py\u001b[0m in \u001b[0;36mf\u001b[0;34m(x)\u001b[0m\n\u001b[1;32m     72\u001b[0m         \u001b[0;32mif\u001b[0m \u001b[0mkwds\u001b[0m \u001b[0;32mor\u001b[0m \u001b[0margs\u001b[0m \u001b[0;32mand\u001b[0m \u001b[0;32mnot\u001b[0m \u001b[0misinstance\u001b[0m\u001b[0;34m(\u001b[0m\u001b[0mfunc\u001b[0m\u001b[0;34m,\u001b[0m \u001b[0mnp\u001b[0m\u001b[0;34m.\u001b[0m\u001b[0mufunc\u001b[0m\u001b[0;34m)\u001b[0m\u001b[0;34m:\u001b[0m\u001b[0;34m\u001b[0m\u001b[0m\n\u001b[1;32m     73\u001b[0m             \u001b[0;32mdef\u001b[0m \u001b[0mf\u001b[0m\u001b[0;34m(\u001b[0m\u001b[0mx\u001b[0m\u001b[0;34m)\u001b[0m\u001b[0;34m:\u001b[0m\u001b[0;34m\u001b[0m\u001b[0m\n\u001b[0;32m---> 74\u001b[0;31m                 \u001b[0;32mreturn\u001b[0m \u001b[0mfunc\u001b[0m\u001b[0;34m(\u001b[0m\u001b[0mx\u001b[0m\u001b[0;34m,\u001b[0m \u001b[0;34m*\u001b[0m\u001b[0margs\u001b[0m\u001b[0;34m,\u001b[0m \u001b[0;34m**\u001b[0m\u001b[0mkwds\u001b[0m\u001b[0;34m)\u001b[0m\u001b[0;34m\u001b[0m\u001b[0m\n\u001b[0m\u001b[1;32m     75\u001b[0m         \u001b[0;32melse\u001b[0m\u001b[0;34m:\u001b[0m\u001b[0;34m\u001b[0m\u001b[0m\n\u001b[1;32m     76\u001b[0m             \u001b[0mf\u001b[0m \u001b[0;34m=\u001b[0m \u001b[0mfunc\u001b[0m\u001b[0;34m\u001b[0m\u001b[0m\n",
      "\u001b[0;32m<ipython-input-347-ddb7dda9d605>\u001b[0m in \u001b[0;36mdistance_to_nearest\u001b[0;34m(row, geom_union, df1, df2, geom1_col, geom2_col, src_column)\u001b[0m\n\u001b[1;32m     10\u001b[0m     \u001b[0mend_point\u001b[0m \u001b[0;34m=\u001b[0m \u001b[0mdf2\u001b[0m\u001b[0;34m[\u001b[0m\u001b[0mnearest\u001b[0m\u001b[0;34m]\u001b[0m\u001b[0;34m[\u001b[0m\u001b[0;34m'geometry'\u001b[0m\u001b[0;34m]\u001b[0m\u001b[0;34m\u001b[0m\u001b[0m\n\u001b[1;32m     11\u001b[0m     \u001b[0mprint\u001b[0m\u001b[0;34m(\u001b[0m\u001b[0;34m\"IDs for origin {0}, and destination {1}\"\u001b[0m\u001b[0;34m.\u001b[0m\u001b[0mformat\u001b[0m\u001b[0;34m(\u001b[0m\u001b[0mrow\u001b[0m\u001b[0;34m.\u001b[0m\u001b[0mid\u001b[0m\u001b[0;34m,\u001b[0m \u001b[0mnearest_id\u001b[0m\u001b[0;34m)\u001b[0m\u001b[0;34m)\u001b[0m\u001b[0;34m\u001b[0m\u001b[0m\n\u001b[0;32m---> 12\u001b[0;31m     \u001b[0mdist_to_point\u001b[0m \u001b[0;34m=\u001b[0m \u001b[0mdf1\u001b[0m\u001b[0;34m.\u001b[0m\u001b[0mloc\u001b[0m\u001b[0;34m[\u001b[0m\u001b[0mrow\u001b[0m\u001b[0;34m.\u001b[0m\u001b[0mid\u001b[0m\u001b[0;34m]\u001b[0m\u001b[0;34m[\u001b[0m\u001b[0;34m'geometry'\u001b[0m\u001b[0;34m]\u001b[0m\u001b[0;34m.\u001b[0m\u001b[0mdistance\u001b[0m\u001b[0;34m(\u001b[0m\u001b[0mdf2\u001b[0m\u001b[0;34m.\u001b[0m\u001b[0mloc\u001b[0m\u001b[0;34m[\u001b[0m\u001b[0mnearest_id\u001b[0m\u001b[0;34m]\u001b[0m\u001b[0;34m[\u001b[0m\u001b[0;34m'geometry'\u001b[0m\u001b[0;34m]\u001b[0m\u001b[0;34m)\u001b[0m\u001b[0;34m\u001b[0m\u001b[0m\n\u001b[0m\u001b[1;32m     13\u001b[0m     \u001b[0;31m#dist_to_point = start_point.distance(end_point)\u001b[0m\u001b[0;34m\u001b[0m\u001b[0;34m\u001b[0m\u001b[0m\n\u001b[1;32m     14\u001b[0m     \u001b[0mdistances\u001b[0m\u001b[0;34m.\u001b[0m\u001b[0mappend\u001b[0m\u001b[0;34m(\u001b[0m\u001b[0mdist_to_point\u001b[0m\u001b[0;34m)\u001b[0m\u001b[0;34m\u001b[0m\u001b[0m\n",
      "\u001b[0;32m~/anaconda3/envs/geospatial/lib/python3.6/site-packages/shapely/geometry/base.py\u001b[0m in \u001b[0;36mdistance\u001b[0;34m(self, other)\u001b[0m\n\u001b[1;32m    434\u001b[0m     \u001b[0;32mdef\u001b[0m \u001b[0mdistance\u001b[0m\u001b[0;34m(\u001b[0m\u001b[0mself\u001b[0m\u001b[0;34m,\u001b[0m \u001b[0mother\u001b[0m\u001b[0;34m)\u001b[0m\u001b[0;34m:\u001b[0m\u001b[0;34m\u001b[0m\u001b[0m\n\u001b[1;32m    435\u001b[0m         \u001b[0;34m\"\"\"Unitless distance to other geometry (float)\"\"\"\u001b[0m\u001b[0;34m\u001b[0m\u001b[0m\n\u001b[0;32m--> 436\u001b[0;31m         \u001b[0;32mreturn\u001b[0m \u001b[0mself\u001b[0m\u001b[0;34m.\u001b[0m\u001b[0mimpl\u001b[0m\u001b[0;34m[\u001b[0m\u001b[0;34m'distance'\u001b[0m\u001b[0;34m]\u001b[0m\u001b[0;34m(\u001b[0m\u001b[0mself\u001b[0m\u001b[0;34m,\u001b[0m \u001b[0mother\u001b[0m\u001b[0;34m)\u001b[0m\u001b[0;34m\u001b[0m\u001b[0m\n\u001b[0m\u001b[1;32m    437\u001b[0m \u001b[0;34m\u001b[0m\u001b[0m\n\u001b[1;32m    438\u001b[0m     \u001b[0;32mdef\u001b[0m \u001b[0mhausdorff_distance\u001b[0m\u001b[0;34m(\u001b[0m\u001b[0mself\u001b[0m\u001b[0;34m,\u001b[0m \u001b[0mother\u001b[0m\u001b[0;34m)\u001b[0m\u001b[0;34m:\u001b[0m\u001b[0;34m\u001b[0m\u001b[0m\n",
      "\u001b[0;32m~/anaconda3/envs/geospatial/lib/python3.6/site-packages/shapely/topology.py\u001b[0m in \u001b[0;36m__call__\u001b[0;34m(self, this, other)\u001b[0m\n\u001b[1;32m     44\u001b[0m     \u001b[0;32mdef\u001b[0m \u001b[0m__call__\u001b[0m\u001b[0;34m(\u001b[0m\u001b[0mself\u001b[0m\u001b[0;34m,\u001b[0m \u001b[0mthis\u001b[0m\u001b[0;34m,\u001b[0m \u001b[0mother\u001b[0m\u001b[0;34m)\u001b[0m\u001b[0;34m:\u001b[0m\u001b[0;34m\u001b[0m\u001b[0m\n\u001b[1;32m     45\u001b[0m         \u001b[0mself\u001b[0m\u001b[0;34m.\u001b[0m\u001b[0m_validate\u001b[0m\u001b[0;34m(\u001b[0m\u001b[0mthis\u001b[0m\u001b[0;34m)\u001b[0m\u001b[0;34m\u001b[0m\u001b[0m\n\u001b[0;32m---> 46\u001b[0;31m         \u001b[0mself\u001b[0m\u001b[0;34m.\u001b[0m\u001b[0m_validate\u001b[0m\u001b[0;34m(\u001b[0m\u001b[0mother\u001b[0m\u001b[0;34m,\u001b[0m \u001b[0mstop_prepared\u001b[0m\u001b[0;34m=\u001b[0m\u001b[0;32mTrue\u001b[0m\u001b[0;34m)\u001b[0m\u001b[0;34m\u001b[0m\u001b[0m\n\u001b[0m\u001b[1;32m     47\u001b[0m         \u001b[0md\u001b[0m \u001b[0;34m=\u001b[0m \u001b[0mc_double\u001b[0m\u001b[0;34m(\u001b[0m\u001b[0;34m)\u001b[0m\u001b[0;34m\u001b[0m\u001b[0m\n\u001b[1;32m     48\u001b[0m         \u001b[0mretval\u001b[0m \u001b[0;34m=\u001b[0m \u001b[0mself\u001b[0m\u001b[0;34m.\u001b[0m\u001b[0mfn\u001b[0m\u001b[0;34m(\u001b[0m\u001b[0mthis\u001b[0m\u001b[0;34m.\u001b[0m\u001b[0m_geom\u001b[0m\u001b[0;34m,\u001b[0m \u001b[0mother\u001b[0m\u001b[0;34m.\u001b[0m\u001b[0m_geom\u001b[0m\u001b[0;34m,\u001b[0m \u001b[0mbyref\u001b[0m\u001b[0;34m(\u001b[0m\u001b[0md\u001b[0m\u001b[0;34m)\u001b[0m\u001b[0;34m)\u001b[0m\u001b[0;34m\u001b[0m\u001b[0m\n",
      "\u001b[0;32m~/anaconda3/envs/geospatial/lib/python3.6/site-packages/shapely/topology.py\u001b[0m in \u001b[0;36m_validate\u001b[0;34m(self, ob, stop_prepared)\u001b[0m\n\u001b[1;32m     15\u001b[0m \u001b[0;34m\u001b[0m\u001b[0m\n\u001b[1;32m     16\u001b[0m     \u001b[0;32mdef\u001b[0m \u001b[0m_validate\u001b[0m\u001b[0;34m(\u001b[0m\u001b[0mself\u001b[0m\u001b[0;34m,\u001b[0m \u001b[0mob\u001b[0m\u001b[0;34m,\u001b[0m \u001b[0mstop_prepared\u001b[0m\u001b[0;34m=\u001b[0m\u001b[0;32mFalse\u001b[0m\u001b[0;34m)\u001b[0m\u001b[0;34m:\u001b[0m\u001b[0;34m\u001b[0m\u001b[0m\n\u001b[0;32m---> 17\u001b[0;31m         \u001b[0;32mif\u001b[0m \u001b[0mob\u001b[0m \u001b[0;32mis\u001b[0m \u001b[0;32mNone\u001b[0m \u001b[0;32mor\u001b[0m \u001b[0mob\u001b[0m\u001b[0;34m.\u001b[0m\u001b[0m_geom\u001b[0m \u001b[0;32mis\u001b[0m \u001b[0;32mNone\u001b[0m\u001b[0;34m:\u001b[0m\u001b[0;34m\u001b[0m\u001b[0m\n\u001b[0m\u001b[1;32m     18\u001b[0m             \u001b[0;32mraise\u001b[0m \u001b[0mValueError\u001b[0m\u001b[0;34m(\u001b[0m\u001b[0;34m\"Null geometry supports no operations\"\u001b[0m\u001b[0;34m)\u001b[0m\u001b[0;34m\u001b[0m\u001b[0m\n\u001b[1;32m     19\u001b[0m         \u001b[0;32mif\u001b[0m \u001b[0mstop_prepared\u001b[0m \u001b[0;32mand\u001b[0m \u001b[0;32mnot\u001b[0m \u001b[0mhasattr\u001b[0m\u001b[0;34m(\u001b[0m\u001b[0mob\u001b[0m\u001b[0;34m,\u001b[0m \u001b[0;34m'type'\u001b[0m\u001b[0;34m)\u001b[0m\u001b[0;34m:\u001b[0m\u001b[0;34m\u001b[0m\u001b[0m\n",
      "\u001b[0;32m~/anaconda3/envs/geospatial/lib/python3.6/site-packages/pandas/core/generic.py\u001b[0m in \u001b[0;36m__getattr__\u001b[0;34m(self, name)\u001b[0m\n\u001b[1;32m   4374\u001b[0m             \u001b[0;32mif\u001b[0m \u001b[0mself\u001b[0m\u001b[0;34m.\u001b[0m\u001b[0m_info_axis\u001b[0m\u001b[0;34m.\u001b[0m\u001b[0m_can_hold_identifiers_and_holds_name\u001b[0m\u001b[0;34m(\u001b[0m\u001b[0mname\u001b[0m\u001b[0;34m)\u001b[0m\u001b[0;34m:\u001b[0m\u001b[0;34m\u001b[0m\u001b[0m\n\u001b[1;32m   4375\u001b[0m                 \u001b[0;32mreturn\u001b[0m \u001b[0mself\u001b[0m\u001b[0;34m[\u001b[0m\u001b[0mname\u001b[0m\u001b[0;34m]\u001b[0m\u001b[0;34m\u001b[0m\u001b[0m\n\u001b[0;32m-> 4376\u001b[0;31m             \u001b[0;32mreturn\u001b[0m \u001b[0mobject\u001b[0m\u001b[0;34m.\u001b[0m\u001b[0m__getattribute__\u001b[0m\u001b[0;34m(\u001b[0m\u001b[0mself\u001b[0m\u001b[0;34m,\u001b[0m \u001b[0mname\u001b[0m\u001b[0;34m)\u001b[0m\u001b[0;34m\u001b[0m\u001b[0m\n\u001b[0m\u001b[1;32m   4377\u001b[0m \u001b[0;34m\u001b[0m\u001b[0m\n\u001b[1;32m   4378\u001b[0m     \u001b[0;32mdef\u001b[0m \u001b[0m__setattr__\u001b[0m\u001b[0;34m(\u001b[0m\u001b[0mself\u001b[0m\u001b[0;34m,\u001b[0m \u001b[0mname\u001b[0m\u001b[0;34m,\u001b[0m \u001b[0mvalue\u001b[0m\u001b[0;34m)\u001b[0m\u001b[0;34m:\u001b[0m\u001b[0;34m\u001b[0m\u001b[0m\n",
      "\u001b[0;31mAttributeError\u001b[0m: (\"'GeoSeries' object has no attribute '_geom'\", 'occurred at index 8263618')"
     ]
    }
   ],
   "source": [
    "# Locate the nearest school to each reported crime's location\n",
    "start_time = time.time\n",
    "unpackdf = pd.DataFrame(crimes.apply(distance_to_nearest,\n",
    "                                     geom_union=schools_unary_union,\n",
    "                                     df1=crimes,\n",
    "                                     df2=schools,\n",
    "                                     src_column='UNIT_ID',\n",
    "                                     axis=1).tolist(),\n",
    "                        columns = ['nearest_school_id',\n",
    "                                   'nearest_school_distance'],\n",
    "                        index=test_start.index)\n",
    "crimes=pd.concat([unpackdf, crimes], axis=1)\n",
    "end_time = time.time\n",
    "print(\"That took {0} seconds\".format(end_time - start_time))"
   ]
  },
  {
   "cell_type": "raw",
   "metadata": {},
   "source": [
    "test_start = gpd.GeoDataFrame({\"id\": pd.Series([\"spoint1\", \"spoint2\", \"spoint3\"],\n",
    "                                               index=[\"spoint1\", \"spoint2\", \"spoint3\"]),\n",
    "                              \"geometry\": pd.Series([shapely.geometry.Point(1, 0),\n",
    "                                                     shapely.geometry.Point(5, 0),\n",
    "                                                     shapely.geometry.Point(3, 5)\n",
    "                                                    ],\n",
    "                                                    index=[\"spoint1\", \"spoint2\", \"spoint3\"]\n",
    "                                                   )}\n",
    "                             )\n",
    "test_start"
   ]
  },
  {
   "cell_type": "raw",
   "metadata": {},
   "source": [
    "test_end = gpd.GeoDataFrame({\"id\": pd.Series([\"epoint1\", \"epoint2\", \"epoint3\", \"epoint4\", \"epoint5\"],\n",
    "                                             index=[\"epoint1\", \"epoint2\", \"epoint3\", \"epoint4\", \"epoint5\"]\n",
    "                                            ),\n",
    "                             \"geometry\": pd.Series([shapely.geometry.Point(-3, 3),\n",
    "                                                    shapely.geometry.Point(-1, 4),\n",
    "                                                    shapely.geometry.Point(5, 4),\n",
    "                                                    shapely.geometry.Point(2, 4),\n",
    "                                                    shapely.geometry.Point(8, 0)\n",
    "                                                   ],\n",
    "                                                   index=[\"epoint1\", \"epoint2\", \"epoint3\", \"epoint4\", \"epoint5\"]\n",
    "                                                  )\n",
    "                            })\n",
    "\n",
    "test_end"
   ]
  },
  {
   "cell_type": "raw",
   "metadata": {},
   "source": [
    "unary_union = test_end.unary_union"
   ]
  },
  {
   "cell_type": "raw",
   "metadata": {},
   "source": [
    "unpackdf = pd.DataFrame(test_start.apply(distance_to_nearest, geom_union=unary_union,\n",
    "                                                              df1=test_start,\n",
    "                                                              df2=test_end,\n",
    "                                                              src_column='id',\n",
    "                                                              axis=1).tolist(),\n",
    "                        columns = ['nearest_id', 'nearest_distance'], index=test_start.index)\n",
    "test_start=pd.concat([unpackdf, test_start], axis=1)\n",
    "test_start"
   ]
  },
  {
   "cell_type": "code",
   "execution_count": 153,
   "metadata": {},
   "outputs": [
    {
     "name": "stdout",
     "output_type": "stream",
     "text": [
      "Nearest IDs: ['epoint4']\n",
      "Distances: [<shapely.geometry.point.Point object at 0xb2371d7f0>]\n",
      "Nearest IDs: ['epoint5']\n",
      "Distances: [<shapely.geometry.point.Point object at 0xb2371d828>]\n",
      "Nearest IDs: ['epoint4']\n",
      "Distances: [<shapely.geometry.point.Point object at 0xb2371d7f0>]\n"
     ]
    },
    {
     "data": {
      "text/html": [
       "<div>\n",
       "<style scoped>\n",
       "    .dataframe tbody tr th:only-of-type {\n",
       "        vertical-align: middle;\n",
       "    }\n",
       "\n",
       "    .dataframe tbody tr th {\n",
       "        vertical-align: top;\n",
       "    }\n",
       "\n",
       "    .dataframe thead th {\n",
       "        text-align: right;\n",
       "    }\n",
       "</style>\n",
       "<table border=\"1\" class=\"dataframe\">\n",
       "  <thead>\n",
       "    <tr style=\"text-align: right;\">\n",
       "      <th></th>\n",
       "      <th>id</th>\n",
       "      <th>geometry</th>\n",
       "      <th>nearest_id</th>\n",
       "    </tr>\n",
       "  </thead>\n",
       "  <tbody>\n",
       "    <tr>\n",
       "      <th>spoint1</th>\n",
       "      <td>spoint1</td>\n",
       "      <td>POINT (1 0)</td>\n",
       "      <td>epoint4</td>\n",
       "    </tr>\n",
       "    <tr>\n",
       "      <th>spoint2</th>\n",
       "      <td>spoint2</td>\n",
       "      <td>POINT (5 0)</td>\n",
       "      <td>epoint5</td>\n",
       "    </tr>\n",
       "    <tr>\n",
       "      <th>spoint3</th>\n",
       "      <td>spoint3</td>\n",
       "      <td>POINT (3 5)</td>\n",
       "      <td>epoint4</td>\n",
       "    </tr>\n",
       "  </tbody>\n",
       "</table>\n",
       "</div>"
      ],
      "text/plain": [
       "              id     geometry nearest_id\n",
       "spoint1  spoint1  POINT (1 0)    epoint4\n",
       "spoint2  spoint2  POINT (5 0)    epoint5\n",
       "spoint3  spoint3  POINT (3 5)    epoint4"
      ]
     },
     "execution_count": 153,
     "metadata": {},
     "output_type": "execute_result"
    }
   ],
   "source": [
    "test_start['nearest_id'] = test_start.apply(nearest_id, geom_union=unary_union, df1=test_start, df2=test_end, src_column='id', axis=1)\n",
    "test_start"
   ]
  },
  {
   "cell_type": "code",
   "execution_count": 142,
   "metadata": {
    "scrolled": false
   },
   "outputs": [
    {
     "name": "stdout",
     "output_type": "stream",
     "text": [
      "spoint1    4.123106\n",
      "spoint2    3.000000\n",
      "spoint3    1.414214\n",
      "dtype: float64\n"
     ]
    },
    {
     "data": {
      "text/html": [
       "<div>\n",
       "<style scoped>\n",
       "    .dataframe tbody tr th:only-of-type {\n",
       "        vertical-align: middle;\n",
       "    }\n",
       "\n",
       "    .dataframe tbody tr th {\n",
       "        vertical-align: top;\n",
       "    }\n",
       "\n",
       "    .dataframe thead th {\n",
       "        text-align: right;\n",
       "    }\n",
       "</style>\n",
       "<table border=\"1\" class=\"dataframe\">\n",
       "  <thead>\n",
       "    <tr style=\"text-align: right;\">\n",
       "      <th></th>\n",
       "      <th>id</th>\n",
       "      <th>geometry</th>\n",
       "      <th>nearest_id</th>\n",
       "      <th>nearest_distance</th>\n",
       "    </tr>\n",
       "  </thead>\n",
       "  <tbody>\n",
       "    <tr>\n",
       "      <th>spoint1</th>\n",
       "      <td>spoint1</td>\n",
       "      <td>POINT (1 0)</td>\n",
       "      <td>epoint4</td>\n",
       "      <td>4.123106</td>\n",
       "    </tr>\n",
       "    <tr>\n",
       "      <th>spoint2</th>\n",
       "      <td>spoint2</td>\n",
       "      <td>POINT (5 0)</td>\n",
       "      <td>epoint5</td>\n",
       "      <td>3.000000</td>\n",
       "    </tr>\n",
       "    <tr>\n",
       "      <th>spoint3</th>\n",
       "      <td>spoint3</td>\n",
       "      <td>POINT (3 5)</td>\n",
       "      <td>epoint4</td>\n",
       "      <td>1.414214</td>\n",
       "    </tr>\n",
       "  </tbody>\n",
       "</table>\n",
       "</div>"
      ],
      "text/plain": [
       "              id     geometry nearest_id  nearest_distance\n",
       "spoint1  spoint1  POINT (1 0)    epoint4          4.123106\n",
       "spoint2  spoint2  POINT (5 0)    epoint5          3.000000\n",
       "spoint3  spoint3  POINT (3 5)    epoint4          1.414214"
      ]
     },
     "execution_count": 142,
     "metadata": {},
     "output_type": "execute_result"
    }
   ],
   "source": [
    "test_start['nearest_id'] = test_start.apply(nearest_id, geom_union=unary_union, df1=test_start, df2=test_end, src_column='id', axis=1)\n",
    "distances = []\n",
    "distance_indecies = []\n",
    "for row in test_start.itertuples():\n",
    "    start_point = getattr(row, 'geometry')\n",
    "    end_point = test_end.loc[getattr(row, 'nearest_id')]['geometry']\n",
    "    distances.append(start_point.distance(end_point))\n",
    "    distance_indecies.append(row.id)\n",
    "new_column = pd.Series(distances, index=distance_indecies)\n",
    "test_start['nearest_distance'] = new_column\n",
    "print(new_column)\n",
    "test_start"
   ]
  },
  {
   "cell_type": "code",
   "execution_count": 32,
   "metadata": {
    "scrolled": true
   },
   "outputs": [
    {
     "name": "stdout",
     "output_type": "stream",
     "text": [
      "Nearest(<class 'geopandas.geoseries.GeoSeries'>): epoint1    False\n",
      "epoint2    False\n",
      "epoint3    False\n",
      "epoint4     True\n",
      "epoint5    False\n",
      "Name: geometry, dtype: bool\n",
      "POINT (2 4)\n",
      "Nearest(<class 'geopandas.geoseries.GeoSeries'>): epoint1    False\n",
      "epoint2    False\n",
      "epoint3    False\n",
      "epoint4    False\n",
      "epoint5     True\n",
      "Name: geometry, dtype: bool\n",
      "POINT (8 0)\n",
      "Nearest(<class 'geopandas.geoseries.GeoSeries'>): epoint1    False\n",
      "epoint2    False\n",
      "epoint3    False\n",
      "epoint4     True\n",
      "epoint5    False\n",
      "Name: geometry, dtype: bool\n",
      "POINT (2 4)\n"
     ]
    },
    {
     "ename": "ValueError",
     "evalue": "too many values to unpack (expected 2)",
     "output_type": "error",
     "traceback": [
      "\u001b[0;31m---------------------------------------------------------------------------\u001b[0m",
      "\u001b[0;31mValueError\u001b[0m                                Traceback (most recent call last)",
      "\u001b[0;32m<ipython-input-32-993c87ed82e5>\u001b[0m in \u001b[0;36m<module>\u001b[0;34m\u001b[0m\n\u001b[1;32m      3\u001b[0m                                                                          \u001b[0mdf1\u001b[0m\u001b[0;34m=\u001b[0m\u001b[0mtest_start\u001b[0m\u001b[0;34m,\u001b[0m\u001b[0;34m\u001b[0m\u001b[0m\n\u001b[1;32m      4\u001b[0m                                                                          \u001b[0mdf2\u001b[0m\u001b[0;34m=\u001b[0m\u001b[0mtest_end\u001b[0m\u001b[0;34m,\u001b[0m\u001b[0;34m\u001b[0m\u001b[0m\n\u001b[0;32m----> 5\u001b[0;31m                                                                          src_column='id', axis=1)\n\u001b[0m",
      "\u001b[0;31mValueError\u001b[0m: too many values to unpack (expected 2)"
     ]
    }
   ],
   "source": [
    "(test_start['nearest_id'], test_start['nearest_point']) = test_start.apply(nearest,\n",
    "                                                                         geom_union=unary_union,\n",
    "                                                                         df1=test_start,\n",
    "                                                                         df2=test_end,\n",
    "                                                                         src_column='id', axis=1)"
   ]
  },
  {
   "cell_type": "code",
   "execution_count": 146,
   "metadata": {},
   "outputs": [
    {
     "data": {
      "text/html": [
       "<div>\n",
       "<style scoped>\n",
       "    .dataframe tbody tr th:only-of-type {\n",
       "        vertical-align: middle;\n",
       "    }\n",
       "\n",
       "    .dataframe tbody tr th {\n",
       "        vertical-align: top;\n",
       "    }\n",
       "\n",
       "    .dataframe thead th {\n",
       "        text-align: right;\n",
       "    }\n",
       "</style>\n",
       "<table border=\"1\" class=\"dataframe\">\n",
       "  <thead>\n",
       "    <tr style=\"text-align: right;\">\n",
       "      <th></th>\n",
       "      <th>A</th>\n",
       "      <th>B</th>\n",
       "      <th>foo</th>\n",
       "      <th>bar</th>\n",
       "    </tr>\n",
       "  </thead>\n",
       "  <tbody>\n",
       "    <tr>\n",
       "      <th>0</th>\n",
       "      <td>4</td>\n",
       "      <td>9</td>\n",
       "      <td>foo</td>\n",
       "      <td>bar</td>\n",
       "    </tr>\n",
       "    <tr>\n",
       "      <th>1</th>\n",
       "      <td>4</td>\n",
       "      <td>9</td>\n",
       "      <td>foo</td>\n",
       "      <td>bar</td>\n",
       "    </tr>\n",
       "    <tr>\n",
       "      <th>2</th>\n",
       "      <td>4</td>\n",
       "      <td>9</td>\n",
       "      <td>foo</td>\n",
       "      <td>bar</td>\n",
       "    </tr>\n",
       "  </tbody>\n",
       "</table>\n",
       "</div>"
      ],
      "text/plain": [
       "   A  B  foo  bar\n",
       "0  4  9  foo  bar\n",
       "1  4  9  foo  bar\n",
       "2  4  9  foo  bar"
      ]
     },
     "execution_count": 146,
     "metadata": {},
     "output_type": "execute_result"
    }
   ],
   "source": [
    "df = pd.DataFrame([[4, 9],] * 3, columns=['A', 'B'])\n",
    "df\n",
    "df['foo'], df['bar'] = df.apply(lambda x: pd.Series([1, 2], index=['foo', 'bar']), axis=1)\n",
    "df"
   ]
  },
  {
   "cell_type": "code",
   "execution_count": 151,
   "metadata": {},
   "outputs": [],
   "source": [
    "start_uu = test_start.unary_union"
   ]
  },
  {
   "cell_type": "markdown",
   "metadata": {},
   "source": [
    "I'm working on a personal-learning project where I'm trying to figure out what the nearest point from dataframe B is to each point in in dataframe A. I've got that bit working, but it only tells me what the nearest point is. I also want to know how far away the nearest point is, but I'm not figuring it out.\n",
    "\n",
    "I can find the distance manually one point at a time, but my efforts to do so for the whole list have failed thus far.\n",
    "\n",
    "Simplified examples of the two dataframes are:\n",
    "\n",
    "    test_start = gpd.GeoDataFrame([{\"id\": \"spoint1\", \"geometry\": shapely.geometry.Point(1, 0)},\n",
    "                                   {\"id\": \"spoint2\", \"geometry\": shapely.geometry.Point(5, 0)}])\n",
    "\n",
    "    test_end = gpd.GeoDataFrame([{\"id\": \"epoint1\", \"geometry\": shapely.geometry.Point(-3, 3)},\n",
    "                                 {\"id\": \"epoint2\", \"geometry\": shapely.geometry.Point(-1, 4)},\n",
    "                                 {\"id\": \"epoint3\", \"geometry\": shapely.geometry.Point(5, 4)},\n",
    "                                 {\"id\": \"epoint4\", \"geometry\": shapely.geometry.Point(2, 4)},\n",
    "                                 {\"id\": \"epoint5\", \"geometry\": shapely.geometry.Point(8, 0)}\n",
    "                                ])\n",
    "\n",
    "The nearest_point method I've cargo-culted from [this tutorial](https://automating-gis-processes.github.io/2017/lessons/L3/nearest-neighbour.html) is:\n",
    "\n",
    "    def nearest(row, geom_union, df1, df2, geom1_col='geometry', geom2_col='geometry', src_column=None):\n",
    "        \"\"\"Find the nearest point and return the corresponding value from specified column.\"\"\"\n",
    "        # Find the geometry that is closest\n",
    "        nearest = df2[geom2_col] == nearest_points(row[geom1_col], geom_union)[1]\n",
    "        #nearest = df2[geom2_col] == nearest_points(df1, df2)[1]\n",
    "        # Get the corresponding value from df2 (matching is based on the geometry)\n",
    "        value = df2[nearest][src_column].get_values()[0]\n",
    "        return value\n",
    "\n",
    "which is called from:\n",
    "\n",
    "    test_start['nearest_id'] = test_start.apply(nearest,\n",
    "                                                geom_union=unary_union,\n",
    "                                                df1=test_start,\n",
    "                                                df2=test_end,\n",
    "                                                src_column='id', axis=1)\n",
    "\n",
    "What I want is another column in test_start that contains the distance between the start and end points. As mentioned above, I can do this manually with something like:\n",
    "\n",
    "    print(test_start[\"geometry\"][0].distance(test_end[\"geometry\"][3]))\n",
    "\n",
    "but I can't figure out how to do it for the whole test_start dataframe.\n",
    "\n",
    "This is a very simplified data set. The real starting point data set has over 7 million rows and the end set has around 800, so efficiency may become a factor if the brute-force method takes half a day or more.\n",
    "\n",
    "Using apply() seemed like it would be a path to get to what I wanted, but I can't figure out how to write it so the system knows which points are being compared."
   ]
  },
  {
   "cell_type": "markdown",
   "metadata": {},
   "source": [
    "Somewhat closer. This code gets past the indexing, etc. problems, but appears to select just one end point as being nearest to all of the start points.\n",
    "\n",
    "     def distance_to_nearest(row, geom_union, df1, df2, geom1_col='geometry', geom2_col='geometry', src_column=None):\n",
    "         \"\"\"Find the nearest point and return the corresponding value from specified column.\"\"\"\n",
    "         distances = []\n",
    "         # Find the geometry that is closest\n",
    "         nearest = df2[geom2_col] == nearest_points(row[geom1_col], geom_union)[1]\n",
    "         # Get the corresponding value from df2 (matching is based on the geometry)\n",
    "         nearest_id = df2[nearest][src_column].get_values()[0]\n",
    "         start_point = row['geometry']\n",
    "         end_point_series = df2[nearest]['geometry']\n",
    "         end_point = end_point_series.iloc[0]\n",
    "         dist_to_point = start_point.distance(end_point)\n",
    "         distances.append(dist_to_point)\n",
    "         return nearest_id, dist_to_point"
   ]
  },
  {
   "cell_type": "code",
   "execution_count": null,
   "metadata": {},
   "outputs": [],
   "source": []
  }
 ],
 "metadata": {
  "kernelspec": {
   "display_name": "Python 3",
   "language": "python",
   "name": "python3"
  },
  "language_info": {
   "codemirror_mode": {
    "name": "ipython",
    "version": 3
   },
   "file_extension": ".py",
   "mimetype": "text/x-python",
   "name": "python",
   "nbconvert_exporter": "python",
   "pygments_lexer": "ipython3",
   "version": "3.6.6"
  }
 },
 "nbformat": 4,
 "nbformat_minor": 2
}
