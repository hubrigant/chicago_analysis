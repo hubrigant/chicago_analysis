{
 "cells": [
  {
   "cell_type": "markdown",
   "metadata": {},
   "source": [
    "# Police stations: Police_Stations_-_Map.csv\n",
    "# Libraries: Libraries_-Locations_Hours_and_Contact_Information.csv\n",
    "# Schools: Chicago Public Schools - School Loactions SY1011.geojson\n",
    "# Todo: for each police report, find distance to nearest station, to nearest library, and to nearest school"
   ]
  },
  {
   "cell_type": "code",
   "execution_count": 1,
   "metadata": {},
   "outputs": [],
   "source": [
    "import csv\n",
    "import time\n",
    "#from collections import namedtuple\n",
    "import geopandas as gpd\n",
    "import pandas as pd\n",
    "import shapely\n",
    "from shapely.ops import nearest_points\n",
    "import numpy as np\n",
    "from scipy import ndimage\n",
    "\n",
    "#import matplotlib\n",
    "#from matplotlib.pyplot import figure\n",
    "#import matplotlib.pyplot as plt\n",
    "#from matplotlib import cm\n",
    "#from matplotlib.ticker import LinearLocator, FormatStrFormatter\n",
    "#from matplotlib.colors import ListedColormap\n",
    "#from matplotlib.ticker import MaxNLocator"
   ]
  },
  {
   "cell_type": "code",
   "execution_count": 2,
   "metadata": {},
   "outputs": [],
   "source": [
    "# Do housekeeping between runs\n",
    "objects = ['neighborhoods',\n",
    "           'schools',\n",
    "           'crimes_extract',\n",
    "           'crimes_header',\n",
    "           'crimes',\n",
    "           'crimes2'\n",
    "          ]\n",
    "\n",
    "for thing in objects:\n",
    "    try:\n",
    "        del thing\n",
    "    except NameError as e:\n",
    "        print(\"Couldn't delete {0}\".format(thing))\n",
    "        print(e)\n",
    "        continue"
   ]
  },
  {
   "cell_type": "raw",
   "metadata": {},
   "source": [
    "def point_from_xy(row, df):\n",
    "    print(row.get('X'))\n",
    "    #return shapely.geometry.Point(row['X'], row['Y'])\n",
    "    return"
   ]
  },
  {
   "cell_type": "raw",
   "metadata": {},
   "source": [
    "def distance_to_nearest(row, geom_union, df1, df2, geom1_col='geometry', geom2_col='geometry', src_column=None):\n",
    "     \"\"\"Find the nearest point and return the corresponding value from specified column.\"\"\"\n",
    "     # Find the geometry that is closest\n",
    "     nearest = df2[geom2_col] == nearest_points(row[geom1_col], geom_union)[1]\n",
    "     # Get the corresponding value from df2 (matching is based on the geometry)\n",
    "     nearest_id = df2[nearest][src_column].get_values()[0]\n",
    "     start_point: shapely.geometry.Point = row[geom1_col]\n",
    "     end_point_series: pd.Series = df2[nearest][geom2_col]\n",
    "     end_point: shapely.geometry.Point = end_point_series.iloc[0]\n",
    "     dist_to_point = start_point.distance(end_point)\n",
    "     return nearest_id, dist_to_point"
   ]
  },
  {
   "cell_type": "code",
   "execution_count": 3,
   "metadata": {},
   "outputs": [],
   "source": [
    "def distance_to_nearest(row, geom_union, df1, df2, geom1_col='geometry', geom2_col='geometry', src_column=None):\n",
    "    \"\"\"Find the nearest point and return the corresponding value from specified column.\"\"\"\n",
    "    # Find the geometry that is closest\n",
    "    nearest = df2[geom2_col] == nearest_points(row[geom1_col], geom_union)[1]\n",
    "    # Get the corresponding value from df2 (matching is based on the geometry)\n",
    "    nearest_id = df2[nearest][src_column].get_values()[0]\n",
    "    start_point: shapely.geometry.Point = row[geom1_col]\n",
    "    end_point_series: pd.Series = df2[nearest][geom2_col]\n",
    "    end_point: shapely.geometry.Point = end_point_series.iloc[0]\n",
    "    dist_to_point = start_point.distance(end_point)\n",
    "    return nearest_id, dist_to_point"
   ]
  },
  {
   "cell_type": "code",
   "execution_count": 4,
   "metadata": {},
   "outputs": [],
   "source": [
    "crimes = pd.read_pickle(\"crimes-transformed.pkl\")\n",
    "neighborhoods = pd.read_pickle(\"neighborhoods-transformed.pkl\")"
   ]
  },
  {
   "cell_type": "raw",
   "metadata": {},
   "source": [
    "# don't really need this yet, but just so I don't forget\n",
    "with_incomes = pd.read_pickle(\"with_incomes.pkl\")"
   ]
  },
  {
   "cell_type": "raw",
   "metadata": {},
   "source": [
    "crimes2 = None\n",
    "crimes2 = pd.read_pickle('crimes2.pkl')"
   ]
  },
  {
   "cell_type": "raw",
   "metadata": {
    "scrolled": true
   },
   "source": [
    "crimes.info()"
   ]
  },
  {
   "cell_type": "raw",
   "metadata": {},
   "source": [
    "crimes = crimes.astype({'id': str})\n",
    "type(crimes.iloc[0]['id'])"
   ]
  },
  {
   "cell_type": "raw",
   "metadata": {},
   "source": [
    "# Read in a subset of the crimes dataset for testing the nearest neighbor methods\n",
    "crimes_extract = pd.read_csv(\"parallel/xaa\")\n",
    "crimes_extract.head()"
   ]
  },
  {
   "cell_type": "code",
   "execution_count": 5,
   "metadata": {},
   "outputs": [],
   "source": [
    "schools = pd.read_pickle('schools-transformed.pkl')"
   ]
  },
  {
   "cell_type": "raw",
   "metadata": {},
   "source": [
    "schools_renamed = schools.rename(columns={'geometry': 'geodesic geometry', 'UTMPoint': 'geometry'})\n",
    "schools_renamed.head()\n",
    "schools_renamed.to_pickle('schools-transformed.pkl')"
   ]
  },
  {
   "cell_type": "code",
   "execution_count": 6,
   "metadata": {},
   "outputs": [],
   "source": [
    "# Create unary_union object from the schools dataset\n",
    "schools_unary_union = schools.unary_union"
   ]
  },
  {
   "cell_type": "code",
   "execution_count": 7,
   "metadata": {
    "scrolled": true
   },
   "outputs": [
    {
     "name": "stdout",
     "output_type": "stream",
     "text": [
      "That took 14.41885495185852 seconds\n"
     ]
    }
   ],
   "source": [
    "# Locate the nearest school to each reported crime's location\n",
    "start_time = time.time()\n",
    "unpackdf = pd.DataFrame(crimes.apply(distance_to_nearest,\n",
    "                                     geom_union=schools_unary_union,\n",
    "                                     df1=crimes,\n",
    "                                     df2=schools,\n",
    "                                     geom1_col='UTMPoint',\n",
    "                                     geom2_col='geometry',\n",
    "                                     src_column='UNIT_ID',\n",
    "                                     axis=1\n",
    "                                    ).tolist(), columns = ['nearest_school_id', 'nearest_school_distance'], index=crimes.index)\n",
    "crimes = pd.concat([unpackdf, crimes], axis=1)\n",
    "end_time = time.time()\n",
    "print(\"That took {0} seconds\".format(end_time - start_time))"
   ]
  },
  {
   "cell_type": "code",
   "execution_count": 9,
   "metadata": {},
   "outputs": [
    {
     "name": "stdout",
     "output_type": "stream",
     "text": [
      "<class 'pandas.core.frame.DataFrame'>\n",
      "Int64Index: 1147 entries, 0 to 1146\n",
      "Data columns (total 28 columns):\n",
      "nearest_school_id          1147 non-null int64\n",
      "nearest_school_distance    1147 non-null float64\n",
      "ID                         1147 non-null int64\n",
      "case number                1147 non-null object\n",
      "date                       1147 non-null object\n",
      "block                      1147 non-null object\n",
      "iucr                       1147 non-null object\n",
      "primary type               1147 non-null object\n",
      "desc                       1147 non-null object\n",
      "locdesc                    1147 non-null object\n",
      "arrest                     1147 non-null bool\n",
      "domestic                   1147 non-null bool\n",
      "beat                       1147 non-null int64\n",
      "district                   1147 non-null int64\n",
      "ward                       1147 non-null int64\n",
      "community area             1147 non-null float64\n",
      "fbi code                   1147 non-null object\n",
      "x coord                    1147 non-null float64\n",
      "y coord                    1147 non-null float64\n",
      "year                       1147 non-null int64\n",
      "updated on                 1147 non-null object\n",
      "lat                        1147 non-null float64\n",
      "lon                        1147 non-null float64\n",
      "location                   1147 non-null object\n",
      "community                  1147 non-null object\n",
      "UTMx                       1147 non-null float64\n",
      "UTMy                       1147 non-null float64\n",
      "UTMPoint                   1147 non-null object\n",
      "dtypes: bool(2), float64(8), int64(6), object(12)\n",
      "memory usage: 244.2+ KB\n"
     ]
    }
   ],
   "source": [
    "crimes.info()"
   ]
  },
  {
   "cell_type": "code",
   "execution_count": null,
   "metadata": {},
   "outputs": [],
   "source": []
  }
 ],
 "metadata": {
  "kernelspec": {
   "display_name": "Python 3",
   "language": "python",
   "name": "python3"
  },
  "language_info": {
   "codemirror_mode": {
    "name": "ipython",
    "version": 3
   },
   "file_extension": ".py",
   "mimetype": "text/x-python",
   "name": "python",
   "nbconvert_exporter": "python",
   "pygments_lexer": "ipython3",
   "version": "3.7.2"
  }
 },
 "nbformat": 4,
 "nbformat_minor": 2
}
