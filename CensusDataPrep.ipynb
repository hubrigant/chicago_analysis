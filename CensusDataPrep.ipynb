{
 "cells": [
  {
   "cell_type": "code",
   "execution_count": 1,
   "metadata": {},
   "outputs": [],
   "source": [
    "import pandas as pd\n",
    "import geopandas as gpd\n",
    "import numpy as np\n",
    "import pyproj\n",
    "import shapely\n",
    "from typing import List"
   ]
  },
  {
   "cell_type": "code",
   "execution_count": 2,
   "metadata": {},
   "outputs": [],
   "source": [
    "# Set notebook display options\n",
    "pd.set_option('display.max_columns', 500)\n",
    "pd.set_option('display.max_rows', 500)"
   ]
  },
  {
   "cell_type": "code",
   "execution_count": 3,
   "metadata": {},
   "outputs": [],
   "source": [
    "def geod2utm(row):\n",
    "    '''   Convert geodetic coordinates to UTM   '''\n",
    "    zn = '16T'\n",
    "    datum = 'WGS84'\n",
    "    lat = row['lat']\n",
    "    lon = row['lon']\n",
    "        \n",
    "    p = pyproj.Proj(proj='utm', zone=zn, ellps=datum)\n",
    "    \n",
    "    X, Y = p(lon, lat)\n",
    "    \n",
    "    return pd.Series({'UTMx': X, 'UTMy': Y})"
   ]
  },
  {
   "cell_type": "code",
   "execution_count": 4,
   "metadata": {},
   "outputs": [],
   "source": [
    "def make_utm_points(row):\n",
    "    UTMx = row['UTMx']\n",
    "    UTMy = row['UTMy']\n",
    "    UTMPoint = shapely.geometry.Point(UTMx, UTMy)\n",
    "    return UTMPoint"
   ]
  },
  {
   "cell_type": "markdown",
   "metadata": {},
   "source": [
    "# Read in summary data from the 2010 census"
   ]
  },
  {
   "cell_type": "code",
   "execution_count": 5,
   "metadata": {},
   "outputs": [],
   "source": [
    "census_summary_df = pd.read_csv('data/2010-census-summary.csv')"
   ]
  },
  {
   "cell_type": "code",
   "execution_count": 6,
   "metadata": {},
   "outputs": [],
   "source": [
    "for i in range(67,129):\n",
    "    del census_summary_df['Unnamed: {0}'.format(i)]"
   ]
  },
  {
   "cell_type": "raw",
   "metadata": {
    "scrolled": true
   },
   "source": [
    "census_summary_df.head()"
   ]
  },
  {
   "cell_type": "markdown",
   "metadata": {},
   "source": [
    "# Read in shapes of community areas"
   ]
  },
  {
   "cell_type": "code",
   "execution_count": 7,
   "metadata": {},
   "outputs": [],
   "source": [
    "communities = gpd.read_file('data/community-areas.geojson')"
   ]
  },
  {
   "cell_type": "raw",
   "metadata": {},
   "source": [
    "communities.iloc[0]['geometry'].area"
   ]
  },
  {
   "cell_type": "code",
   "execution_count": 8,
   "metadata": {},
   "outputs": [],
   "source": [
    "census_summary_df.to_pickle('data/census_summary-cleaned.pkl')"
   ]
  },
  {
   "cell_type": "raw",
   "metadata": {
    "scrolled": true
   },
   "source": [
    "communities.loc[communities['geometry'] != None]"
   ]
  },
  {
   "cell_type": "raw",
   "metadata": {},
   "source": [
    "communities['community'].map(len).max()"
   ]
  },
  {
   "cell_type": "code",
   "execution_count": 9,
   "metadata": {},
   "outputs": [],
   "source": [
    "communities_df = pd.read_json('data/community-areas.geojson')"
   ]
  },
  {
   "cell_type": "code",
   "execution_count": 10,
   "metadata": {},
   "outputs": [],
   "source": [
    "community_names: List[str] = []\n",
    "community_area_numbers: List[int] = []\n",
    "community_geometries: List[shapely.geometry.Polygon] = []\n",
    "community_modeled: pd.DataFrame = pd.DataFrame([{'community name': 'DELETE THIS',\n",
    "                                                 'community number': 0,\n",
    "                                                 'UTMGeometry': 'DELETE THIS'\n",
    "                                                }])"
   ]
  },
  {
   "cell_type": "code",
   "execution_count": 11,
   "metadata": {},
   "outputs": [],
   "source": [
    "del community_modeled\n",
    "# community_modeled_dict: dict = {}\n",
    "community_names: list = []\n",
    "community_area_numbers: list = []\n",
    "community_geometries:list = []\n",
    "for feature in communities_df['features']:\n",
    "    community_poly_points: list = []\n",
    "    community_names.append(feature['properties']['community'])\n",
    "    community_area_numbers.append(feature['properties']['area_numbe'])\n",
    "    for point in feature['geometry']['coordinates'][0][0]:\n",
    "        community_poly_points.append((geod2utm(pd.Series({'lon': point[0], 'lat': point[1]}))))\n",
    "    community_geometries.append(shapely.geometry.Polygon(community_poly_points))"
   ]
  },
  {
   "cell_type": "code",
   "execution_count": 12,
   "metadata": {},
   "outputs": [],
   "source": [
    "community_modeled = pd.DataFrame({'community name': community_names,\n",
    "                                  'community number': community_area_numbers,\n",
    "                                  'UTMGeometry': community_geometries},\n",
    "                                 index=range(len(community_names)))"
   ]
  },
  {
   "cell_type": "code",
   "execution_count": 15,
   "metadata": {},
   "outputs": [],
   "source": [
    "community_modeled['community number'] = community_modeled['community number'].astype('int64')"
   ]
  },
  {
   "cell_type": "code",
   "execution_count": 16,
   "metadata": {},
   "outputs": [
    {
     "name": "stdout",
     "output_type": "stream",
     "text": [
      "<class 'pandas.core.frame.DataFrame'>\n",
      "RangeIndex: 77 entries, 0 to 76\n",
      "Data columns (total 3 columns):\n",
      "community name      77 non-null object\n",
      "community number    77 non-null int64\n",
      "UTMGeometry         77 non-null object\n",
      "dtypes: int64(1), object(2)\n",
      "memory usage: 1.9+ KB\n",
      "None\n"
     ]
    }
   ],
   "source": [
    "print(community_modeled.info())"
   ]
  },
  {
   "cell_type": "code",
   "execution_count": 17,
   "metadata": {},
   "outputs": [],
   "source": [
    "community_modeled.to_pickle('data/community_modeled.pkl')"
   ]
  },
  {
   "cell_type": "raw",
   "metadata": {},
   "source": [
    "communities_df.iloc[0]['features']['geometry']['coordinates'][0][0][0][0]"
   ]
  },
  {
   "cell_type": "raw",
   "metadata": {},
   "source": [
    "row = pd.Series({'lon': -87.60914087617894, 'lat': 41.84469250265398})\n",
    "print(make_utm_points(geod2utm(row)))"
   ]
  },
  {
   "cell_type": "raw",
   "metadata": {},
   "source": [
    "communities_extract_df = pd.DataFrame(communities_df['features'])"
   ]
  },
  {
   "cell_type": "raw",
   "metadata": {},
   "source": [
    "noexist.append({'lon': [12345,23456]},\n",
    "               {'lat': [98765,98765]}\n",
    "              )"
   ]
  }
 ],
 "metadata": {
  "kernelspec": {
   "display_name": "Python 3",
   "language": "python",
   "name": "python3"
  },
  "language_info": {
   "codemirror_mode": {
    "name": "ipython",
    "version": 3
   },
   "file_extension": ".py",
   "mimetype": "text/x-python",
   "name": "python",
   "nbconvert_exporter": "python",
   "pygments_lexer": "ipython3",
   "version": "3.7.2"
  }
 },
 "nbformat": 4,
 "nbformat_minor": 2
}
