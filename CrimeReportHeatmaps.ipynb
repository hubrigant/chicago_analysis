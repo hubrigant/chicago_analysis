{
 "cells": [
  {
   "cell_type": "code",
   "execution_count": 1,
   "metadata": {},
   "outputs": [],
   "source": [
    "# load dependencies\n",
    "import csv\n",
    "import geopandas as gpd\n",
    "import pandas as pd\n",
    "import shapely\n",
    "import numpy as np\n",
    "from scipy import ndimage\n",
    "\n",
    "import matplotlib\n",
    "from matplotlib.pyplot import figure\n",
    "#import matplotlib.pylab as pylab\n",
    "import matplotlib.pyplot as plt\n",
    "from matplotlib import cm\n",
    "from matplotlib.ticker import LinearLocator, FormatStrFormatter\n",
    "from matplotlib.colors import ListedColormap\n",
    "from matplotlib.ticker import MaxNLocator"
   ]
  },
  {
   "cell_type": "code",
   "execution_count": 2,
   "metadata": {},
   "outputs": [],
   "source": [
    "save_plots = False"
   ]
  },
  {
   "cell_type": "code",
   "execution_count": 3,
   "metadata": {},
   "outputs": [],
   "source": [
    "# Do housekeeping between runs\n",
    "objects = ['neighborhoods',\n",
    "           'census_income_data',\n",
    "           'ids',\n",
    "           'date',\n",
    "           'ptype',\n",
    "           'category',\n",
    "           'location',\n",
    "           'arrest',\n",
    "           'community_area',\n",
    "           'geometry',\n",
    "           'crime_data',\n",
    "           'crimes']\n",
    "\n",
    "for thing in objects:\n",
    "    try:\n",
    "        del thing\n",
    "    except NameError as e:\n",
    "        print(\"Couldn't delete {0}\".format(thing))\n",
    "        print(e)\n",
    "        continue"
   ]
  },
  {
   "cell_type": "code",
   "execution_count": 5,
   "metadata": {},
   "outputs": [],
   "source": [
    "neighborhoods = gpd.read_file('data/community-areas.geojson')\n",
    "census_income_data = gpd.read_file('data/census-tracts-2000.geojson')"
   ]
  },
  {
   "cell_type": "code",
   "execution_count": null,
   "metadata": {},
   "outputs": [],
   "source": [
    "ids = []\n",
    "date = []\n",
    "ptype = []\n",
    "category = []\n",
    "location = []\n",
    "arrest = []\n",
    "community_area = []\n",
    "geometry = []"
   ]
  },
  {
   "cell_type": "code",
   "execution_count": null,
   "metadata": {},
   "outputs": [],
   "source": [
    "categories: dict = {\"THEFT\": \"property\",\n",
    "                    \"BURGLARY\": \"property\",\n",
    "                    \"MOTOR VEHICLE THEFT\": \"property\",\n",
    "                    \"ARSON\": \"property\",\n",
    "                    \"CRIMINAL DAMAGE\": \"property\",\n",
    "                    \"ROBBERY\": \"property\",\n",
    "                    \"ASSAULT\": \"person\",\n",
    "                    \"BATTERY\": \"person\",\n",
    "                    \"CRIM SEXUAL ASSAULT\": \"person\",\n",
    "                    \"HOMICIDE\": \"person\",\n",
    "                    \"INTIMIDATION\": \"person\",\n",
    "                    \"KIDNAPPING\": \"person\",\n",
    "                    \"OFFENSE INVOLVING CHILDREN\": \"person\",\n",
    "                    \"SEX OFFENSE\": \"person\",\n",
    "                    \"STALKING\": \"person\",\n",
    "                    \"GAMBLING\": \"vice\",\n",
    "                    \"NARCOTICS\": \"vice\",\n",
    "                    \"PROSTITUTION\": \"vice\",\n",
    "                    \"LIQUOR LAW VIOLATION\": \"vice\",\n",
    "                    \"OBSCENITY\": \"vice\",\n",
    "                    \"OTHER NARCOTIC VIOLATION\": \"vice\",\n",
    "                    \"PUBLIC INDECENCY\": \"vice\",\n",
    "                    \"OTHER OFFENSE\": \"other\",\n",
    "                    \"DECEPTIVE PRACTICE\": \"other\",\n",
    "                    \"WEAPONS VIOLATION\": \"other\",\n",
    "                    \"PUBLIC PEACE VIOLATION\": \"other\",\n",
    "                    \"CRIMINAL TRESPASS\": \"other\",\n",
    "                    \"INTERFERENCE WITH PUBLIC OFFICER\": \"other\",\n",
    "                    \"NON-CRIMINAL\": \"other\"\n",
    "                   }"
   ]
  },
  {
   "cell_type": "code",
   "execution_count": null,
   "metadata": {
    "scrolled": true
   },
   "outputs": [],
   "source": [
    "chunkfiles: list = ['crimes-2010-2011-0.csv', 'crimes-2010-2011-1.csv']\n",
    "\n",
    "min_lat = 45.\n",
    "max_lat = 41.\n",
    "min_lon = -91.\n",
    "max_lon = -91.\n",
    "\n",
    "for chunk in chunkfiles:\n",
    "    with open(chunk, \"r\") as crimes_fh:\n",
    "        crimereader = csv.reader(crimes_fh)\n",
    "        for row in crimereader:\n",
    "            try:\n",
    "                lat = float(row[19])\n",
    "                if lat == 36.619446395:\n",
    "                    continue\n",
    "                lon = float(row[20])\n",
    "                if lat < min_lat:\n",
    "                    min_lat = lat\n",
    "                    #print(\"Min lat found[{0}]: {1}x{2}\".format(row[0], lat, lon))\n",
    "                if lat > max_lat:\n",
    "                    max_lat = lat\n",
    "                    #print(\"Max lat found[{0}]: {1}x{2}\".format(row[0], lat, lon))\n",
    "                if lon < min_lon:\n",
    "                    min_lon = lon\n",
    "                    #print(\"Min lon found[{0}]: {1}x{2}\".format(row[0], lat, lon))\n",
    "                if lon > max_lon:\n",
    "                    max_lon = lon\n",
    "                    #print(\"Max lon found[{0}]: {1}x{2}\".format(row[0], lat, lon))\n",
    "            except Exception as e:\n",
    "                continue\n",
    "            ids.append(row[0])\n",
    "            date.append(row[2].split(\" \")[0])\n",
    "            ptype.append(row[5])\n",
    "            category.append(categories[row[5]])\n",
    "            location.append(row[7])\n",
    "            arrest.append(row[8])\n",
    "            community_area.append(row[9])\n",
    "            geometry.append(shapely.geometry.point.Point(lon, lat))"
   ]
  },
  {
   "cell_type": "code",
   "execution_count": null,
   "metadata": {},
   "outputs": [],
   "source": [
    "crime_data = {\n",
    "        'date': pd.Series(date, index=ids),\n",
    "        \"primary type\": pd.Series(ptype, index=ids, dtype=\"category\"),\n",
    "        \"category\": pd.Series(category, index=ids, dtype=\"category\"),\n",
    "        \"location description\": pd.Series(location, index=ids),\n",
    "        \"arrest\": pd.Series(arrest, index=ids),\n",
    "        \"community area\": pd.Series(community_area, index=ids),\n",
    "        \"geometry\": pd.Series(geometry, index=ids)\n",
    "        }"
   ]
  },
  {
   "cell_type": "code",
   "execution_count": null,
   "metadata": {
    "scrolled": true
   },
   "outputs": [],
   "source": [
    "crimes = gpd.GeoDataFrame(crime_data, index=ids)"
   ]
  },
  {
   "cell_type": "code",
   "execution_count": null,
   "metadata": {
    "scrolled": false
   },
   "outputs": [],
   "source": [
    "print(crimes.info())\n",
    "print(crimes['primary type'].unique())\n",
    "print(crimes['category'].unique())"
   ]
  },
  {
   "cell_type": "code",
   "execution_count": null,
   "metadata": {},
   "outputs": [],
   "source": [
    "with open(\"sorted-census-tract-median-household-income.csv\", \"r\") as tract_income:\n",
    "    tract_income_list = list(csv.DictReader(tract_income))"
   ]
  },
  {
   "cell_type": "code",
   "execution_count": null,
   "metadata": {},
   "outputs": [],
   "source": [
    "tract_info_df = pd.DataFrame(tract_income_list)\n",
    "with_incomes = pd.merge(census_income_data, tract_info_df, on=\"census_tra\")"
   ]
  },
  {
   "cell_type": "code",
   "execution_count": null,
   "metadata": {},
   "outputs": [],
   "source": [
    "def heatmap(d, bins=(100,100), smoothing=1.3, cmap='jet'):\n",
    "    def getx(pt):\n",
    "        return pt.coords[0][0]\n",
    "\n",
    "    def gety(pt):\n",
    "        return pt.coords[0][1]\n",
    "\n",
    "    x = list(d.geometry.apply(getx))\n",
    "    y = list(d.geometry.apply(gety))\n",
    "    heatmap, xedges, yedges = np.histogram2d(y, x, bins=bins)\n",
    "    extent = [yedges[0], yedges[-1], xedges[-1], xedges[0]]\n",
    "\n",
    "    logheatmap = np.log(heatmap)\n",
    "    logheatmap[np.isneginf(logheatmap)] = 0\n",
    "    logheatmap = ndimage.filters.gaussian_filter(logheatmap, smoothing, mode='nearest')\n",
    "    return (logheatmap, extent)\n",
    "    #plt.imshow(logheatmap, cmap=cmap, extent=extent)\n",
    "    #plt.colorbar()\n",
    "    #plt.gca().invert_yaxis()\n",
    "    #plt.show()"
   ]
  },
  {
   "cell_type": "code",
   "execution_count": null,
   "metadata": {
    "scrolled": true
   },
   "outputs": [],
   "source": [
    "fig, ax = plt.subplots(figsize=(20, 20))\n",
    "\n",
    "income_ranges = np.array([\"\",\n",
    "                          \"$0      - $20,000\",\n",
    "                          \"$20,001 - $40,000\",\n",
    "                          \"$40,001 - $60,000\",\n",
    "                          \"$60,001 - $80,000\",\n",
    "                          \"$80,001 +\"\n",
    "                         ])\n",
    "\n",
    "ax.set_aspect('equal')\n",
    "ax.axis('off')\n",
    "    \n",
    "#cMap = ListedColormap([\"#333333\", \"#555555\", \"#999999\", \"#BBBBBB\", \"#EEEEEE\"])\n",
    "cMap = plt.get_cmap('Greys')\n",
    "levels = np.linspace(0, 5, 6, dtype=int)\n",
    "norm = matplotlib.colors.BoundaryNorm(levels, ncolors=cMap.N, clip=True)\n",
    "fmt = matplotlib.ticker.FuncFormatter(lambda x, pos: income_ranges[::-1][norm(x)])\n",
    "#wi_plot = with_incomes.plot(ax=ax, column=\"income_range\",  cmap=cMap, legend=True)\n",
    "#cb1 = matplotlib.colorbar.ColorbarBase(cmap=\"Greys\",\n",
    "#                                       norm=norm,\n",
    "#                                       orientation='horizontal', ax=ax)\n",
    "\n",
    "ax.set_title('Median Household Income by Census Tract - 2000')\n",
    "with_incomes.plot(ax=ax, column=\"income_range\",  cmap=cMap)\n",
    "neighborhoods.plot(ax=ax, edgecolor='black', color='none')\n",
    "\n",
    "if save_plots:\n",
    "    plt.savefig('census-mhi.png', bbox_inches='tight')\n",
    "else:\n",
    "    plt.show()"
   ]
  },
  {
   "cell_type": "code",
   "execution_count": null,
   "metadata": {},
   "outputs": [],
   "source": [
    "fig, ax = plt.subplots(figsize=(20, 20))\n",
    "\n",
    "ax.set_title('Reports of Crimes Against Persons')\n",
    "ax.set_aspect('equal')\n",
    "ax.axis('off')\n",
    "my_heatmap, extent = heatmap(crimes.loc[lambda crimes: crimes['category'] == 'person', :],\n",
    "                             bins=(100, 100), smoothing=1.3, cmap=cMap)\n",
    "plt.imshow(my_heatmap, extent=extent, cmap=cMap)\n",
    "plt.gca().invert_yaxis()\n",
    "neighborhoods.plot(ax=ax, edgecolor='black', color='none')\n",
    "\n",
    "if save_plots:\n",
    "    plt.savefig('police-reports-person.png', bbox_inches='tight')\n",
    "else:\n",
    "    plt.show()"
   ]
  },
  {
   "cell_type": "code",
   "execution_count": null,
   "metadata": {},
   "outputs": [],
   "source": [
    "fig, ax = plt.subplots(figsize=(20, 20))\n",
    "\n",
    "ax.set_title('Reports of Property Crimes')\n",
    "ax.set_aspect('equal')\n",
    "ax.axis('off')\n",
    "my_heatmap, extent = heatmap(crimes.loc[lambda crimes: crimes['category'] == 'property', :],\n",
    "                             bins=(100, 100), smoothing=1.3, cmap=cMap)\n",
    "plt.imshow(my_heatmap, extent=extent, cmap=cMap)\n",
    "plt.gca().invert_yaxis()\n",
    "neighborhoods.plot(ax=ax, edgecolor='black', color='none')\n",
    "\n",
    "if save_plots:\n",
    "    plt.savefig('police-reports-property.png', bbox_inches='tight')\n",
    "else:\n",
    "    plt.show()"
   ]
  },
  {
   "cell_type": "code",
   "execution_count": null,
   "metadata": {},
   "outputs": [],
   "source": [
    "fig, ax = plt.subplots(figsize=(20, 20))\n",
    "\n",
    "ax.set_title('Reports of Vice Crimes')\n",
    "ax.set_aspect('equal')\n",
    "ax.axis('off')\n",
    "my_heatmap, extent = heatmap(crimes.loc[lambda crimes: crimes['category'] == 'vice', :],\n",
    "                             bins=(100, 100), smoothing=1.3, cmap=cMap)\n",
    "plt.imshow(my_heatmap, extent=extent, cmap=cMap)\n",
    "plt.gca().invert_yaxis()\n",
    "neighborhoods.plot(ax=ax, edgecolor='black', color='none')\n",
    "\n",
    "if save_plots:\n",
    "    plt.savefig('police-reports-vice.png', bbox_inches='tight')\n",
    "else:\n",
    "    plt.show()"
   ]
  },
  {
   "cell_type": "code",
   "execution_count": null,
   "metadata": {},
   "outputs": [],
   "source": [
    "fig, ax = plt.subplots(figsize=(20, 20))\n",
    "\n",
    "ax.set_title('Other Police Reports')\n",
    "ax.set_aspect('equal')\n",
    "ax.axis('off')\n",
    "my_heatmap, extent = heatmap(crimes.loc[lambda crimes: crimes['category'] == 'other', :],\n",
    "                             bins=(100, 100), smoothing=1.3, cmap=cMap)\n",
    "plt.imshow(my_heatmap, extent=extent, cmap=cMap)\n",
    "plt.gca().invert_yaxis()\n",
    "neighborhoods.plot(ax=ax, edgecolor='black', color='none')\n",
    "\n",
    "if save_plots:\n",
    "    plt.savefig('police-reports-other.png', bbox_inches='tight')\n",
    "else:\n",
    "    plt.show()"
   ]
  },
  {
   "cell_type": "code",
   "execution_count": null,
   "metadata": {},
   "outputs": [],
   "source": [
    "fig, ax = plt.subplots(figsize=(20, 20))\n",
    "ax.set_aspect('equal')\n",
    "ax.set_title('Heatmap of All Police Reports - 2010 through 2011')\n",
    "ax.axis(\"off\")\n",
    "#plt.imshow(logheatmap, cmap=cMap, extent=extent)\n",
    "my_heatmap, extent = heatmap(crimes, bins=(100, 100), smoothing=1.3, cmap=cMap)\n",
    "plt.imshow(my_heatmap, extent=extent, cmap=cMap)\n",
    "plt.gca().invert_yaxis()\n",
    "neighborhoods.plot(ax=ax, edgecolor='black', color='none')\n",
    "\n",
    "if save_plots:\n",
    "    plt.savefig('police-reports-all.png', bbox_inches='tight')\n",
    "else:\n",
    "    plt.show()"
   ]
  }
 ],
 "metadata": {
  "kernelspec": {
   "display_name": "Python 3",
   "language": "python",
   "name": "python3"
  },
  "language_info": {
   "codemirror_mode": {
    "name": "ipython",
    "version": 3
   },
   "file_extension": ".py",
   "mimetype": "text/x-python",
   "name": "python",
   "nbconvert_exporter": "python",
   "pygments_lexer": "ipython3",
   "version": "3.7.2"
  }
 },
 "nbformat": 4,
 "nbformat_minor": 2
}
